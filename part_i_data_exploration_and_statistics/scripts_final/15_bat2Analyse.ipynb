{
 "cells": [
  {
   "cell_type": "markdown",
   "id": "4e923f46-75b9-41ff-9832-2bfa4fc7c494",
   "metadata": {},
   "source": [
    "# Analyse des Einflusses von Battery2 auf Battery1"
   ]
  },
  {
   "cell_type": "code",
   "execution_count": null,
   "id": "4cbba58c-ef09-43e3-bb34-b4d821401814",
   "metadata": {},
   "outputs": [],
   "source": [
    "### Importieren der verwendeten Bibilotheken\n",
    "import os\n",
    "import glob\n",
    "\n",
    "import pandas as pd\n",
    "import numpy as np\n",
    "\n",
    "\n",
    "import matplotlib.pyplot as plt"
   ]
  },
  {
   "cell_type": "markdown",
   "id": "dba6299d-8724-4ff9-b504-8a1f8b4dc9c6",
   "metadata": {
    "tags": []
   },
   "source": [
    "### Einlesen der benötigten Daten"
   ]
  },
  {
   "cell_type": "code",
   "execution_count": null,
   "id": "13182cc3-86a6-406b-8957-0cc08225924b",
   "metadata": {},
   "outputs": [],
   "source": [
    "pathToPickle_battery2_state = os.path.join(\"..\", \"..\", \"data\", \"TUDA_battery_state\", \"TUDA_battery_states_battery2_state.pickle\")\n",
    "\n",
    "# Einlesen der Daten\n",
    "df_bat2Ana = pd.read_pickle(pathToPickle_battery2_state)\n",
    "\n",
    "# Den \"wagon_IDs\" einen \"wagon_type\" mittels Mapping zuordnen\n",
    "pathToMappingPickle = os.path.join(\"..\", \"..\", \"data\", \"mappingDf.pickle\")\n",
    "mappingdf = pd.read_pickle(pathToMappingPickle)\n",
    "df_bat2Ana = pd.merge(df_bat2Ana, mappingdf, on = \"wagon_ID\")\n",
    "\n",
    "# provider ist doppelt und wird gedroppt\n",
    "df_bat2Ana.drop(\"provider_y\", axis=1, inplace=True)\n",
    "df_bat2Ana.rename(columns={'provider_x': 'provider'}, inplace=True)"
   ]
  },
  {
   "cell_type": "markdown",
   "id": "7cc1d0e3-755f-444b-a3fc-ed3d15a89a34",
   "metadata": {},
   "source": [
    "### Aufteilen der Wagen mit Battery2 nach Wagontypes"
   ]
  },
  {
   "cell_type": "code",
   "execution_count": null,
   "id": "f7b701bb-03ef-46f9-b9b3-13639ddff4e4",
   "metadata": {},
   "outputs": [],
   "source": [
    "# Liste mit allen wagon_types wird erstellt\n",
    "list_bat2_wagonTypes = np.sort(df_bat2Ana[\"wagon_type\"].drop_duplicates().to_numpy())\n",
    "list_bat2_wagonTypes"
   ]
  },
  {
   "cell_type": "code",
   "execution_count": null,
   "id": "d44b4f93-2c60-4c0c-b2c2-9ccc9269120c",
   "metadata": {},
   "outputs": [],
   "source": [
    "# Liste mit einem DataFrame für jeden 'wagon_type' wird erstellt\n",
    "df_bat2_state_list = []\n",
    "for wagon_type in list_bat2_wagonTypes:\n",
    "    df_bat2_state_list.append(df_bat2Ana.loc[df_bat2Ana['wagon_type'] == wagon_type])\n",
    "df_bat2_state_list[4].head()\n",
    "    "
   ]
  },
  {
   "cell_type": "code",
   "execution_count": null,
   "id": "6c5ad143-8f41-403d-9f8c-fa9011951c3d",
   "metadata": {},
   "outputs": [],
   "source": [
    "def CalculateBatteryStateStatistics(dataFrame, BatteryTypeStr = 'battery_state'):\n",
    "    '''\n",
    "    Funktion, die sowohl für Battery als auch Battery2 Statistiken\n",
    "    für einen bestinnen Zeitraum erstellen kann\n",
    "    input:\n",
    "        dataFrame\n",
    "        'battery_state' / 'battery2_state' --> Auswahl des Batteriezustands; Standard: 'battery_state'\n",
    "    '''\n",
    "    #bins erstellen, in die die Daten eingeteilt und anschließend gemittelt werden sollen\n",
    "    binSize = 1 # hier kann die Bingröße verändert werden; sinnvolle Werte sind binSize = 1 für einen Tag und binSize = 7 für eine Woche\n",
    "    binsSeconds = np.arange(0, 45*7*24*60*60/binSize, binSize*24*60*60)\n",
    "    binsSecondsLabels = [i for i, bin in enumerate(binsSeconds)]\n",
    "    binsSeconds = binsSeconds.tolist()\n",
    "    binsSecondsLabels.pop() # ein Wert muss entfernt werden, um gleich viele Labels wie bins zu definieren!\n",
    "    \n",
    "    # Daten mittels der timestamps in bins einteilen (jeweils immer genau einen bin zuweisen)\n",
    "    dataFrame['bin'] = pd.cut(dataFrame['timestamp_measure_battery'], bins = binsSeconds, labels = binsSecondsLabels)\n",
    "    \n",
    "    batteryStateMeans = []\n",
    "    for binNumber in binsSecondsLabels:\n",
    "        # prüft für jede Reihe ob der bin der entsprechenden binnumber die gerade ausgewählt ist entspricht\n",
    "        dfFiltered = dataFrame.loc[dataFrame['bin'] == binNumber] \n",
    "     \n",
    "        batteryStateMeans.append([binNumber, dfFiltered[BatteryTypeStr].mean(), dfFiltered[BatteryTypeStr].std(), len(dfFiltered)])\n",
    "    #DataFrame aus den Werten zusammensetzen\n",
    "    batteryStateMeansDf = pd.DataFrame(batteryStateMeans, columns = ['start_day_bin', BatteryTypeStr + '_mean',BatteryTypeStr + '_std', 'binlength'])\n",
    "    \n",
    "    return batteryStateMeansDf"
   ]
  },
  {
   "cell_type": "markdown",
   "id": "3015d301-8333-4786-b8c0-ec90496da7c6",
   "metadata": {},
   "source": [
    "### Statistische Analyse für die verschiedenen 'wagon_types'"
   ]
  },
  {
   "cell_type": "code",
   "execution_count": null,
   "id": "54178b21-c0d8-48e3-9d1f-b616a877cbd8",
   "metadata": {},
   "outputs": [],
   "source": [
    "bat2statistics = []\n",
    "\n",
    "for dfBattery2State in df_bat2_state_list:\n",
    "    bat2statistics.append(CalculateBatteryStateStatistics(df_bat2Ana, 'battery2_state'))\n",
    "bat2statistics[4].head()"
   ]
  },
  {
   "cell_type": "markdown",
   "id": "41088bc1-5124-405d-8786-7b458bfb2965",
   "metadata": {},
   "source": [
    "___"
   ]
  },
  {
   "cell_type": "markdown",
   "id": "3ba22280-4075-44ca-97bd-e11f022d80a1",
   "metadata": {
    "tags": []
   },
   "source": [
    "# Battery2 Analyse"
   ]
  },
  {
   "cell_type": "code",
   "execution_count": null,
   "id": "6e3276a9-1f30-404d-9885-67ba2813d1d7",
   "metadata": {},
   "outputs": [],
   "source": [
    "# Erstellung der Battery2 df\n",
    "battery2_state_mean_df = CalculateBatteryStateStatistics(df_bat2Ana, 'battery2_state')\n",
    "battery2_state_mean_df"
   ]
  },
  {
   "cell_type": "code",
   "execution_count": null,
   "id": "d7140a6e-7ccb-48c4-a33b-32d422b8fc56",
   "metadata": {},
   "outputs": [],
   "source": [
    "#sorted(pd.unique(df_battery2_state['battery2_state']))\n",
    "# Es liegen im Rohdatensatz alle Werte von 0-100 % vor (natürliche Zahlen)"
   ]
  },
  {
   "cell_type": "code",
   "execution_count": null,
   "id": "1810d5b0-1755-4488-ae0d-b8c812f7d99c",
   "metadata": {},
   "outputs": [],
   "source": [
    "#sorted(pd.unique(battery2_state_mean_df['battery2_state_mean']))\n",
    "# Im bearbeiteten Datensatz liegen von 11 bis 99 reelle Zahlen vor"
   ]
  },
  {
   "cell_type": "markdown",
   "id": "a00857a4-dfbd-472b-9554-40281e296f34",
   "metadata": {},
   "source": [
    "### Statistische Analyse des gesamten DataFrames von battery2 (ohne Einteilung / Zuweisung in verschiedene Kategorien)"
   ]
  },
  {
   "cell_type": "code",
   "execution_count": null,
   "id": "b842f2cb-de63-49a9-9195-5460c5fbafe3",
   "metadata": {},
   "outputs": [],
   "source": [
    "# Bins herausnehmen, an denen zu wenige Daten vorliegen\n",
    "battery2_state_mean_df.drop(battery2_state_mean_df.loc[battery2_state_mean_df['binlength']<=3000].index, inplace=True)\n"
   ]
  },
  {
   "cell_type": "code",
   "execution_count": null,
   "id": "4c523308-912f-4c6f-a735-cce359dc9ee5",
   "metadata": {},
   "outputs": [],
   "source": [
    "fig, ax = plt.subplots(ncols = 2, figsize=(30,7))\n",
    "ax[0].plot(battery2_state_mean_df['start_day_bin'], battery2_state_mean_df['battery2_state_mean'], marker='o')\n",
    "ax[1].scatter(battery2_state_mean_df['start_day_bin'], battery2_state_mean_df['battery2_state_mean'], c = battery2_state_mean_df['binlength'], marker='o', cmap = 'jet')\n"
   ]
  },
  {
   "cell_type": "markdown",
   "id": "dee01bef-105a-4217-9531-76de46695fff",
   "metadata": {},
   "source": [
    "### Battery2 State List erstellen"
   ]
  },
  {
   "cell_type": "code",
   "execution_count": null,
   "id": "9fc970e5-8e58-4664-99af-1f6f397df6e6",
   "metadata": {},
   "outputs": [],
   "source": [
    "# Daten mittels der timestamps in bins einteilen (jeweils immer 1 Tag einen bin zuweisen)\n",
    "df_battery_state['bin'] = pd.cut(df_battery_state['timestamp_measure_battery'], bins = bins_seconds, labels = bins_seconds_labels)"
   ]
  },
  {
   "cell_type": "code",
   "execution_count": null,
   "id": "b6c794cb-d479-4e36-aaa8-c7987ca4040f",
   "metadata": {},
   "outputs": [],
   "source": [
    "# Liste mit allen wagon_types wird erstellt\n",
    "wagon_type_list2 = np.sort(df_battery_state[\"wagon_type\"].drop_duplicates().to_numpy())"
   ]
  },
  {
   "cell_type": "code",
   "execution_count": null,
   "id": "6ee96b6f-a430-4d17-9a13-6bdd11385832",
   "metadata": {},
   "outputs": [],
   "source": [
    "# Liste mit einem DataFrame für jeden 'wagon_type' wird erstellt\n",
    "df_battery2_state_list = []\n",
    "for wagon_type in wagon_type_list2:\n",
    "    df_battery2_state_wagon_type = df_battery_state.loc[df_battery_state['wagon_type'] == wagon_type]\n",
    "    df_battery2_state_list.append(df_battery2_state_wagon_type)\n",
    "    "
   ]
  },
  {
   "cell_type": "markdown",
   "id": "a4f5e0b1-a7dc-4284-a2d4-d2540effbcd5",
   "metadata": {},
   "source": [
    "### Statistische Analyse für die verschiedenen 'wagon_types'"
   ]
  },
  {
   "cell_type": "code",
   "execution_count": null,
   "id": "d02378c9-af0f-40cf-b28b-7b4552ff30e5",
   "metadata": {},
   "outputs": [],
   "source": [
    "battery2StatisticsWagonTypesList = []\n",
    "\n",
    "for dfBattery2State in df_bat2_state_list:\n",
    "    battery2StatisticsWagonTypesList.append(CalculateBatteryStateStatistics(dfBattery2State, 'battery2_state'))\n"
   ]
  },
  {
   "cell_type": "code",
   "execution_count": null,
   "id": "c8fedfa9-fb9f-4d4d-a41a-e24d59af590b",
   "metadata": {},
   "outputs": [],
   "source": [
    "battery2StatisticsWagonTypesList[0].head()"
   ]
  },
  {
   "cell_type": "code",
   "execution_count": null,
   "id": "b9e83d66-51a3-45ce-be1f-8ccf6eecbe01",
   "metadata": {},
   "outputs": [],
   "source": [
    "fig, ax = plt.subplots(ncols = 4, nrows=1, figsize=(7,3), sharex=True, sharey=True, constrained_layout=True)\n",
    "ax = ax.flatten()\n",
    "\n",
    "i = 0\n",
    "for i, battery2StatisticWagonType in enumerate(battery2StatisticsWagonTypesList[0:4]):\n",
    "    # Tage, an denen zu wenige Messwerte vorliegen vernachlässigen\n",
    "    battery2StatisticWagonType.drop(battery2StatisticWagonType.loc[battery2StatisticWagonType['binlength']<=1000].index, inplace=True)\n",
    "\n",
    "    ax[i].plot(battery2StatisticWagonType['start_day_bin'], battery2StatisticWagonType['battery2_state_mean'], marker='o')\n",
    "    ax[i].plot(battery2StatisticWagonType['start_day_bin'], battery2StatisticWagonType['battery2_state_mean']+battery2StatisticWagonType['battery2_state_std'], color='grey')\n",
    "    ax[i].plot(battery2StatisticWagonType['start_day_bin'], battery2StatisticWagonType['battery2_state_mean']-battery2StatisticWagonType['battery2_state_std'], color='grey')\n",
    "    \n",
    "    ax[i].fill_between(battery2StatisticWagonType['start_day_bin'], battery2StatisticWagonType['battery2_state_mean']+battery2StatisticWagonType['battery2_state_std'],\n",
    "                       battery2StatisticWagonType['battery2_state_mean']-battery2StatisticWagonType['battery2_state_std'], color='lightgrey' , alpha=0.3)\n",
    "\n",
    "    \n",
    "    ax[i].set_title(f'Wagontyp {i+2}')\n",
    "    ax[i].grid(True)\n",
    "    ax[i].set_xlabel('Tag')\n",
    "     \n",
    "ax[0].set_ylabel(r'Batterieladezustand in $\\%$')\n",
    "# Speichern der Daten falls nötig, Pfad angeben\n",
    "#fig.savefig(os.path.join('..', '..', 'data', 'battery2.pdf'))"
   ]
  },
  {
   "cell_type": "markdown",
   "id": "4a619966-fa78-4354-b908-3ef0f239f137",
   "metadata": {},
   "source": [
    "___"
   ]
  },
  {
   "cell_type": "code",
   "execution_count": null,
   "id": "8f133576-a82a-447e-9462-a4dd26b78797",
   "metadata": {},
   "outputs": [],
   "source": [
    "df_bat2Ana['Ausfall_Batterie'] = 0\n",
    "df_bat2Ana['Ausfall_Batterie'].loc[df_bat2Ana.battery_state==0] = 1"
   ]
  },
  {
   "cell_type": "code",
   "execution_count": null,
   "id": "85b63336-d331-4070-b4c3-6f271159ded5",
   "metadata": {},
   "outputs": [],
   "source": [
    "len_0 = len(df_bat2Ana.loc[df_bat2Ana.Ausfall_Batterie == 1])\n",
    "len_n0 = len(df_bat2Ana.loc[df_bat2Ana.Ausfall_Batterie == 0])\n",
    "\n",
    "print('Es sind '+str(len_0/(len_0+len_n0)*100)+' % der Battery_state Einträge von Provider 35 gleich 0.')\n",
    "print('Absolut sind '+str(len_0)+' Einträge der batery_state gleich 0.')"
   ]
  },
  {
   "cell_type": "code",
   "execution_count": null,
   "id": "5f448aab-52e2-414b-82d9-7f98473c7569",
   "metadata": {},
   "outputs": [],
   "source": []
  },
  {
   "cell_type": "code",
   "execution_count": null,
   "id": "affe017e-c53d-4de6-8316-850c148e0eda",
   "metadata": {},
   "outputs": [],
   "source": [
    "df_bat2Ana['Ausfall_Batterie'] = 0\n",
    "df_bat2Ana['Ausfall_Batterie'].loc[df_bat2Ana.battery2_state==0] = 1"
   ]
  },
  {
   "cell_type": "code",
   "execution_count": null,
   "id": "100f5e7a-2915-4e0e-a3e1-9ac6f9828678",
   "metadata": {},
   "outputs": [],
   "source": [
    "len_0 = len(df_bat2Ana.loc[df_bat2Ana.Ausfall_Batterie == 1])\n",
    "len_n0 = len(df_bat2Ana.loc[df_bat2Ana.Ausfall_Batterie == 0])\n",
    "\n",
    "print('Es sind '+str(len_0/(len_0+len_n0)*100)+' % der Battery2_state Einträge von Provider 35 gleich 0.')\n",
    "print('Absolut sind '+str(len_0)+' Einträge der batery2_state gleich 0.')"
   ]
  },
  {
   "cell_type": "markdown",
   "id": "5b35f409-77d3-496a-827c-d803027a8065",
   "metadata": {},
   "source": [
    "### Ermittlung des prozentualen Anteils von battery2 zu battery von Provider 35"
   ]
  },
  {
   "cell_type": "code",
   "execution_count": null,
   "id": "af1921c4-8a80-4ff1-93fd-eee20cb606bb",
   "metadata": {},
   "outputs": [],
   "source": [
    "len_nan = len(df_bat2Ana[df_bat2Ana.battery2_state.isna()])\n",
    "len_all = len(df_bat2Ana.loc[(df_bat2Ana['provider'] == 35)].wagon_ID.unique())\n",
    "ratio_bat = (len_all-len_nan) / len_all\n",
    "print(str(ratio_bat*100)+' % der von Provider 35 zur Verfügung gestellten Wagons besitzen eine zweite Batterie!')"
   ]
  },
  {
   "cell_type": "code",
   "execution_count": null,
   "id": "e0bd26e0-f7a1-4b08-868a-44e687ee1188",
   "metadata": {},
   "outputs": [],
   "source": []
  },
  {
   "cell_type": "code",
   "execution_count": null,
   "id": "23f82079",
   "metadata": {},
   "outputs": [],
   "source": []
  }
 ],
 "metadata": {
  "kernelspec": {
   "display_name": "Python 3 (ipykernel)",
   "language": "python",
   "name": "python3"
  },
  "language_info": {
   "codemirror_mode": {
    "name": "ipython",
    "version": 3
   },
   "file_extension": ".py",
   "mimetype": "text/x-python",
   "name": "python",
   "nbconvert_exporter": "python",
   "pygments_lexer": "ipython3",
   "version": "3.9.7"
  }
 },
 "nbformat": 4,
 "nbformat_minor": 5
}
