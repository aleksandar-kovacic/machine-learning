{
 "cells": [
  {
   "cell_type": "markdown",
   "id": "bd5d3596-4ca1-45be-baad-302472334799",
   "metadata": {
    "tags": []
   },
   "source": [
    "### Zuordnung der Provider zu den Wagentypen"
   ]
  },
  {
   "cell_type": "code",
   "execution_count": null,
   "id": "aca5cffd-4c93-44a6-b221-f19101227808",
   "metadata": {},
   "outputs": [],
   "source": [
    "### Importieren der verwendeten Bibilotheken\n",
    "import os\n",
    "import glob\n",
    "from collections import Counter\n",
    "\n",
    "import pandas as pd\n",
    "import numpy as np\n",
    "\n",
    "import matplotlib.pyplot as plt\n",
    "import matplotlib.patches as mpatches"
   ]
  },
  {
   "cell_type": "code",
   "execution_count": null,
   "id": "830f1d78-4798-4afa-b4d9-58446569dd19",
   "metadata": {},
   "outputs": [],
   "source": [
    "plt.style.use(['mystyle'])"
   ]
  },
  {
   "cell_type": "code",
   "execution_count": null,
   "id": "d35b11fb-337f-4cbe-9397-4a584fc8fb31",
   "metadata": {},
   "outputs": [],
   "source": [
    "#wagon_typeList = np.sort(df[\"wagon_type\"].drop_duplicates().to_numpy())\n",
    "#wagon_typeList"
   ]
  },
  {
   "cell_type": "code",
   "execution_count": null,
   "id": "e0c91686-0433-4bdc-a67e-727c371af7da",
   "metadata": {},
   "outputs": [],
   "source": [
    "pathToPickleMapping = os.path.join(\"..\", \"..\", \"data\", \"mappingdf.pickle\")\n",
    "mappingdf = pd.read_pickle(pathToPickleMapping)"
   ]
  },
  {
   "cell_type": "code",
   "execution_count": null,
   "id": "584c8df5-acf5-424d-966a-28b104b87a4a",
   "metadata": {},
   "outputs": [],
   "source": [
    "mappingdf"
   ]
  },
  {
   "cell_type": "code",
   "execution_count": null,
   "id": "d60067fc-7736-4f1f-bcad-cf977b885a36",
   "metadata": {},
   "outputs": [],
   "source": [
    "providerList = np.sort(mappingdf[\"provider\"].drop_duplicates().to_numpy())\n",
    "providerList = np.delete(providerList ,0)\n",
    "\n",
    "\n",
    "dfTemps = []\n",
    "for provider in providerList:\n",
    "    dfTemps.append(mappingdf[mappingdf['provider']==provider])\n"
   ]
  },
  {
   "cell_type": "code",
   "execution_count": null,
   "id": "4d10252d-d69f-4bcb-90e2-58c2630ae0c1",
   "metadata": {},
   "outputs": [],
   "source": [
    "#plt.style.use('seaborn-deep')\n",
    "fig, ax = plt.subplots(nrows=1, ncols=1, constrained_layout=True, figsize=(3.5,3))\n",
    "bins=np.arange(10)-0.5\n",
    "bins = np.delete(bins, 0)\n",
    "ax.hist([dfTemps[0]['wagon_type'], dfTemps[1]['wagon_type'], dfTemps[2]['wagon_type']], stacked = True, label = ['Provider 32', 'Provider 35', 'Provider 37'], rwidth=0.7, bins=bins)\n",
    "# ax.set_title('Anzahl Wagons, geordnet nach Wagontypen,\\n eingeteilt nach Provider')\n",
    "ax.set_ylabel('Anzahl Wagons')\n",
    "ax.set_xlabel('Wagontyp')\n",
    "ax.grid(False)\n",
    "legend_box = (0.145, 1.02, 0.855, 0.7)\n",
    "legend = fig.legend(fontsize='small', bbox_to_anchor=legend_box, ncol=3, loc=3, borderaxespad=0.0, mode='expand', handlelength=1)\n"
   ]
  },
  {
   "cell_type": "code",
   "execution_count": null,
   "id": "ab99a163-9d12-4cd3-9bdf-9e24c246c935",
   "metadata": {},
   "outputs": [],
   "source": []
  }
 ],
 "metadata": {
  "kernelspec": {
   "display_name": "Python 3 (ipykernel)",
   "language": "python",
   "name": "python3"
  },
  "language_info": {
   "codemirror_mode": {
    "name": "ipython",
    "version": 3
   },
   "file_extension": ".py",
   "mimetype": "text/x-python",
   "name": "python",
   "nbconvert_exporter": "python",
   "pygments_lexer": "ipython3",
   "version": "3.9.7"
  }
 },
 "nbformat": 4,
 "nbformat_minor": 5
}
