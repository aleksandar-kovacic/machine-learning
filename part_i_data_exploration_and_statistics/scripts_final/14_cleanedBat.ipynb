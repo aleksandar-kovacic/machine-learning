{
 "cells": [
  {
   "cell_type": "markdown",
   "id": "101432ff",
   "metadata": {},
   "source": [
    "## In diesem Skript werden die bereinigten Batteriedaten der Battery1 analyisiert"
   ]
  },
  {
   "cell_type": "code",
   "execution_count": null,
   "id": "ad7c797c-0526-407d-a07c-c95112a84fe4",
   "metadata": {},
   "outputs": [],
   "source": [
    "### Importieren der verwendeten Bibilotheken\n",
    "import os\n",
    "import glob\n",
    "\n",
    "import pandas as pd\n",
    "import numpy as np\n",
    "\n",
    "\n",
    "import matplotlib.pyplot as plt"
   ]
  },
  {
   "cell_type": "code",
   "execution_count": null,
   "id": "afc1ecbc-2207-410b-ad41-52273819e0a4",
   "metadata": {},
   "outputs": [],
   "source": [
    "plt.style.use(['mystyle'])"
   ]
  },
  {
   "cell_type": "markdown",
   "id": "f30282d6-17d7-483f-b138-8181dd48fb94",
   "metadata": {
    "tags": []
   },
   "source": [
    "### Einlesen der benötigten Daten"
   ]
  },
  {
   "cell_type": "code",
   "execution_count": null,
   "id": "fd38ba03-00f3-4497-a712-903440177325",
   "metadata": {},
   "outputs": [],
   "source": [
    "pathToPickle_battery_state = os.path.join(\"..\", \"..\", \"data\", \"TUDA_battery_state\", \"all_TUDA_battery_states_battery_state_clean.pickle\")\n",
    "\n",
    "# Einlesen der Daten\n",
    "df_battery_state = pd.read_pickle(pathToPickle_battery_state)\n",
    "\n",
    "# Den \"wagon_IDs\" einen \"wagon_type\" mittels Mapping zuordnen\n",
    "pathToMappingPickle = os.path.join(\"..\", \"..\", \"data\", \"mappingDf.pickle\")\n",
    "mappingdf = pd.read_pickle(pathToMappingPickle)\n",
    "df_battery_state = pd.merge(df_battery_state, mappingdf, on = \"wagon_ID\")\n",
    "\n",
    "# provider ist doppelt und wird gedroppt\n",
    "df_battery_state.drop(\"provider_y\", axis=1, inplace=True)\n",
    "df_battery_state.rename(columns={'provider_x': 'provider'}, inplace=True)"
   ]
  },
  {
   "cell_type": "markdown",
   "id": "979db15f-7485-4fda-96b7-0403684d8475",
   "metadata": {
    "tags": []
   },
   "source": [
    "### Daten auf die verschiednene Wagon Typen aufteilen"
   ]
  },
  {
   "cell_type": "code",
   "execution_count": null,
   "id": "54399f94-c1f8-4bf3-ac7a-bb77c5f17ca0",
   "metadata": {},
   "outputs": [],
   "source": [
    "# Liste mit allen wagon_types wird erstellt\n",
    "wagon_type_list = np.sort(df_battery_state[\"wagon_type\"].drop_duplicates().to_numpy())\n",
    "wagon_type_list"
   ]
  },
  {
   "cell_type": "code",
   "execution_count": null,
   "id": "b7e28f3b-402c-40e3-8e0f-a061374b84be",
   "metadata": {},
   "outputs": [],
   "source": [
    "# Liste mit einem DataFrame für jeden 'wagon_type' wird erstellt\n",
    "df_battery_state_list = []\n",
    "for wagon_type in wagon_type_list:\n",
    "    df_battery_state_wagon_type = df_battery_state.loc[df_battery_state['wagon_type'] == wagon_type]\n",
    "    df_battery_state_list.append(df_battery_state_wagon_type)\n",
    "    "
   ]
  },
  {
   "cell_type": "markdown",
   "id": "38e3620c-d759-4ebb-94ff-14758ee8e1b8",
   "metadata": {},
   "source": [
    "### Vorlage für die statistischen Analysen"
   ]
  },
  {
   "cell_type": "code",
   "execution_count": null,
   "id": "6c5ad143-8f41-403d-9f8c-fa9011951c3d",
   "metadata": {},
   "outputs": [],
   "source": [
    "def CalculateBatteryStateStatistics(dataFrame, BatteryTypeStr = 'battery_state'):\n",
    "    '''\n",
    "    Funktion, die sowohl für Battery als auch Battery2 Statistiken\n",
    "    für einen bestinnen Zeitraum erstellen kann\n",
    "    input:\n",
    "        dataFrame\n",
    "        'battery_state' / 'battery2_state' --> Auswahl des Batteriezustands; Standard: 'battery_state'\n",
    "    '''\n",
    "    #bins erstellen, in die die Daten eingeteilt und anschließend gemittelt werden sollen\n",
    "    binSize = 1 # hier kann die Bingröße verändert werden; sinnvolle Werte sind binSize = 1 für einen Tag und binSize = 7 für eine Woche\n",
    "    binsSeconds = np.arange(0, 50*7*24*60*60/binSize, binSize*24*60*60)\n",
    "    binsSecondsLabels = [i for i, bin in enumerate(binsSeconds)]\n",
    "    binsSeconds = binsSeconds.tolist()\n",
    "    binsSecondsLabels.pop() # ein Wert muss entfernt werden, um gleich viele Labels wie bins zu definieren!\n",
    "    # Daten mittels der timestamps in bins einteilen (jeweils immer genau einen bin zuweisen)\n",
    "    dataFrame['Tag'] = pd.cut(dataFrame['timestamp_measure_battery'], bins = binsSeconds, labels = binsSecondsLabels)\n",
    "    \n",
    "    batteryStateMeans = []\n",
    "    for binNumber in binsSecondsLabels:\n",
    "        # prüft für jede Reihe ob der bin der entsprechenden binnumber die gerade ausgewählt ist entspricht\n",
    "        dfFiltered = dataFrame.loc[dataFrame['Tag'] == binNumber] \n",
    "     \n",
    "        batteryStateMeans.append([binNumber, dfFiltered[BatteryTypeStr].mean(), dfFiltered[BatteryTypeStr].std(), len(dfFiltered)])\n",
    "    #DataFrame aus den Werten zusammensetzen\n",
    "    batteryStateMeansDf = pd.DataFrame(batteryStateMeans, columns = ['start_day_bin', BatteryTypeStr + '_mean',BatteryTypeStr + '_std', 'binlength'])\n",
    "    \n",
    "    return batteryStateMeansDf"
   ]
  },
  {
   "cell_type": "markdown",
   "id": "5a654010-b5ee-42e9-b56b-081f88222b9d",
   "metadata": {
    "tags": []
   },
   "source": [
    "### Statistische Analyse des gesamten DataFrames von battery (ohne Einteilung / Zuweisung in verschiedene Kategorien)"
   ]
  },
  {
   "cell_type": "code",
   "execution_count": null,
   "id": "851341d4-2386-46e3-ac71-848cd39ff4c1",
   "metadata": {},
   "outputs": [],
   "source": [
    "battery_state_mean_df = CalculateBatteryStateStatistics(df_battery_state)"
   ]
  },
  {
   "cell_type": "code",
   "execution_count": null,
   "id": "8e5aab0d-f4e3-4718-a6c6-d6abdd4603d1",
   "metadata": {},
   "outputs": [],
   "source": [
    "# Bins herausnehmen, an denen zu wenige Daten vorliegen\n",
    "battery_state_mean_df.drop(battery_state_mean_df.loc[battery_state_mean_df['binlength']<=10000].index, inplace=True)\n"
   ]
  },
  {
   "cell_type": "code",
   "execution_count": null,
   "id": "541b67c3-9a14-4150-a779-e0dc05860675",
   "metadata": {},
   "outputs": [],
   "source": [
    "fig, ax = plt.subplots(ncols = 2, figsize=(30,7))\n",
    "ax[0].plot(battery_state_mean_df['start_day_bin'], battery_state_mean_df['battery_state_mean'], marker='o')\n",
    "ax[1].scatter(battery_state_mean_df['start_day_bin'], battery_state_mean_df['battery_state_mean'], c = battery_state_mean_df['binlength'], marker='o', cmap = 'jet')\n"
   ]
  },
  {
   "cell_type": "markdown",
   "id": "29b4ce51-8e38-45f5-bd57-20cb6eb7e0f2",
   "metadata": {},
   "source": [
    "### Statistische Analyse für die verschiedenen 'wagon_types'"
   ]
  },
  {
   "cell_type": "code",
   "execution_count": null,
   "id": "d6b9c98b-bb95-4c1a-ad08-d6b2566215dc",
   "metadata": {},
   "outputs": [],
   "source": [
    "batteryStatisticsWagonTypesList = []\n",
    "\n",
    "for dfBatteryState in df_battery_state_list:\n",
    "    batteryStatisticsWagonTypesList.append(CalculateBatteryStateStatistics(dfBatteryState))\n",
    "    "
   ]
  },
  {
   "cell_type": "code",
   "execution_count": null,
   "id": "77a22533-5232-4915-815b-5bdebd7c70cf",
   "metadata": {},
   "outputs": [],
   "source": [
    "fig, ax = plt.subplots(ncols = 4, nrows=2, figsize=(20,8), sharex=True, sharey=True)\n",
    "ax = ax.flatten()\n",
    "\n",
    "i = 0\n",
    "for i, batteryStatisticWagonType in enumerate(batteryStatisticsWagonTypesList):\n",
    "    # Tage, an denen zu wenige Messwerte vorliegen vernachlässigen\n",
    "    batteryStatisticWagonType.drop(batteryStatisticWagonType.loc[batteryStatisticWagonType['binlength']<=1000].index, inplace=True)\n",
    "\n",
    "    ax[i].plot(batteryStatisticWagonType['start_day_bin'], batteryStatisticWagonType['battery_state_mean'], marker='o')\n",
    "    ax[i].plot(batteryStatisticWagonType['start_day_bin'], batteryStatisticWagonType['battery_state_mean']+batteryStatisticWagonType['battery_state_std'], color='grey')\n",
    "    ax[i].plot(batteryStatisticWagonType['start_day_bin'], batteryStatisticWagonType['battery_state_mean']-batteryStatisticWagonType['battery_state_std'], color='grey')\n",
    "    \n",
    "    ax[i].fill_between(batteryStatisticWagonType['start_day_bin'], batteryStatisticWagonType['battery_state_mean']+batteryStatisticWagonType['battery_state_std'],\n",
    "                       batteryStatisticWagonType['battery_state_mean']-batteryStatisticWagonType['battery_state_std'], color='lightgrey', alpha=0.3)\n",
    "\n",
    "    \n",
    "    ax[i].set_title(f'Wagontyp {i+1}')\n",
    "    if i >= 4:\n",
    "        ax[i].set_xlabel('Tag')\n",
    "      \n",
    "ax[0].set_ylabel(r'Batterieladezustand ($\\%$)')\n",
    "ax[4].set_ylabel(r'Batterieladezustand ($\\%$)')"
   ]
  },
  {
   "cell_type": "markdown",
   "id": "b96a9e30-6dcb-4fe4-a903-c8d6a224005e",
   "metadata": {
    "tags": []
   },
   "source": [
    "### Statistische Analyse für die verschiedenen Provider"
   ]
  },
  {
   "cell_type": "code",
   "execution_count": null,
   "id": "747b9ca9-884a-42d5-81b2-eecd7b6e709e",
   "metadata": {},
   "outputs": [],
   "source": [
    "# Liste mit allen wagon_types wird erstellt\n",
    "provider_list = np.sort(df_battery_state[\"provider\"].drop_duplicates().to_numpy())\n",
    "provider_list = provider_list[provider_list>0]\n",
    "provider_list"
   ]
  },
  {
   "cell_type": "code",
   "execution_count": null,
   "id": "2567dc65-fe15-4a77-a76e-2e5783ac1b90",
   "metadata": {},
   "outputs": [],
   "source": [
    "# Liste mit einem DataFrame für jeden 'wagon_type' wird erstellt\n",
    "df_provider_list = []\n",
    "for provider in provider_list:\n",
    "    df_provider = df_battery_state.loc[df_battery_state['provider'] == provider]\n",
    "    df_provider_list.append(df_provider)\n",
    "df_provider_list[0]"
   ]
  },
  {
   "cell_type": "code",
   "execution_count": null,
   "id": "25ac3017-bf45-4e69-8c4b-6c24886fd7c4",
   "metadata": {},
   "outputs": [],
   "source": [
    "batteryStatisticsProviderList = []\n",
    "\n",
    "for dfProvider in df_provider_list:\n",
    "    batteryStatisticsProviderList.append(CalculateBatteryStateStatistics(dfProvider))\n",
    "batteryStatisticsProviderList"
   ]
  },
  {
   "cell_type": "code",
   "execution_count": null,
   "id": "ef5492ef-540d-459a-bf37-97493d20c1a0",
   "metadata": {},
   "outputs": [],
   "source": [
    "fig, ax = plt.subplots(ncols = 3, nrows=1, figsize=(7,3), sharex=True, sharey=True)\n",
    "ax = ax.flatten()\n",
    "\n",
    "i = 0\n",
    "for i, batteryStatisticProvider in enumerate(batteryStatisticsProviderList):\n",
    "    # Tage, an denen zu wenige Messwerte vorliegen vernachlässigen\n",
    "    batteryStatisticProvider.drop(batteryStatisticProvider.loc[batteryStatisticProvider['binlength']<=1000].index, inplace=True)\n",
    "\n",
    "    ax[i].plot(batteryStatisticProvider['start_day_bin'], batteryStatisticProvider['battery_state_mean'], marker='o')\n",
    "    ax[i].plot(batteryStatisticProvider['start_day_bin'], batteryStatisticProvider['battery_state_mean']+batteryStatisticProvider['battery_state_std'], color='grey')\n",
    "    ax[i].plot(batteryStatisticProvider['start_day_bin'], batteryStatisticProvider['battery_state_mean']-batteryStatisticProvider['battery_state_std'], color='grey')\n",
    "    \n",
    "    ax[i].fill_between(batteryStatisticProvider['start_day_bin'], batteryStatisticProvider['battery_state_mean']+batteryStatisticProvider['battery_state_std'],\n",
    "                       batteryStatisticProvider['battery_state_mean']-batteryStatisticProvider['battery_state_std'], color='lightgrey', alpha=0.3)\n",
    "\n",
    "    \n",
    "    ax[i].set_title(f'Provider {provider_list[i]}')\n",
    "    #if i >= 4:\n",
    "    ax[i].set_xlabel('Tag')\n",
    "ax[0].set_xticks(range(0,350,50))\n",
    "ax[0].set_ylabel(r'Batterieladezustand in \\%')\n",
    "# Plots speichern, falls erwünscht, auf richtigen Pfad achten \n",
    "#fig.savefig(os.path.join(\"..\", \"..\", \"data\", \"battie1_analyse_year.pdf\"))\n",
    "#fig.savefig(os.path.join(\"..\", \"..\", \"data\", \"battie1_analyse_year.png\"))"
   ]
  },
  {
   "cell_type": "markdown",
   "id": "3a556950-9aac-4a7a-ae39-1a58c1f0def6",
   "metadata": {},
   "source": [
    "___"
   ]
  },
  {
   "cell_type": "markdown",
   "id": "15a2386d-64f3-40aa-96c4-e359635967da",
   "metadata": {},
   "source": [
    "### Analyse der einzelnen Ausfälle von Messboxen"
   ]
  },
  {
   "cell_type": "markdown",
   "id": "e1011949-c0b2-4872-8db5-67c2d1d17cf7",
   "metadata": {},
   "source": [
    "+ Alle Einträge raussuchen, bei den die Battery voll entladen ist"
   ]
  },
  {
   "cell_type": "code",
   "execution_count": null,
   "id": "4931520e-5e23-4bb7-abb1-4fae21287b15",
   "metadata": {},
   "outputs": [],
   "source": [
    "df_battery_state['Ausfall_Batterie'] = 0\n",
    "df_battery_state['Ausfall_Batterie'].loc[df_battery_state.battery_state==0] = 1"
   ]
  },
  {
   "cell_type": "code",
   "execution_count": null,
   "id": "30fde87d-9e1f-4bd6-9f0b-82ddfaa6d6d4",
   "metadata": {},
   "outputs": [],
   "source": [
    "len_0 = len(df_battery_state.loc[df_battery_state.Ausfall_Batterie == 1])\n",
    "len_n0 = len(df_battery_state.loc[df_battery_state.Ausfall_Batterie == 0])\n",
    "\n",
    "print('Es sind '+str(len_0/(len_0+len_n0)*100)+' % der Battery_state Einträge = 0')"
   ]
  },
  {
   "cell_type": "markdown",
   "id": "be42d9c1-3a2d-437b-b9dd-e22276c318ee",
   "metadata": {},
   "source": [
    "+ Alle Einträge raussuchen, bei den die Battery-Differenz negativ ist"
   ]
  },
  {
   "cell_type": "code",
   "execution_count": null,
   "id": "f332b26d-1737-4dc2-917b-a7cb509ee357",
   "metadata": {},
   "outputs": [],
   "source": [
    "df_battery_state['Diff_Bat_State'] = 0\n",
    "df_battery_state.sort_values(['wagon_ID','timestamp_measure_battery'])\n",
    "diff_bat_state = df_battery_state.battery_state.diff()\n",
    "df_battery_state['Diff_Bat_State'].loc[diff_bat_state<0] = 1"
   ]
  },
  {
   "cell_type": "markdown",
   "id": "6c7d56ea-b627-46fb-ad8f-9af0d40b6c0f",
   "metadata": {},
   "source": [
    "+ Analyse, ob der leere Batteriezustand ein Datenfehler ist, oder durch zulange Entladung erfolgt ist\n",
    "\n",
    "     + State1: Batterie leer und Batterie_Differenz nicht 0 (da sonst mehrere Zeitpunkte mit 0 hintereinander einzeln gezählt würden\n",
    "     + State2: Batterie Differenz von den letzten 3 Einträgen muss auch negativ sein, damit ein kontinuierlicher Abfall gewährleistet werden kann"
   ]
  },
  {
   "cell_type": "code",
   "execution_count": null,
   "id": "1eae9956-1ff4-478d-ad63-c14e60038ba3",
   "metadata": {},
   "outputs": [],
   "source": [
    "# neues feature Batterie_Entladen erzeugt\n",
    "df_battery_state['Batterie_Entladen'] = 0\n",
    "# Indizes, die auf State1 zutreffen\n",
    "ind_state1   = np.where((df_battery_state.Ausfall_Batterie == 1) & (df_battery_state.Diff_Bat_State == 1))\n",
    "# Indizes, die als Bedingung für State2 zählen\n",
    "ind_stateI   = np.add(ind_state1,-1)[0]\n",
    "ind_stateII  = np.add(ind_state1,-2)[0]\n",
    "ind_stateIII = np.add(ind_state1,-3)[0]\n",
    "# boolean Listen, die Anzeigen, ob State 2 erfüllt ist\n",
    "state1 = (df_battery_state.iloc[ind_stateI]['Diff_Bat_State'] == 1).reset_index(drop=True)\n",
    "state2 = (df_battery_state.iloc[ind_stateII]['Diff_Bat_State'] == 1).reset_index(drop=True)\n",
    "state3 = (df_battery_state.iloc[ind_stateIII]['Diff_Bat_State'] == 1).reset_index(drop=True)\n",
    "# Indizes, die State2 erfüllt haben\n",
    "ind_state2 = ind_state1[0][(state1 & state2 & state3)]\n",
    "# feature = 1, wo sich die Batterie entleert hat\n",
    "df_battery_state['Batterie_Entladen'].loc[df_battery_state.iloc[ind_state2].index] = 1"
   ]
  },
  {
   "cell_type": "code",
   "execution_count": null,
   "id": "786232b4-5974-4b5c-ad6d-8d303c7dee36",
   "metadata": {},
   "outputs": [],
   "source": [
    "len_0 = len(df_battery_state.loc[df_battery_state.Batterie_Entladen == 1])\n",
    "\n",
    "print('Es haben sich '+str(len_0)+' mal Batterien in dem untersuchten Zeitraum entladen')"
   ]
  },
  {
   "cell_type": "code",
   "execution_count": null,
   "id": "4cb7d15e-d695-4462-a89c-e0f9afe463ad",
   "metadata": {},
   "outputs": [],
   "source": [
    "df_battery_state.loc[df_battery_state.Batterie_Entladen == 1]"
   ]
  },
  {
   "cell_type": "markdown",
   "id": "821545b2-03c3-4575-8ce4-d716e4941ada",
   "metadata": {},
   "source": [
    "#### Plotten des Entladevorgangs der Batterie-Entladungen"
   ]
  },
  {
   "cell_type": "code",
   "execution_count": null,
   "id": "c1c03e29-77ea-4fb0-b435-651014c2245f",
   "metadata": {},
   "outputs": [],
   "source": [
    "df_BatAusfall = df_battery_state.loc[df_battery_state.Batterie_Entladen == 1]\n",
    "list_BatAusfall = []\n",
    "\n",
    "for ii, index in enumerate(df_BatAusfall.index):\n",
    "    indexList = list(range(index-10,index+2))\n",
    "    list_BatAusfall.append(df_battery_state.loc[indexList])"
   ]
  },
  {
   "cell_type": "code",
   "execution_count": null,
   "id": "ac1d516a-4117-4428-82ce-ff5a30d09c86",
   "metadata": {},
   "outputs": [],
   "source": [
    "for df in list_BatAusfall:\n",
    "    if len(df.wagon_ID.unique()) > 1:\n",
    "        print(df)"
   ]
  },
  {
   "cell_type": "code",
   "execution_count": null,
   "id": "0554b708-8f56-4603-bd79-1a2661a362ba",
   "metadata": {},
   "outputs": [],
   "source": [
    "list_BatAusfall[0]"
   ]
  },
  {
   "cell_type": "code",
   "execution_count": null,
   "id": "30b761d9-4aba-4c88-84d7-270c41fbbe43",
   "metadata": {},
   "outputs": [],
   "source": [
    "fig, ax = plt.subplots(figsize=[3.5,3])\n",
    "for df in list_BatAusfall[:4]:\n",
    "    ax.plot(np.add(df['Woche'].tolist(),-df['Woche'].iloc[10].tolist()), df.battery_state)\n",
    "ax.set_xlabel('Zeit relativ zum Batterieausfall in Wochen')\n",
    "ax.set_ylabel('Batterieladezustand in \\%')\n",
    "ax.grid(True)"
   ]
  },
  {
   "cell_type": "markdown",
   "id": "ebff424b-ca9f-49a8-a717-7edc503bd215",
   "metadata": {},
   "source": [
    "___"
   ]
  },
  {
   "cell_type": "markdown",
   "id": "0b45cb4d-7184-4261-8ba0-436846ded523",
   "metadata": {},
   "source": [
    "## Analyse Einfluss Battery2 auf Battery"
   ]
  },
  {
   "cell_type": "markdown",
   "id": "064e7e36-80d4-438e-9fac-c86c8985ffc7",
   "metadata": {},
   "source": [
    "### Entferne alle Einträge von df in denen battery2 gleich nan oder kleiner 0"
   ]
  },
  {
   "cell_type": "code",
   "execution_count": null,
   "id": "73f32a66-66e6-482d-89c5-882a3b5e6eae",
   "metadata": {},
   "outputs": [],
   "source": [
    "df_allBat.loc[df_battery_state['battery2_state'].isna()].index"
   ]
  },
  {
   "cell_type": "code",
   "execution_count": null,
   "id": "ce3a9178-3770-4f17-b85c-375c6f0d5d33",
   "metadata": {},
   "outputs": [],
   "source": [
    "df_bat2Ana = df_battery_state\n",
    "\n",
    "df_bat2Ana.drop(df_bat2Ana.loc[df_bat2Ana['battery_state']<0].index, inplace=True)\n",
    "df_bat2Ana.drop(df_bat2Ana.loc[df_bat2Ana['battery2_state'].isna()].index, inplace=True)\n",
    "# kleiner GLEICH 0 gedropped, da andere Provider =0 auch für Batterie 2 angegeben haben\n",
    "df_bat2Ana.drop(df_bat2Ana.loc[df_bat2Ana['battery2_state']<=0].index, inplace=True)"
   ]
  },
  {
   "cell_type": "markdown",
   "id": "087cdb20-db7b-46fe-9319-b4e5c5551d9f",
   "metadata": {},
   "source": [
    "### Ermittlung des Providers von battery2"
   ]
  },
  {
   "cell_type": "code",
   "execution_count": null,
   "id": "d5b5e2e7-82f1-4732-bfe7-e3402b637ebf",
   "metadata": {},
   "outputs": [],
   "source": [
    "prov_bat2 = pd.unique(df_bat2Ana['provider'])\n",
    "print('Der Provider von der 2. Batterie ist Provider', str(prov_bat2))\n",
    "df_bat2Ana.drop(df_bat2Ana.loc[df_bat2Ana['provider']==0].index, inplace=True)"
   ]
  },
  {
   "cell_type": "code",
   "execution_count": null,
   "id": "e57d26b0-de95-4e33-a8b8-90876c55b514",
   "metadata": {},
   "outputs": [],
   "source": []
  },
  {
   "cell_type": "code",
   "execution_count": null,
   "id": "0da83031",
   "metadata": {},
   "outputs": [],
   "source": []
  }
 ],
 "metadata": {
  "kernelspec": {
   "display_name": "Python 3 (ipykernel)",
   "language": "python",
   "name": "python3"
  },
  "language_info": {
   "codemirror_mode": {
    "name": "ipython",
    "version": 3
   },
   "file_extension": ".py",
   "mimetype": "text/x-python",
   "name": "python",
   "nbconvert_exporter": "python",
   "pygments_lexer": "ipython3",
   "version": "3.9.7"
  }
 },
 "nbformat": 4,
 "nbformat_minor": 5
}
