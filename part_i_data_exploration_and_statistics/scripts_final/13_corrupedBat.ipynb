{
 "cells": [
  {
   "cell_type": "markdown",
   "id": "351910e0-3eea-4d99-b6ba-1f983e31f45c",
   "metadata": {
    "tags": []
   },
   "source": [
    "## Dieses Skript wertet die Daten inklusive der Daten aus den Wochen, in welchen fehlerhafte Daten vorliegen, aus"
   ]
  },
  {
   "cell_type": "code",
   "execution_count": null,
   "id": "ad7c797c-0526-407d-a07c-c95112a84fe4",
   "metadata": {},
   "outputs": [],
   "source": [
    "### Importieren der verwendeten Bibilotheken\n",
    "import os\n",
    "import glob\n",
    "from collections import Counter\n",
    "\n",
    "import pandas as pd\n",
    "import numpy as np\n",
    "\n",
    "import matplotlib.pyplot as plt\n",
    "import matplotlib.patches as mpatches"
   ]
  },
  {
   "cell_type": "code",
   "execution_count": null,
   "id": "7f1ba0af-16f0-42cd-96e6-4bf5211a627d",
   "metadata": {},
   "outputs": [],
   "source": [
    "#Plot Style muss zur Verwendung hinterlegt werden\n",
    "#plt.style.use(['mystyle'])"
   ]
  },
  {
   "cell_type": "markdown",
   "id": "d47dc411",
   "metadata": {},
   "source": [
    "### Einlesen des zuvor erstellten Datensatzes"
   ]
  },
  {
   "cell_type": "code",
   "execution_count": null,
   "id": "fd38ba03-00f3-4497-a712-903440177325",
   "metadata": {},
   "outputs": [],
   "source": [
    "pathToPickle = os.path.join(\"..\", \"..\", \"data\", \"TUDA_battery_state\", \"all_TUDA_battery_states_battery_state.pickle\")\n",
    "df = pd.read_pickle(pathToPickle)"
   ]
  },
  {
   "cell_type": "markdown",
   "id": "902c42eb",
   "metadata": {},
   "source": [
    "## Aufzeigen wieviele Batterieladezustände 0% sind\n",
    "Vermutlich zurückzuführen auf korrupted Data"
   ]
  },
  {
   "cell_type": "code",
   "execution_count": null,
   "id": "d4ccc831-7a9b-40ef-a9b2-1628d9799085",
   "metadata": {},
   "outputs": [],
   "source": [
    "arrayBatterieNullUngleichNull = []\n",
    "bins_seconds_labels = df.Tag.unique()\n",
    "for label in bins_seconds_labels:\n",
    "    # Anzahl der Werte einer Woche (labels) werden zurückgegeben, deren 'battery_state' gleich 0 ist \n",
    "    zerosNumbers = df['battery_state'].loc[df['Woche']==label].loc[df['battery_state'].loc[df['Woche']==label] == 0].size\n",
    "    # Anzahl der Werte einer Woche (labels) werden zurückgegeben, deren 'battery_state' ungleich 0 ist \n",
    "    notZerosNumbers = df['battery_state'].loc[df['Woche']==label].loc[df['battery_state'].loc[df['Woche']==label] != 0].size\n",
    "    # an das die Liste 'arrayBatterieNullUngleichNull' wird eine Liste mit der Woche (label) und den berechneten Anzahlen angehängt\n",
    "    arrayBatterieNullUngleichNull.append([label,zerosNumbers,notZerosNumbers])\n",
    "\n",
    "# DataFrame mit einzelnen Wochen und den Anzahlen der 0 Werte der Batterielaufzeiten und den !=0 Werten der Batterielaufzeiten\n",
    "dfBatterieNullUngleichNull = pd.DataFrame(arrayBatterieNullUngleichNull, columns=['week', 'equalsZero', 'notZero'])\n",
    "\n",
    "# Zeilen, löschen, an denen Beide Were 0 sind\n",
    "indexZero = dfBatterieNullUngleichNull[(dfBatterieNullUngleichNull['equalsZero']==0) & (dfBatterieNullUngleichNull['notZero']==0)].index\n",
    "indexZero\n",
    "dfBatterieNullUngleichNull.drop(indexZero, inplace=True)"
   ]
  },
  {
   "cell_type": "markdown",
   "id": "d20e4a6a",
   "metadata": {},
   "source": [
    "### Für alle Wagontypen und Provider"
   ]
  },
  {
   "cell_type": "code",
   "execution_count": null,
   "id": "5bd3eb83",
   "metadata": {},
   "outputs": [],
   "source": [
    "fig, ax = plt.subplots(ncols=1, figsize = (7,5))\n",
    "dfBatterieNullUngleichNull.plot.bar(x = 'week', y = ['equalsZero','notZero'], ax = ax, width=1, stacked=True)\n",
    "ax.set_xlabel('Woche')\n",
    "\n",
    "labels = []\n",
    "for i in range(dfBatterieNullUngleichNull['week'].size):\n",
    "    if (i%4 == 0):\n",
    "        labels.append(i+1)\n",
    "    else:\n",
    "        labels.append('')\n",
    "\n",
    "ax.set_xticklabels(labels=labels)        \n",
    "ax.set_ylabel('Anzahl an Datenpunkten')\n",
    "ax.legend(labels=['Batterieladezustand $= 0 \\%$', r'Batterieladezustand $\\neq 0 \\%$'])\n",
    "ax.grid(False)"
   ]
  },
  {
   "cell_type": "markdown",
   "id": "e46ace43-a0fb-41ac-a32f-471637372efa",
   "metadata": {
    "tags": []
   },
   "source": [
    "### Aufteilen des DataFrames in Wagontypen"
   ]
  },
  {
   "cell_type": "code",
   "execution_count": null,
   "id": "73034ab2",
   "metadata": {},
   "outputs": [],
   "source": [
    "# Aufteilen des DataFrames in Wagontypen\n",
    "pathToMappingPickle = os.path.join(\"..\", \"..\", \"data\", \"mappingDf.pickle\")\n",
    "mappingdf = pd.read_pickle(pathToMappingPickle)\n",
    "df = pd.merge(df, mappingdf, on = \"wagon_ID\")\n"
   ]
  },
  {
   "cell_type": "code",
   "execution_count": null,
   "id": "541b67c3-9a14-4150-a779-e0dc05860675",
   "metadata": {},
   "outputs": [],
   "source": [
    "wagon_typeList = np.sort(df[\"wagon_type\"].drop_duplicates().to_numpy())\n",
    "wagon_typeList"
   ]
  },
  {
   "cell_type": "code",
   "execution_count": null,
   "id": "54399f94-c1f8-4bf3-ac7a-bb77c5f17ca0",
   "metadata": {},
   "outputs": [],
   "source": [
    "dfs_wagon_type = []\n",
    "for i, wagon_type in enumerate(wagon_typeList):\n",
    "    df_type = df[df['wagon_type'] == wagon_type]\n",
    "    dfs_wagon_type.append(df_type)\n",
    "    \n",
    "    \n",
    "    "
   ]
  },
  {
   "cell_type": "code",
   "execution_count": null,
   "id": "8a4d7906-d2bc-4da6-8e0b-928ed2ee95a5",
   "metadata": {},
   "outputs": [],
   "source": [
    "def Batteriezustandswerte(tempdf):\n",
    "    # bins werden erstellt, für jeden Woche zwischen 0 und 322, in Sekunden, da die Daten in Sekunden vorliegen\n",
    "    bins_seconds = np.arange(0, 47*7*24*60*60, 7*24*60*60)\n",
    "    # liste mit bin labels für jede Woche erstellen\n",
    "    bins_seconds_labels = [i+1 for i, bin in enumerate(bins_seconds)]\n",
    "    # bins werden aus numpy array in Liste umgewandelt\n",
    "    bins_seconds = bins_seconds.tolist()\n",
    "    # letzter Wert für die labels wird gelöscht, da ein Label mehr als bins \n",
    "    bins_seconds_labels.pop()\n",
    "\n",
    "    # Daten mittels der timestamps in die erstellten bins eingeteilt (jeweils immer 1 Woche einen bin zuweisen) und entsprechendes Label wird\n",
    "    # dem DataFrame angehängt\n",
    "    tempdf['bin'] = pd.cut(tempdf['timestamp_measure_battery'], bins = bins_seconds, labels = bins_seconds_labels)\n",
    "    \n",
    "\n",
    "    arrayBatterieNullUngleichNull = []\n",
    "\n",
    "    for label in bins_seconds_labels:\n",
    "        # Anzahl der Werte einer Woche (labels) werden zurückgegeben, deren 'battery_state' gleich 0 ist \n",
    "        zerosNumbers = tempdf['battery_state'].loc[tempdf['bin']==label].loc[tempdf['battery_state'].loc[tempdf['bin']==label] == 0].size\n",
    "        # Anzahl der Werte einer Woche (labels) werden zurückgegeben, deren 'battery_state' ungleich 0 ist \n",
    "        notZerosNumbers = tempdf['battery_state'].loc[tempdf['bin']==label].loc[tempdf['battery_state'].loc[tempdf['bin']==label] != 0].size\n",
    "        # an das die Liste 'arrayBatterieNullUngleichNull' wird eine Liste mit der Woche (label) und den berechneten Anzahlen angehängt\n",
    "        arrayBatterieNullUngleichNull.append([label,zerosNumbers,notZerosNumbers])\n",
    "\n",
    "    # DataFrame mit einzelnen Wochen und den Anzahlen der 0 Werte der Batterielaufzeiten und den !=0 Werten der Batterielaufzeiten\n",
    "    dfBatterieNullUngleichNull = pd.DataFrame(arrayBatterieNullUngleichNull, columns=['week', 'equalsZero', 'notZero'])\n",
    "    return dfBatterieNullUngleichNull\n",
    "\n"
   ]
  },
  {
   "cell_type": "code",
   "execution_count": null,
   "id": "4f02d327-cf7b-417b-bf70-817cf799d633",
   "metadata": {},
   "outputs": [],
   "source": [
    "dfs_wagon_types_batteriezustand = []\n",
    "for df_wagon_type in dfs_wagon_type:\n",
    "    dfs_wagon_types_batteriezustand.append(Batteriezustandswerte(df_wagon_type))\n"
   ]
  },
  {
   "cell_type": "markdown",
   "id": "f42938dd-60d3-4bae-8b71-df2d00945748",
   "metadata": {},
   "source": [
    "### Plotten der Anzahl an Datenpunkten bezogen auf Wagon Type"
   ]
  },
  {
   "cell_type": "code",
   "execution_count": null,
   "id": "d3c46fdd-92b4-4de3-9686-4447451162d1",
   "metadata": {},
   "outputs": [],
   "source": [
    "fig, ax = plt.subplots(ncols = 4, nrows = 2, figsize = (20,10), sharey=True)\n",
    "\n",
    "ax = ax.flatten()\n",
    "for i, df_wagon_types_batteriezustand in enumerate(dfs_wagon_types_batteriezustand):\n",
    "    df_wagon_types_batteriezustand.plot.bar(x = 'week', y = ['equalsZero','notZero'], ax=ax[i],width=1, stacked=True)\n",
    "    ax[i].set_xlabel('Woche')\n",
    "\n",
    "    labels = []\n",
    "    for k in range(df_wagon_types_batteriezustand['week'].size):\n",
    "        if (k%4 == 0):\n",
    "            labels.append(k+1)\n",
    "        else:\n",
    "            labels.append('')\n",
    "            \n",
    "    ax[i].set_xticklabels(labels=labels)        \n",
    "    ax[i].set_ylabel('Anzahl an Datenpunkten')\n",
    "    ax[i].grid(False)\n",
    "    ax[i].set_title(f'Wagon Typ: {i+1}')\n",
    "    if i == 0:\n",
    "        ax[0].legend(labels=['Batterieladezustand $= 0 \\%$', r'Batterieladezustand $\\neq 0 \\%$'])\n",
    "    else:\n",
    "        ax[i].legend(labels=[])"
   ]
  },
  {
   "cell_type": "markdown",
   "id": "6669aa03-4f6d-41eb-8587-b27847db769e",
   "metadata": {
    "tags": []
   },
   "source": [
    "### Daten nach Providern aufteilen, Hinweis: der Provider 0 wird nicht beachtet, es handelt sich um keinen Provider (vermutliche fehlerhafte Werte)"
   ]
  },
  {
   "cell_type": "code",
   "execution_count": null,
   "id": "216998c1-2a40-4314-96aa-14b2c2761899",
   "metadata": {},
   "outputs": [],
   "source": [
    "providerList = np.sort(df[\"provider_y\"].drop_duplicates().to_numpy())\n",
    "providerList = np.delete(providerList ,0)"
   ]
  },
  {
   "cell_type": "code",
   "execution_count": null,
   "id": "7affcd01-cd42-4203-b055-33b89c8184ff",
   "metadata": {},
   "outputs": [],
   "source": [
    "providerList"
   ]
  },
  {
   "cell_type": "code",
   "execution_count": null,
   "id": "ac06d008-d30a-473c-b07f-2bf4291b5491",
   "metadata": {},
   "outputs": [],
   "source": [
    "dfs_provider = []\n",
    "for i, provider in enumerate(providerList):\n",
    "    df_type = df[df['provider_y'] == provider]\n",
    "    dfs_provider.append(df_type)\n",
    "    "
   ]
  },
  {
   "cell_type": "code",
   "execution_count": null,
   "id": "bb62f9a5-e1d4-4675-9791-aa42f9108332",
   "metadata": {},
   "outputs": [],
   "source": [
    "dfs_provider_batteriezustand = []\n",
    "for df_provider in dfs_provider:\n",
    "    dfs_provider_batteriezustand.append(Batteriezustandswerte(df_provider))\n"
   ]
  },
  {
   "cell_type": "markdown",
   "id": "ed30350b-4dea-4543-a6f7-c3a04d446301",
   "metadata": {},
   "source": [
    "### Plotten der Anzahl an Datenpunkten bezogen auf Provider"
   ]
  },
  {
   "cell_type": "code",
   "execution_count": null,
   "id": "77230291-ce28-415c-9491-acdd6609f63d",
   "metadata": {},
   "outputs": [],
   "source": [
    "fig, ax = plt.subplots(ncols = 3, nrows = 1, figsize = (7,3), constrained_layout = True, sharey = True)\n",
    "ax = ax.flatten()\n",
    "\n",
    "for i, df_provider_batteriezustand in enumerate(dfs_provider_batteriezustand):\n",
    "    df_provider_batteriezustand.plot.bar(x = 'week', y = ['equalsZero','notZero'], ax=ax[i],width=1, stacked=True)\n",
    "    ax[i].set_xlabel('Woche')\n",
    "\n",
    "    labels = []\n",
    "    k = 0\n",
    "    for k in range(df_provider_batteriezustand['week'].size):\n",
    "        if (k%4 == 0):\n",
    "            labels.append(k+1)\n",
    "        else:\n",
    "            labels.append('')\n",
    "            \n",
    "    ax[i].set_xticklabels(labels=labels)        \n",
    "    ax[i].set_ylabel('Anzahl an Datenpunkten')\n",
    "    ax[i].grid(False)\n",
    "    ax[i].set_title(f'Provider {providerList[i]}')\n",
    "        \n",
    "        \n",
    "    #if i == 1:\n",
    "    #    ax[1].legend(labels=['Batterieladezustand $= 0 \\%$', r'Batterieladezustand $\\neq 0 \\%$'])\n",
    "    #else:\n",
    "   #     ax[i].get_legend().remove()\n",
    "    ax[i].get_legend().remove()\n",
    "legend_box = (0.05, 1.03, 0.95, 0.7)\n",
    "legend = fig.legend(fontsize='small', bbox_to_anchor=legend_box, ncol=2, loc=3, borderaxespad=0.0, mode='expand', handlelength=1,labels=['Batterieladezustand $= 0 \\%$', r'Batterieladezustand $\\neq 0 \\%$'])\n",
    "\n",
    "# Wenn Abbildung gespeichert werden soll, Pfad mit anegeben!\n",
    "#fig.savefig(os.path.join('..', '..', 'data', 'Batteriezustaende.png'))"
   ]
  },
  {
   "cell_type": "markdown",
   "id": "f2e0ada3-8ed1-4115-9546-2ac2ed58a189",
   "metadata": {},
   "source": [
    "### Analyse der Zeitabstände zwischen einzelnen Batteriemessungen"
   ]
  },
  {
   "cell_type": "code",
   "execution_count": null,
   "id": "0579985c-120c-4f1b-b1db-a054baaabce3",
   "metadata": {},
   "outputs": [],
   "source": [
    "wagon_IDList = df[\"wagon_ID\"]\n",
    "wagon_IDList = wagon_IDList.drop_duplicates()\n",
    "wagon_IDList = wagon_IDList.to_numpy()\n",
    "wagon_IDList = np.sort(wagon_IDList)"
   ]
  },
  {
   "cell_type": "code",
   "execution_count": null,
   "id": "9545c730-9676-4192-ba6f-e1b79cb66d77",
   "metadata": {},
   "outputs": [],
   "source": [
    "timeNumpy = []\n",
    "timeDiff = []\n",
    "timeList = []\n",
    "\n",
    "\n",
    "for i,idx in enumerate(wagon_IDList):\n",
    "    wagondf = df.loc[df['wagon_ID'] == idx]\n",
    "    wagondf = wagondf.sort_values(\"timestamp_measure_battery\")\n",
    "    timeNumpy =  wagondf.timestamp_measure_battery.to_numpy()\n",
    "    # wagondf.sub('timestamp_measure_battery')\n",
    "    timeDiffSingle = np.diff(timeNumpy)\n",
    "    timeDiff.append(timeDiffSingle)\n",
    "\n",
    "timeDiff = [np.floor(x / (24*60*60)) for x in timeDiff]\n",
    "\n",
    "[timeList.extend(e) for e in timeDiff[:]]\n",
    "countTime = Counter(timeList)\n"
   ]
  },
  {
   "cell_type": "code",
   "execution_count": null,
   "id": "6af23f5d-e4bc-45c6-9ad7-125b71700d84",
   "metadata": {},
   "outputs": [],
   "source": [
    "len(timeList)"
   ]
  },
  {
   "cell_type": "code",
   "execution_count": null,
   "id": "3af2ad71-864f-4f79-a3d2-2bfe2cfa8ee7",
   "metadata": {},
   "outputs": [],
   "source": [
    "countTimeList = countTime.most_common()\n",
    "ii=-1\n",
    "firstRow =  [0] * len(countTimeList)\n",
    "secRow   =  [0] * len(countTimeList)\n",
    "\n",
    "for i in countTimeList:\n",
    "    ii += 1\n",
    "    firstRow[ii] = countTimeList[ii][0]\n",
    "    secRow[ii]   = countTimeList[ii][1]"
   ]
  },
  {
   "cell_type": "code",
   "execution_count": null,
   "id": "7783ed5a-1f0d-4d4b-9782-f2e8b515f416",
   "metadata": {},
   "outputs": [],
   "source": [
    "fig, ax = plt.subplots(figsize=(3.5, 3))\n",
    "\n",
    "# ax.set_title(('Abstände der gesendeten Batteriezustände in Tagen'))\n",
    "ax.set_ylabel('Anzahl der Sendungen')\n",
    "ax.set_xlabel('Zeitraum in Tagen')\n",
    "\n",
    "ax.grid(False)\n",
    "\n",
    "ax.bar(firstRow[0:15],secRow[0:15])\n",
    "# Wenn plot gespeichert werden soll, sinnvollen Pfad angeben\n",
    "#fig.savefig(os.path.join('..', '..', 'data', 'Abstaende_Sendungen.png'))"
   ]
  }
 ],
 "metadata": {
  "kernelspec": {
   "display_name": "Python 3 (ipykernel)",
   "language": "python",
   "name": "python3"
  },
  "language_info": {
   "codemirror_mode": {
    "name": "ipython",
    "version": 3
   },
   "file_extension": ".py",
   "mimetype": "text/x-python",
   "name": "python",
   "nbconvert_exporter": "python",
   "pygments_lexer": "ipython3",
   "version": "3.9.7"
  }
 },
 "nbformat": 4,
 "nbformat_minor": 5
}
