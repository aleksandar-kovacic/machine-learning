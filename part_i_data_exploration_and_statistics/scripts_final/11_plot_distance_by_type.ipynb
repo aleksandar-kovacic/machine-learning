{
 "cells": [
  {
   "cell_type": "code",
   "execution_count": 6,
   "metadata": {
    "collapsed": true
   },
   "outputs": [],
   "source": [
    "import pandas as pd\n",
    "import numpy as np\n",
    "\n",
    "import os\n",
    "import dask.dataframe as dd\n",
    "import matplotlib as mpl\n",
    "import matplotlib.pyplot as plt\n",
    "import seaborn as sns\n",
    "from matplotlib.patches import Patch\n",
    "\n",
    "from os.path import join"
   ]
  },
  {
   "cell_type": "code",
   "execution_count": null,
   "outputs": [],
   "source": [
    "### Einlesen der Daten\n",
    "filenamePath = os.path.join(\"..\", \"output\", \"group_02\", \"distance_all.csv\")\n",
    "df = pd.read_csv(filenamePath)\n",
    "df"
   ]
  },
  {
   "cell_type": "code",
   "execution_count": null,
   "metadata": {
    "pycharm": {
     "name": "#%%\n",
     "is_executing": true
    }
   },
   "outputs": [],
   "source": []
  },
  {
   "cell_type": "code",
   "execution_count": 10,
   "outputs": [],
   "source": [
    "plt.style.use(['mystyle'])"
   ],
   "metadata": {
    "pycharm": {
     "name": "#%%\n"
    }
   }
  },
  {
   "cell_type": "code",
   "execution_count": null,
   "outputs": [],
   "source": [
    "#Plot Pie Chart Mean distance loaded/ unloaded\n",
    "\n",
    "pie_Chart = np.array([df[\"distance_empty\"].sum(),df[\"distance_loaded\"].sum()])\n",
    "\n",
    "#Colormap\n",
    "#https://matplotlib.org/stable/tutorials/colors/colormaps.html <- um Farben zu erändern\n",
    "cmap_tab20c = plt.cm.tab20c\n",
    "cmap_tab20b = plt.cm.tab20b\n",
    "colors = cmap_tab20c([1,5])\n",
    "\n",
    "labels = [\"Summe Distanz Leer\", \"Summe Distanz Beladen\"]\n",
    "\n",
    "plt.pie(pie_Chart, colors=colors, labels = labels, autopct='%1.1f%%')\n",
    "plt.savefig(os.path.join(\"..\",\"output\",\"plots\",\"group_02\",\"distance_pie_chart.png\"), facecolor = \"w\", dpi = 300)\n",
    "plt.savefig(os.path.join(\"..\",\"output\",\"plots\",\"group_02\",\"distance_pie_chart.pdf\"), facecolor = \"w\", dpi = 300)\n",
    "plt.show()\n",
    "#fig[0].savefig(os.path.join(\"..\",\"output\",\"plots\",\"group_02\",\"distance_pie_chart.pdf\"), \\\n",
    "#    bbox_inches='tight', dpi = 300, edgecolor='none')\n",
    "#type(fig[1])"
   ]
  },
  {
   "cell_type": "code",
   "execution_count": null,
   "metadata": {
    "pycharm": {
     "name": "#%%\n",
     "is_executing": true
    }
   }
  },
  {
   "cell_type": "code",
   "execution_count": null,
   "outputs": [],
   "source": [
    "## Plot statistical description:\n",
    "x = [\"Typ 1\", \"Typ 2\",\"Typ 3\",\"Typ 4\",\"Typ 5\",\"Typ 6\",\"Typ 7\",\"Typ 8\"]\n",
    "\n",
    "y = df['distance_total']/df['distance_total'].mean()*100\n",
    "\n",
    "x_pos = [1,2,3,4,5,6,7,8]\n",
    "x_pos = [i*4 for i in x_pos]\n",
    "\n",
    "fig, ax = plt.subplots()\n",
    "\n",
    "ax.bar(x_pos,y, width = 2.75)\n",
    "ax.set_xticks(x_pos, x)\n",
    "\n",
    "ax.set_title(\"Zurückgelegte Distanz im Vergleich pro Wagontyp im Vergleich zum Durchschnitt\")\n",
    "ax.set_ylabel(\"Distanz durch Durchschnittsdistanz in \\%\")\n",
    "ax.grid(False)\n",
    "ax.axhline(100, color='r', linestyle='--')\n",
    "\n",
    "plt.show()\n",
    "\n",
    "\n",
    "fig.savefig(os.path.join(\"..\",\"output\",\"plots\",\"group_02\",\"percentage_distance_travelled_Bar_plot.png\"), \\\n",
    "    bbox_inches='tight', dpi = 300,facecolor= 'w', edgecolor='none')\n",
    "fig.savefig(os.path.join(\"..\",\"output\",\"plots\",\"group_02\",\"percentage_distance_travelled_Bar_plot.pdf\"), \\\n",
    "    bbox_inches='tight', dpi = 300,facecolor= 'w', edgecolor='none')\n"
   ]
  },
  {
   "cell_type": "code",
   "execution_count": null,
   "metadata": {
    "pycharm": {
     "name": "#%%\n",
     "is_executing": true
    }
   }
  },
  {
   "cell_type": "code",
   "execution_count": null,
   "outputs": [],
   "source": [
    "fig, ax = plt.subplots(figsize=(6,6))\n",
    "\n",
    "size = 0.3\n",
    "\n",
    "total_vals = np.array(df[\"distance_total\"])\n",
    "\n",
    "vals_empty = np.array(df['distance_empty'])\n",
    "vals_loaded = np.array(df['distance_loaded'])\n",
    "vals = np.array([vals_loaded, vals_empty])\n",
    "\n",
    "labels = [\"Typ 1\", \"Typ 2\", \"Typ 3\", \"Typ 4\", \"Typ 5\", \"Typ 6\", \"Typ 7\", \"Typ 8\"]\n",
    "\n",
    "#Colormap\n",
    "#https://matplotlib.org/stable/tutorials/colors/colormaps.html <- um Farben zu erändern\n",
    "cmap_tab20c = plt.cm.tab20c\n",
    "cmap_tab20b = plt.cm.tab20b\n",
    "outer_colors = np.concatenate([cmap_tab20c([5,9,13,1]), cmap_tab20b([5,9,13,1])])\n",
    "inner_colors = np.concatenate([cmap_tab20c([5,7,9,11,13,15,1,3]), cmap_tab20b([5,7,9,11,13,15,1,3])])\n",
    "\n",
    "#Plot\n",
    "ax.pie(total_vals, radius=1, colors=outer_colors, labels=labels, autopct='%1.1f%%', pctdistance=0.85,\n",
    "       wedgeprops=dict(width=size, edgecolor='w'))\n",
    "\n",
    "ax.pie(vals.flatten('F'), radius=1-size, colors=inner_colors,\n",
    "       wedgeprops=dict(width=0.3, edgecolor='w'))\n",
    "\n",
    "ax.set(aspect=\"equal\", title='Zurückgelegte Distanzen der Wagontypen')\n",
    "\n",
    "#Create Legend\n",
    "legend_elements = [Patch(facecolor='grey', edgecolor='w',label='Beladen'),\n",
    "                   Patch(facecolor='lightgrey', edgecolor='w',label='Leer')]\n",
    "\n",
    "ax.legend(handles=legend_elements, loc=1, title=\"Innerer Kreis\")\n",
    "plt.show()\n",
    "\n",
    "#fig.savefig(os.path.join(\"..\",\"output\",\"plots\",\"group_02\",\"mean_wagontypen_distances.png\"), \\\n",
    "#    bbox_inches='tight', dpi = 300, facecolor = \"w\", edgecolor='none')\n",
    "#fig.savefig(os.path.join(\"..\",\"output\",\"plots\",\"group_02\",\"mean_wagontypen_distances.pdf\"), \\\n",
    "#    bbox_inches='tight', dpi = 300, facecolor = \"w\", edgecolor='none')"
   ],
   "metadata": {
    "collapsed": false,
    "pycharm": {
     "name": "#%%\n",
     "is_executing": true
    }
   }
  },
  {
   "cell_type": "code",
   "execution_count": null,
   "outputs": [],
   "source": [
    "fig, ax = plt.subplots(figsize=(1,1))\n",
    "\n",
    "size = 0.3\n",
    "\n",
    "total_vals = np.array(df[\"distance_total\"])\n",
    "\n",
    "vals_empty = np.array(df['distance_empty'])\n",
    "vals_loaded = np.array(df['distance_loaded'])\n",
    "vals = np.array([vals_loaded, vals_empty])\n",
    "\n",
    "types = np.char.array([\"Typ 1\", \"Typ 2\",\"Typ 3\",\"Typ 4\",\"Typ 5\",\"Typ 6\",\"Typ 7\",\"Typ 8\"])\n",
    "\n",
    "y = np.array(df['distance_loaded']/df['distance_total'])\n",
    "\n",
    "porcent = 100.*y\n",
    "labels = ['{0} - {1:1.2f} %'.format(i,j) for i,j in zip(types, porcent)]\n",
    "\n",
    "#Colormap\n",
    "#https://matplotlib.org/stable/tutorials/colors/colormaps.html <- um Farben zu erändern\n",
    "cmap_tab20c = plt.cm.tab20c\n",
    "cmap_tab20b = plt.cm.tab20b\n",
    "outer_colors = np.concatenate([cmap_tab20c([5,9,13,1]), cmap_tab20b([5,9,13,1])])\n",
    "inner_colors = np.concatenate([cmap_tab20c([5,7,9,11,13,15,1,3]), cmap_tab20b([5,7,9,11,13,15,1,3])])\n",
    "\n",
    "#Plot\n",
    "#ax.pie(total_vals, radius=1, colors=outer_colors, labels=labels, autopct='%1.1f%%', pctdistance=0.85,\n",
    "#       wedgeprops=dict(width=size, edgecolor='w'))\n",
    "\n",
    "#ax.pie(vals.flatten('F'), radius=1-size, colors=inner_colors,\n",
    "#       wedgeprops=dict(width=0.3, edgecolor='w'))\n",
    "\n",
    "ax.set(aspect=\"equal\", title='Zurückgelegte Distanzen der Wagontypen')\n",
    "\n",
    "#Create Legend\n",
    "patches, texts = plt.pie(y, colors=outer_colors, startangle=90, radius=1.2)\n",
    "sort_legend = True\n",
    "if sort_legend:\n",
    "    patches, labels, dummy =  zip(*sorted(zip(patches, labels, y),\n",
    "                                          key=lambda x: x[2],\n",
    "                                          reverse=True))\n",
    "\n",
    "plt.legend(patches, labels, loc=1, bbox_to_anchor=(-0.1, 1.),\n",
    "           fontsize=10, title=\"Anteil Beladen\")\n",
    "#legend_elements = [Patch(facecolor='grey', edgecolor='w',label='Beladen'),\n",
    "#                   Patch(facecolor='lightgrey', edgecolor='w',label='Leer')]\n",
    "\n",
    "#ax.legend(handles=legend_elements, loc=1, title=\"Innerer Kreis\")\n",
    "plt.show()\n",
    "\n",
    "fig.savefig(os.path.join(\"..\",\"output\",\"plots\",\"group_02\",\"mean_wagontypen_distances_legend.png\"), \\\n",
    "    bbox_inches='tight', dpi = 300, facecolor = \"w\", edgecolor='none')\n",
    "fig.savefig(os.path.join(\"..\",\"output\",\"plots\",\"group_02\",\"mean_wagontypen_distances_legend.pdf\"), \\\n",
    "    bbox_inches='tight', dpi = 300, facecolor = \"w\", edgecolor='none')\n"
   ],
   "metadata": {
    "pycharm": {
     "name": "#%%\n",
     "is_executing": true
    }
   },
   "outputs": [],
   "source": []
  }
 ],
 "metadata": {
  "kernelspec": {
   "display_name": "Python 3",
   "language": "python",
   "name": "python3"
  },
  "language_info": {
   "codemirror_mode": {
    "name": "ipython",
    "version": 2
   },
   "file_extension": ".py",
   "mimetype": "text/x-python",
   "name": "python",
   "nbconvert_exporter": "python",
   "pygments_lexer": "ipython2",
   "version": "2.7.6"
  }
 },
 "nbformat": 4,
 "nbformat_minor": 0
}
