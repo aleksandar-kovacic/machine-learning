{
 "cells": [
  {
   "cell_type": "code",
   "execution_count": null,
   "id": "453282b0",
   "metadata": {},
   "outputs": [],
   "source": [
    "import os\n",
    "import pandas as pd\n",
    "import numpy as np\n",
    "import matplotlib.pyplot as plt\n",
    "import matplotlib as mplt\n",
    "from matplotlib.patches import Patch"
   ]
  },
  {
   "cell_type": "code",
   "execution_count": null,
   "id": "0e2478b5",
   "metadata": {
    "pycharm": {
     "is_executing": true
    }
   },
   "outputs": [],
   "source": [
    "# Read data\n",
    "filenamePath = os.path.join(\"..\", \"output\", \"group_02\", \"distance_countries.csv\")\n",
    "df = pd.read_csv(filenamePath)\n",
    "df = df.dropna(inplace=False)\n",
    "df"
   ]
  },
  {
   "cell_type": "code",
   "execution_count": 4,
   "outputs": [],
   "source": [
    "plt.style.use(['mystyle'])"
   ],
   "metadata": {
    "collapsed": false,
    "pycharm": {
     "name": "#%%\n"
    }
   }
  },
  {
   "cell_type": "code",
   "execution_count": null,
   "id": "4773f2bc",
   "metadata": {
    "pycharm": {
     "is_executing": true
    }
   },
   "outputs": [],
   "source": [
    "# Plot Pie Chart with total distance traveled loaded/ unloaded\n",
    "plt.style.use(['mystyle'])\n",
    "pie_Chart = np.array([df[\"distance_empty\"].sum(),df[\"distance_loaded\"].sum()])\n",
    "\n",
    "labels = [\"Distance empty\", \"Distance loaded\"]\n",
    "\n",
    "fig, ax = plt.subplots(figsize=(3.5,3.5))\n",
    "ax.pie(pie_Chart, labels = labels, autopct='%1.1f%%')\n",
    "plt.show()\n",
    "#plot_path = os.path.join(\"..\", \"output\", \"plots\", \"distance_traveled_piechart.pdf\")\n",
    "#fig.savefig(plot_path)"
   ]
  },
  {
   "cell_type": "code",
   "execution_count": 5,
   "id": "3de575eb",
   "metadata": {},
   "outputs": [],
   "source": [
    "# Sort countries by total distance and take the highest 19, then merge the others into \"Rest\"\n",
    "df_sorted = df.sort_values(\"distance_total\", axis=0, ascending=False, na_position='last')\n",
    "relevant_countries = df_sorted[0:15]\n",
    "\n",
    "distance_total_rest = sum(df_sorted[\"distance_total\"][16:])\n",
    "distance_empty_rest = sum(df_sorted[\"distance_empty\"][16:])\n",
    "distance_loaded_rest = sum(df_sorted[\"distance_loaded\"][16:])"
   ]
  },
  {
   "cell_type": "code",
   "execution_count": null,
   "id": "0f2fa97d",
   "metadata": {
    "pycharm": {
     "is_executing": true
    }
   },
   "outputs": [],
   "source": [
    "df_temp = pd.DataFrame([[38, \"Rest\", distance_empty_rest, distance_loaded_rest, distance_total_rest]], \n",
    "                       columns=[\"Unnamed: 0\", \"country\",  \"distance_empty\", \"distance_loaded\", \"distance_total\"])\n",
    "relevant_countries = pd.concat([relevant_countries, df_temp])\n",
    "relevant_countries"
   ]
  },
  {
   "cell_type": "code",
   "execution_count": null,
   "id": "8b3aacc6",
   "metadata": {
    "pycharm": {
     "is_executing": true
    }
   },
   "outputs": [],
   "source": [
    "# barplot\n",
    "labels = np.array(relevant_countries[\"country\"])\n",
    "width = 0.35       # the width of the bars\n",
    "\n",
    "loaded = np.array(relevant_countries[\"distance_loaded\"])\n",
    "empty = np.array(relevant_countries[\"distance_empty\"])\n",
    "\n",
    "fig, ax = plt.subplots(figsize=(17.78,6))\n",
    "\n",
    "ax.bar(labels, loaded, width, label='Beladen')\n",
    "ax.bar(labels, empty , width, bottom=loaded,\n",
    "       label='Unbeladen')\n",
    "\n",
    "ax.set_ylabel('Strecke in 100 Mio. Kilometern')\n",
    "ax.set_title('Insgesamt zurückgelegte Strecke in verschiedenen Ländern')\n",
    "ax.legend()\n",
    "fig.savefig(os.path.join(\"..\",\"output\",\"plots\",\"group_02\",\"distance_traveled_in_different_countries.png\"), \\\n",
    "    bbox_inches='tight', dpi = 300,facecolor= 'w', edgecolor='none')\n",
    "fig.savefig(os.path.join(\"..\",\"output\",\"plots\",\"group_02\",\"distance_traveled_in_different_countries.pdf\"), \\\n",
    "    bbox_inches='tight', dpi = 300,facecolor= 'w', edgecolor='none')"
   ]
  },
  {
   "cell_type": "code",
   "execution_count": null,
   "id": "c4995ed5",
   "metadata": {
    "pycharm": {
     "is_executing": true
    }
   },
   "outputs": [],
   "source": [
    "# barplot foreign countries only\n",
    "labels = np.array(relevant_countries[\"country\"][1:])\n",
    "width = 0.35       # the width of the bars\n",
    "\n",
    "loaded = np.array(relevant_countries[\"distance_loaded\"][1:])\n",
    "empty = np.array(relevant_countries[\"distance_empty\"][1:])\n",
    "\n",
    "fig, ax = plt.subplots(figsize=(17.78,6))\n",
    "\n",
    "ax.bar(labels, loaded, width, label='Beladen')\n",
    "ax.bar(labels, empty , width, bottom=loaded,\n",
    "       label='Unbeladen')\n",
    "\n",
    "ax.set_ylabel('Strecke in 10 Mio. Kilometern')\n",
    "ax.set_title('Insgesamt zurückgelegte Strecke im Ausland')\n",
    "ax.legend()\n",
    "\n",
    "plot_path = os.path.join(\"..\", \"output\", \"plots\", \"distance_traveled_in_foreign_countries.pdf\")\n",
    "fig.savefig(plot_path)"
   ]
  },
  {
   "cell_type": "code",
   "execution_count": null,
   "id": "b151de5c",
   "metadata": {
    "pycharm": {
     "is_executing": true
    }
   },
   "outputs": [],
   "source": [
    "fig, ax = plt.subplots(figsize=(6,6))\n",
    "\n",
    "size = 0.3\n",
    "#sort distances, take 4 highest distances and sum up the rest\n",
    "df = df.sort_values(\"distance_total\", axis=0, ascending=False, na_position='last')\n",
    "\n",
    "total_vals = np.array(df[\"distance_total\"][0:7])\n",
    "total_vals = np.append(total_vals,sum(df[\"distance_total\"][7:]))\n",
    "\n",
    "vals_empty = np.array(df[\"distance_empty\"][0:7])\n",
    "vals_empty = np.append(vals_empty,sum(df[\"distance_empty\"][7:]))\n",
    "\n",
    "vals_loaded = np.array(df[\"distance_loaded\"][0:7])\n",
    "vals_loaded = np.append(vals_loaded,sum(df[\"distance_loaded\"][7:]))\n",
    "\n",
    "vals = np.array([vals_loaded, vals_empty])\n",
    "\n",
    "labels = np.array(['Deutschland', 'Italien', 'Niederlande', 'Österreich', 'Polen', 'Schweiz', 'Tschechien'])\n",
    "labels = np.append(labels, \"andere\")\n",
    "\n",
    "#Colormap\n",
    "#https://matplotlib.org/stable/tutorials/colors/colormaps.html <- um Farben zu erändern\n",
    "cmap_tab20c = plt.cm.tab20c\n",
    "cmap_tab20b = plt.cm.tab20b\n",
    "outer_colors = np.concatenate([cmap_tab20c([1,5,9,13]), cmap_tab20b([1,5,9,13])])\n",
    "inner_colors = np.concatenate([cmap_tab20c([1,3,5,7,9,11,13,15]), cmap_tab20b([1,3,5,7,9,11,13,15])])\n",
    "\n",
    "#Plot\n",
    "ax.pie(total_vals, radius=1, colors=outer_colors, labels=labels,autopct='%1.1f%%', pctdistance=0.85,\n",
    "       wedgeprops=dict(width=size, edgecolor='w'))\n",
    "\n",
    "ax.pie(vals.flatten('F'), radius=1-size, colors=inner_colors,\n",
    "       wedgeprops=dict(width=0.3, edgecolor='w'))\n",
    "\n",
    "ax.set(aspect=\"equal\", title='Zurückgelegte Distanzen in Ländern')\n",
    "\n",
    "#Create Legend\n",
    "legend_elements = [Patch(facecolor='grey', edgecolor='w',label='Beladen'),\n",
    "                   Patch(facecolor='lightgrey', edgecolor='w',label='Leer')]\n",
    "\n",
    "ax.legend(handles=legend_elements, loc='best', title=\"Innerer Kreis\")\n",
    "\n",
    "fig.savefig(os.path.join(\"..\",\"output\",\"plots\",\"group_02\",\"distance_in_countries_pie.png\"), \\\n",
    "    bbox_inches='tight', dpi = 300,facecolor= 'w', edgecolor='none')\n",
    "fig.savefig(os.path.join(\"..\",\"output\",\"plots\",\"group_02\",\"distance_in_countries_pie.pdf\"), \\\n",
    "    bbox_inches='tight', dpi = 300,facecolor= 'w', edgecolor='none')"
   ]
  },
  {
   "cell_type": "code",
   "execution_count": null,
   "outputs": [],
   "source": [
    "fig, ax = plt.subplots(figsize=(1,1))\n",
    "\n",
    "size = 0.3\n",
    "\n",
    "#sort distances, take 4 highest distances and sum up the rest\n",
    "df = df.sort_values(\"distance_total\", axis=0, ascending=False, na_position='last')\n",
    "\n",
    "total_vals = np.array(df[\"distance_total\"][0:7])\n",
    "total_vals = np.append(total_vals,sum(df[\"distance_total\"][7:]))\n",
    "\n",
    "vals_empty = np.array(df[\"distance_empty\"][0:7])\n",
    "vals_empty = np.append(vals_empty,sum(df[\"distance_empty\"][7:]))\n",
    "\n",
    "vals_loaded = np.array(df[\"distance_loaded\"][0:7])\n",
    "vals_loaded = np.append(vals_loaded,sum(df[\"distance_loaded\"][7:]))\n",
    "\n",
    "vals = np.array([vals_loaded, vals_empty])\n",
    "\n",
    "labels = np.char.array(['', '', '', '', '', '', ''])\n",
    "labels = np.append(labels, \"\")\n",
    "\n",
    "y = np.array(vals_loaded/total_vals)\n",
    "\n",
    "porcent = 100.*y\n",
    "labels = ['{0} -----  {1:1.2f} \\%'.format(i,j) for i,j in zip(labels, porcent)]\n",
    "\n",
    "#Colormap\n",
    "#https://matplotlib.org/stable/tutorials/colors/colormaps.html <- um Farben zu erändern\n",
    "cmap_tab20c = plt.cm.tab20c\n",
    "cmap_tab20b = plt.cm.tab20b\n",
    "outer_colors = np.concatenate([cmap_tab20c([1,5,9,13]), cmap_tab20b([1,5,9,13])])\n",
    "inner_colors = np.concatenate([cmap_tab20c([1,3,5,7,9,11,13,15]), cmap_tab20b([1,3,5,7,9,11,13,15])])\n",
    "\n",
    "#Plot\n",
    "\n",
    "ax.set(aspect=\"equal\", title='Zurückgelegte Distanzen der Wagontypen')\n",
    "\n",
    "#Create Legend\n",
    "patches, texts = plt.pie(y, colors=outer_colors, startangle=90, radius=1.2)\n",
    "sort_legend = True\n",
    "if sort_legend:\n",
    "    patches, labels, dummy =  zip(*sorted(zip(patches, labels, y),\n",
    "                                          key=lambda x: x[2],\n",
    "                                          reverse=True))\n",
    "\n",
    "plt.legend(patches, labels, loc=1, bbox_to_anchor=(-0.1, 1.),\n",
    "           fontsize=10, title=\"l\")\n",
    "\n",
    "plt.show()\n",
    "\n",
    "fig.savefig(os.path.join(\"..\",\"output\",\"plots\",\"group_02\",\"distance_in_countries_pie_legend_2.png\"), \\\n",
    "    bbox_inches='tight', dpi = 300,facecolor= 'w', edgecolor='none')\n",
    "#fig.savefig(os.path.join(\"..\",\"output\",\"plots\",\"group_02\",\"distance_in_countries_pie_legend.pdf\"), \\\n",
    "#    bbox_inches='tight', dpi = 300,facecolor= 'w', edgecolor='none')\n"
   ],
   "metadata": {
    "collapsed": false,
    "pycharm": {
     "name": "#%%\n",
     "is_executing": true
    }
   }
  },
  {
   "cell_type": "code",
   "execution_count": null,
   "outputs": [],
   "source": [
    "fig, ax = plt.subplots(figsize=(6,6))\n",
    "\n",
    "size = 0.3\n",
    "#sort distances, take 4 highest distances and sum up the rest\n",
    "df = df.sort_values(\"distance_total\", axis=0, ascending=False, na_position='last')\n",
    "\n",
    "total_vals = np.array(df[\"distance_total\"][1:8])\n",
    "total_vals = np.append(total_vals,sum(df[\"distance_total\"][8:]))\n",
    "\n",
    "vals_empty = np.array(df[\"distance_empty\"][1:8])\n",
    "vals_empty = np.append(vals_empty,sum(df[\"distance_empty\"][8:]))\n",
    "\n",
    "vals_loaded = np.array(df[\"distance_loaded\"][1:8])\n",
    "vals_loaded = np.append(vals_loaded,sum(df[\"distance_loaded\"][8:]))\n",
    "\n",
    "vals = np.array([vals_loaded, vals_empty])\n",
    "\n",
    "labels = np.array(['Italien', 'Niederlande', 'Österreich', 'Polen', 'Schweiz', 'Tschechien','Schweden'])\n",
    "labels = np.append(labels, \"andere\")\n",
    "\n",
    "#Colormap\n",
    "#https://matplotlib.org/stable/tutorials/colors/colormaps.html <- um Farben zu erändern\n",
    "cmap_tab20c = plt.cm.tab20c\n",
    "cmap_tab20b = plt.cm.tab20b\n",
    "outer_colors = np.concatenate([cmap_tab20c([5,9,13,1]), cmap_tab20b([5,9,13,1])])\n",
    "inner_colors = np.concatenate([cmap_tab20c([5,7,9,11,13,15,1,3]), cmap_tab20b([5,7,9,11,13,15,1,3])])\n",
    "\n",
    "#Plot\n",
    "ax.pie(total_vals, radius=1, colors=outer_colors, labels=labels, autopct='%1.1f%%', pctdistance=0.85,\n",
    "       wedgeprops=dict(width=size, edgecolor='w'))\n",
    "\n",
    "ax.pie(vals.flatten('F'), radius=1-size, colors=inner_colors,\n",
    "       wedgeprops=dict(width=0.3, edgecolor='w'))\n",
    "\n",
    "ax.set(aspect=\"equal\", title='Zurückgelegte Distanzen in Ländern außer Deutschland')\n",
    "\n",
    "#Create Legend\n",
    "legend_elements = [Patch(facecolor='grey', edgecolor='w',label='Beladen'),\n",
    "                   Patch(facecolor='lightgrey', edgecolor='w',label='Leer')]\n",
    "\n",
    "ax.legend(handles=legend_elements, loc='best', title=\"Innerer Kreis\")\n",
    "\n",
    "fig.savefig(os.path.join(\"..\",\"output\",\"plots\",\"group_02\",\"distance_in_countries_pie_not_D.png\"), \\\n",
    "    bbox_inches='tight', dpi = 300,facecolor= 'w', edgecolor='none')\n",
    "fig.savefig(os.path.join(\"..\",\"output\",\"plots\",\"group_02\",\"distance_in_countries_pie_not_D.pdf\"), \\\n",
    "    bbox_inches='tight', dpi = 300,facecolor= 'w', edgecolor='none')\n"
   ],
   "metadata": {
    "collapsed": false,
    "pycharm": {
     "name": "#%%\n",
     "is_executing": true
    }
   }
  }
 ],
 "metadata": {
  "kernelspec": {
   "display_name": "Python 3",
   "language": "python",
   "name": "python3"
  },
  "language_info": {
   "codemirror_mode": {
    "name": "ipython",
    "version": 3
   },
   "file_extension": ".py",
   "mimetype": "text/x-python",
   "name": "python",
   "nbconvert_exporter": "python",
   "pygments_lexer": "ipython3",
   "version": "3.9.5"
  }
 },
 "nbformat": 4,
 "nbformat_minor": 5
}
