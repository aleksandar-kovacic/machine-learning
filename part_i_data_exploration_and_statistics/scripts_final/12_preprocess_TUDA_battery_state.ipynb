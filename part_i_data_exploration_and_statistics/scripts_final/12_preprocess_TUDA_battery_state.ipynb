{
 "cells": [
  {
   "cell_type": "markdown",
   "id": "351910e0-3eea-4d99-b6ba-1f983e31f45c",
   "metadata": {
    "tags": []
   },
   "source": [
    "## Dieses Skript prepocesst die TUDA_battery_state.csv Dateien und speichert sie im pickle Format ab, somit muss prepocessing nur einmal durchgeführt werden"
   ]
  },
  {
   "cell_type": "markdown",
   "id": "82f7a81b-e5cf-4f6d-8961-363c633f1b3d",
   "metadata": {
    "tags": []
   },
   "source": [
    "### Importieren der benötigten Bibliotheken"
   ]
  },
  {
   "cell_type": "code",
   "execution_count": null,
   "id": "1ca9bb04-f5c2-4c39-80ec-8aa36b6135eb",
   "metadata": {},
   "outputs": [],
   "source": [
    "### Importieren der verwendeten Bibilotheken\n",
    "import os\n",
    "import glob\n",
    "\n",
    "import pandas as pd\n",
    "import numpy as np\n",
    "\n",
    "\n",
    "import matplotlib.pyplot as plt"
   ]
  },
  {
   "cell_type": "markdown",
   "id": "24d2d121-32c8-415d-8a40-11a26b964a03",
   "metadata": {
    "tags": []
   },
   "source": [
    "## Aufbau der Daten TUDA_battery_state.csv\n",
    "\n",
    "aus dem Wiki aus dem moodle Kurs\n",
    "+ wagon_ID: the wagon's ID\t\n",
    "+ provider: provider of the telematic module that is conducting the measurement\n",
    "+ timestamp_measure_battery: timestamp of the measurement\n",
    "+ battery_state: battery charge level of the device conducting the measurement\n",
    "+ battery2_state: There is a provider that has a rechargable battery and a non-rechargable battery installed. Battery2 is then the non-rechargable battery charge state. For all other providers NaN is set."
   ]
  },
  {
   "cell_type": "markdown",
   "id": "2503efd9-10b0-4f32-9296-fbb33665899e",
   "metadata": {
    "tags": []
   },
   "source": [
    "### Einlesen der Daten\n",
    "TUDA_battery_state.csv Dateien werden eingelesen.\n",
    "Hinweis: können vollständig eingelesen werden, da die Dateien im Vergleich sehr klein sind.\n",
    "Alle Dateien werden in ein pandas Dataframe eingelesen"
   ]
  },
  {
   "cell_type": "code",
   "execution_count": null,
   "id": "bef8303a-0c27-4005-8b46-60156662a4a7",
   "metadata": {},
   "outputs": [],
   "source": [
    "pathToData = os.path.join(\"..\", \"..\", \"data\", \"TUDA_battery_state\",) #Pfad zu dem Ordner, in dem die csv Dateien gespeichert sind\n",
    "filenames = glob.glob(pathToData + \"/*.csv\")\n",
    "\n",
    "batteryDfList = [] # leere Liste für die DataFrames\n",
    "\n",
    "for filename in filenames:\n",
    "    df = pd.read_csv(filename)\n",
    "    batteryDfList.append(df)"
   ]
  },
  {
   "cell_type": "code",
   "execution_count": null,
   "id": "cf6c7fe2-4aec-498a-aedb-34e5360c6fbb",
   "metadata": {},
   "outputs": [],
   "source": [
    "# Alle Daten in einen einzelnen DataFrame\n",
    "batteryDf = pd.concat(batteryDfList, axis=0, ignore_index=True) #axis 0 ist optional, weil default\n",
    "\n",
    "# Löschen der korrupten Wochen aus dem Datensatz\n",
    "#corrupted_weeks = np.add([18, 19, 20, 21, 32, 43, 45],-1)\n",
    "#batteryDfList_clean = [v for i, v in enumerate(batteryDfList) if i not in corrupted_weeks]\n",
    "\n",
    "#batteryDf_clean =  pd.concat(batteryDfList_clean, axis=0, ignore_index=True) #axis 0 ist optional, weil default"
   ]
  },
  {
   "cell_type": "markdown",
   "id": "cd49761f-99e1-4fee-919b-5f947f6a766b",
   "metadata": {},
   "source": [
    "### Daten bereinigen, preprocessing\n",
    "\n",
    "+ Prozentzeichen entfernen aus dem battery_state (manche haben ein Prozentzeichen, manche nicht)\n",
    "+ umwandeln der Strings mit Prozentzeichen in floats"
   ]
  },
  {
   "cell_type": "code",
   "execution_count": null,
   "id": "1865cf2f-d13d-485d-80e0-2d0d9fdbf8d3",
   "metadata": {},
   "outputs": [],
   "source": [
    "def format_timestamp(timestamp_string):\n",
    "    \"\"\"\n",
    "    Funktion die aus dem timestamp_string einen float in sekunden zurückgibt\n",
    "    \"\"\"\n",
    "    string_list_leerzeichen = timestamp_string.split(' ')\n",
    "    days = float(string_list_leerzeichen[0])\n",
    "    days_in_sec = days * 24 * 60 * 60\n",
    "    string_list_doppelpunkt = string_list_leerzeichen[-1].split(':')\n",
    "    hours = float(string_list_doppelpunkt[0])\n",
    "    hours_in_sec = hours * 60 * 60\n",
    "    minutes = float(string_list_doppelpunkt[1])\n",
    "    minutes_in_sec = minutes * 60\n",
    "    sec_in_sec = float(string_list_doppelpunkt[2])\n",
    "    total_time_in_sec = days_in_sec + hours_in_sec + minutes_in_sec + sec_in_sec\n",
    "    return total_time_in_sec\n",
    "\n"
   ]
  },
  {
   "cell_type": "code",
   "execution_count": null,
   "id": "131681e1-eb84-4e1a-8696-25d81afc3fb3",
   "metadata": {},
   "outputs": [],
   "source": [
    "def preprocDF(df):\n",
    "    # ersetzt die Strings mit Prozentzeichen, die in manchen Reihen auftreten durch floats\n",
    "    # inplace=True gibt keine Ausgabe zurück sondern ersetzt existierenden Df\n",
    "    # regex=True ersetzt explizit nur strings, sonst probleme mit den floats\n",
    "\n",
    "    # Entfernen der Prozentzeichen aber weiterhin floats\n",
    "    df['battery_state'].replace(r' %', '', inplace=True, regex=True)\n",
    "    df['battery2_state'].replace(r' %', '', inplace=True, regex=True)\n",
    "\n",
    "    # strings to floats\n",
    "    df['battery_state'] = df['battery_state'].astype('float')\n",
    "    df['battery2_state'] = df['battery2_state'].astype('float')\n",
    "\n",
    "    ### umwandeln der wagonIDs in integers\n",
    "    # die inneren Anführungszeichen '' entfernen\n",
    "    df['wagon_ID'].replace('\\'', '', inplace=True, regex=True)\n",
    "\n",
    "    # strings to int\n",
    "    df['wagon_ID'] = df['wagon_ID'].astype('int64')\n",
    "\n",
    "    ### timestamp_measure_battery in geeignetes format\n",
    "    # entfernen der Pluszeichen, da überflüssig\n",
    "    df['timestamp_measure_battery'].replace('\\+', '', inplace=True, regex=True)\n",
    "    \n",
    "    # entfernen von Zeilen mit NaT in timestamp\n",
    "    df.drop(df.loc[df['timestamp_measure_battery']=='NaT'].index, inplace=True)\n",
    "    \n",
    "    # ändert die timestamps aus dem string in absolute Sekunden (auch auf 0-Punkt referenziert)\n",
    "    df['timestamp_measure_battery'] = df['timestamp_measure_battery'].apply(format_timestamp)\n",
    "    \n",
    "    # entfernen von Zeilen mit negativen Zeitwerten\n",
    "    # (diese wurden geplottet und als einzelne Ausreißer angesehen, ergeben für die weitere Bearbeitung keinen Sinn)\n",
    "    df.drop(df.loc[df['timestamp_measure_battery']<0].index, inplace=True)\n",
    "\n",
    "    return df"
   ]
  },
  {
   "cell_type": "markdown",
   "id": "05054c44-c50d-48fe-93e1-33e5aec3f2c6",
   "metadata": {},
   "source": [
    "## Anwenden der Preprocess Funtion auf die Dfs"
   ]
  },
  {
   "cell_type": "code",
   "execution_count": null,
   "id": "387f9ac8-280e-4584-8705-4ce8f480bb52",
   "metadata": {},
   "outputs": [],
   "source": [
    "batteryDf_preproc = preprocDF(batteryDf)"
   ]
  },
  {
   "cell_type": "code",
   "execution_count": null,
   "id": "4f67c340-8c5b-4018-8769-a8c36bdaf06f",
   "metadata": {},
   "outputs": [],
   "source": [
    "#batteryDf_clean_preproc = preprocDF(batteryDf_clean)"
   ]
  },
  {
   "cell_type": "markdown",
   "id": "4663dcb7-b721-4f12-ae58-e398c5e84cb9",
   "metadata": {
    "tags": []
   },
   "source": [
    "### Einordnen der Werte in verschiedene Bins für eine bestimmte Zeitperiode\n"
   ]
  },
  {
   "cell_type": "code",
   "execution_count": null,
   "id": "d85956de-1188-45f3-b2e9-500ab2eba187",
   "metadata": {},
   "outputs": [],
   "source": [
    "# 'wagon_IDs' werden aus dem DataFrame ausgelesen\n",
    "wagon_IDList_battery_state = np.sort(batteryDf_preproc[\"wagon_ID\"].drop_duplicates().to_numpy())\n",
    "wagon_IDList_battery_state"
   ]
  },
  {
   "cell_type": "code",
   "execution_count": null,
   "id": "efcf99d5-1803-470b-90af-1737f2759148",
   "metadata": {},
   "outputs": [],
   "source": [
    "len(wagon_IDList_battery_state)"
   ]
  },
  {
   "cell_type": "code",
   "execution_count": null,
   "id": "e5f1a347-cba1-41d6-8f92-dfd51859bbe6",
   "metadata": {},
   "outputs": [],
   "source": [
    "batteryDf_preproc.sort_values(\"wagon_ID\")"
   ]
  },
  {
   "cell_type": "markdown",
   "id": "5c79af6b-ce2a-4e95-b1a1-173c16f2ed3d",
   "metadata": {},
   "source": [
    "### Erstellen von Tages-Bins"
   ]
  },
  {
   "cell_type": "code",
   "execution_count": null,
   "id": "a2ef20e1-e5b3-47a5-ba8e-db036591960b",
   "metadata": {},
   "outputs": [],
   "source": [
    "# bins erstellen, in die die Daten eingeteilt und anschließend gemittelt werden sollen\n",
    "bins_seconds = np.arange(0, 50*7*24*60*60, 1*24*60*60)\n",
    "bins_seconds_labels = [i for i, bin in enumerate(bins_seconds)]\n",
    "bins_seconds = bins_seconds.tolist()\n",
    "bins_seconds_labels.pop() # ein Wert muss entfernt werden, um gleich viele Labels wie bins zu definieren!"
   ]
  },
  {
   "cell_type": "code",
   "execution_count": null,
   "id": "0b4edaa4-c746-4973-b1f7-a664b279efd8",
   "metadata": {},
   "outputs": [],
   "source": [
    "# Daten mittels der timestamps in bins einteilen (jeweils immer 1 Tag einen bin zuweisen)\n",
    "batteryDf_preproc['Tag'] = pd.cut(batteryDf_preproc['timestamp_measure_battery'], bins = bins_seconds, labels = bins_seconds_labels)"
   ]
  },
  {
   "cell_type": "markdown",
   "id": "ff821546-d882-48f3-a602-59beac963067",
   "metadata": {},
   "source": [
    "### Erstellen von Wochen-Bins"
   ]
  },
  {
   "cell_type": "code",
   "execution_count": null,
   "id": "b4fdb923-2f9a-4d65-9332-059b44667060",
   "metadata": {},
   "outputs": [],
   "source": [
    "# bins erstellen, in die die Daten eingeteilt und anschließend gemittelt werden sollen\n",
    "# bins werden erstellt, für jeden Woche zwischen 0 und 322, in Sekunden, da die Daten in Sekunden vorliegen\n",
    "bins_seconds = np.arange(0, 50*7*24*60*60, 7*24*60*60)\n",
    "# liste mit bin labels für jede Woche erstellen\n",
    "bins_seconds_labels = [i+1 for i, bin in enumerate(bins_seconds)]\n",
    "# bins werden aus numpy array in Liste umgewandelt\n",
    "bins_seconds = bins_seconds.tolist()\n",
    "# ein Wert muss entfernt werden, um gleich viele Labels wie bins zu definieren!\n",
    "bins_seconds_labels.pop() "
   ]
  },
  {
   "cell_type": "code",
   "execution_count": null,
   "id": "28ae7e5f-4940-4690-88b4-c1b10e5bb42d",
   "metadata": {},
   "outputs": [],
   "source": [
    "# Daten mittels der timestamps in bins einteilen (jeweils immer 1 Woche einen bin zuweisen)\n",
    "batteryDf_preproc['Woche'] = pd.cut(batteryDf_preproc['timestamp_measure_battery'], bins = bins_seconds, labels = bins_seconds_labels)"
   ]
  },
  {
   "cell_type": "code",
   "execution_count": null,
   "id": "3582904a-c51d-4cca-9499-d8985d6b9fc3",
   "metadata": {},
   "outputs": [],
   "source": [
    "batteryDf_preproc.sort_values('Woche')"
   ]
  },
  {
   "cell_type": "markdown",
   "id": "2a85fc23-c190-41d7-aeed-073f1a665f2d",
   "metadata": {},
   "source": [
    "### Erstellen eines Df, indem die korrupeten Wochen entfernt wurden\n",
    "+ nach Analysen ergab sich, dass Woche 22 und 23 auch korrupte Daten enthält, weswegen diese zusätzlich entfernt wurden"
   ]
  },
  {
   "cell_type": "code",
   "execution_count": null,
   "id": "03c70344-4be3-4904-8ed9-99a8c2602c73",
   "metadata": {},
   "outputs": [],
   "source": [
    "batteryDf_clean_preproc = batteryDf_preproc.copy(deep=True)\n",
    "\n",
    "corrupted_weeks = [18, 19, 20, 21, 22, 23, 32, 43, 45]\n",
    "for week in corrupted_weeks:\n",
    "    batteryDf_clean_preproc.drop(batteryDf_clean_preproc.loc[batteryDf_clean_preproc['Woche'] == week].index, inplace=True )"
   ]
  },
  {
   "cell_type": "markdown",
   "id": "f0d82f02-91de-47d7-9f3c-90f52b2f5197",
   "metadata": {},
   "source": [
    "+ Entfernen der undefinierten Battierzustände"
   ]
  },
  {
   "cell_type": "markdown",
   "id": "63f27078-167f-4e01-9c65-bc33c715f15b",
   "metadata": {},
   "source": [
    "# Batteriezustände = 0 NICHT vernachlässigen, da diese nicht tatsächlich 0 sind --> laut Sprechstunde mit DBCargo --> folglich nur Werte kleiner 0 vernachlässigen\n",
    "batteryDfbattery_state.drop(batteryDfbattery_state.loc[batteryDfbattery_state['battery_state']<0].index, inplace=True)\n",
    "batteryDfbattery_state.dropna(inplace=True)\n",
    "\n",
    "batteryDfbattery2_state.drop(batteryDfbattery2_state.loc[batteryDfbattery2_state['battery2_state']<0].index, inplace=True)\n",
    "batteryDfbattery2_state.dropna(inplace=True)"
   ]
  },
  {
   "cell_type": "code",
   "execution_count": null,
   "id": "4fbbfedd-9698-47c5-b724-45133cf31130",
   "metadata": {},
   "outputs": [],
   "source": [
    "batteryDf_clean_preproc.drop(batteryDf_clean_preproc.loc[batteryDf_clean_preproc['battery_state'].isna()].index, inplace=True)"
   ]
  },
  {
   "cell_type": "markdown",
   "id": "45118339-509f-4089-978d-09ed71790a87",
   "metadata": {},
   "source": [
    "+ abspeichern des bereinigten DF in pickle-Datei"
   ]
  },
  {
   "cell_type": "code",
   "execution_count": null,
   "id": "3c8df166-49d7-4e76-837a-8496ea839e2d",
   "metadata": {},
   "outputs": [],
   "source": [
    "# wird als gepickelte .csv Datei gespeichert für die weitere Verwendung\n",
    "pathToPickle_all_battery_state       = os.path.join(pathToData, 'all_TUDA_battery_states_battery_state.pickle'      )\n",
    "pathToPickle_all_clean_battery_state = os.path.join(pathToData, 'all_TUDA_battery_states_battery_state_clean.pickle')\n",
    "batteryDf_preproc.to_pickle(pathToPickle_all_battery_state) #speicher das veränderte DataFrame im pickle format ab, somit kann von diesem weiter gearbeitet werden\n",
    "batteryDf_clean_preproc.to_pickle(pathToPickle_all_clean_battery_state)"
   ]
  },
  {
   "cell_type": "code",
   "execution_count": null,
   "id": "38bfffd8-77cb-4de7-890f-6ab741543f76",
   "metadata": {},
   "outputs": [],
   "source": [
    "len(np.where(batteryDf_clean_preproc.battery_state==0)[0])"
   ]
  },
  {
   "cell_type": "markdown",
   "id": "9f49fad2-d36e-4999-92f9-602639fae3a8",
   "metadata": {},
   "source": [
    "### Erstelen einer seperaten Datei, um den Zusammenhang zwischen Battery2 und 1 zu analysieren"
   ]
  },
  {
   "cell_type": "markdown",
   "id": "171d8d2f-c4cf-4a8d-9719-551de658d5f3",
   "metadata": {
    "tags": []
   },
   "source": [
    "Entferen aller Daten,\n",
    "+ die nicht von Provider 35 stammen \n",
    "+ die keinen battery2_state enthalten"
   ]
  },
  {
   "cell_type": "code",
   "execution_count": null,
   "id": "c56a1490-2bdf-4800-be54-cbf391d088de",
   "metadata": {},
   "outputs": [],
   "source": [
    "battery2AnaDf = batteryDf_clean_preproc.drop(batteryDf_clean_preproc.loc[batteryDf_clean_preproc['provider']!=35].index)\n",
    "battery2AnaDf.dropna(axis=0, inplace = True, subset = ['battery2_state'])"
   ]
  },
  {
   "cell_type": "markdown",
   "id": "582f38fe-7631-4c45-a187-0cd4d657caec",
   "metadata": {},
   "source": [
    "+ abspeichern des bereinigten DF in pickle-Datei"
   ]
  },
  {
   "cell_type": "code",
   "execution_count": null,
   "id": "67d81484-5025-4cf0-90ec-7a117d9a0036",
   "metadata": {},
   "outputs": [],
   "source": [
    "# wird als gepickelte .csv Datei gespeichert für die weitere Verwendung\n",
    "pathToPickle_battery2_state = os.path.join(pathToData, 'TUDA_battery_states_battery2_state.pickle'      )\n",
    "battery2AnaDf.to_pickle(pathToPickle_battery2_state) #speicher das veränderte DataFrame im pickle format ab, somit kann von diesem weiter gearbeitet werden"
   ]
  },
  {
   "cell_type": "markdown",
   "id": "ef8af929-4a6a-4faf-9c99-e15d7bb5f81b",
   "metadata": {},
   "source": [
    "___"
   ]
  },
  {
   "cell_type": "markdown",
   "id": "92426e76-78c8-406b-b209-b2c0eddd27c6",
   "metadata": {},
   "source": [
    "___"
   ]
  },
  {
   "cell_type": "markdown",
   "id": "3462ec8c-b543-4a7f-a7eb-183e6a007e68",
   "metadata": {},
   "source": [
    "# weiterer Part nur als Speicher!"
   ]
  },
  {
   "cell_type": "markdown",
   "id": "56be22b6-987c-41d2-8723-d114ed953699",
   "metadata": {},
   "source": [
    "## weitere Dateien erstellen mit Battery und Battery2 getrennt"
   ]
  },
  {
   "cell_type": "markdown",
   "id": "59f3eb1f-15ff-4dd6-b67f-79b778de72a7",
   "metadata": {},
   "source": [
    "+ Aufteilen des Dataframes in Dataframe für battery_state (-> batteryDfbattery_state) und Dataframe für battery2_state (-> batteryDfbattery2_state)\n",
    "    entfernen von Zeilen mit Batteriewerten < 0 und NaN"
   ]
  },
  {
   "cell_type": "code",
   "execution_count": null,
   "id": "a0d871c5-e15f-4860-8272-d579584cafcb",
   "metadata": {},
   "outputs": [],
   "source": [
    "batteryDfbattery_state = batteryDf.drop(['battery2_state'], axis=1)\n",
    "batteryDfbattery2_state = batteryDf.drop(['battery_state'], axis=1)"
   ]
  },
  {
   "cell_type": "code",
   "execution_count": null,
   "id": "52f485eb-ef05-46b8-8b97-41f765061a56",
   "metadata": {},
   "outputs": [],
   "source": [
    "# Batteriezustände = 0 NICHT vernachlässigen, da diese nicht tatsächlich 0 sind --> laut Sprechstunde mit DBCargo --> folglich nur Werte kleiner 0 vernachlässigen\n",
    "batteryDfbattery_state.drop(batteryDfbattery_state.loc[batteryDfbattery_state['battery_state']<0].index, inplace=True)\n",
    "batteryDfbattery_state.dropna(inplace=True)\n",
    "\n",
    "batteryDfbattery2_state.drop(batteryDfbattery2_state.loc[batteryDfbattery2_state['battery2_state']<0].index, inplace=True)\n",
    "batteryDfbattery2_state.dropna(inplace=True)"
   ]
  },
  {
   "cell_type": "code",
   "execution_count": null,
   "id": "7c355968-a79a-4f3d-9c0f-52e4b7b9690d",
   "metadata": {},
   "outputs": [],
   "source": [
    "# Liste mit allen wagon_IDs erstellen\n",
    "wagon_IDList = batteryDf[\"wagon_ID\"]\n",
    "wagon_IDList = wagon_IDList.drop_duplicates()\n",
    "wagon_IDList = wagon_IDList.to_numpy()\n",
    "wagon_IDList = np.sort(wagon_IDList)"
   ]
  },
  {
   "cell_type": "code",
   "execution_count": null,
   "id": "75f135f6-4228-40bc-80a4-61b0a50a3188",
   "metadata": {},
   "outputs": [],
   "source": [
    "# wagonIDs herausfiltern, die folgende Bedingungen erfüllen: Zeitabstand zwischen einzelnen Messpunkten maximal 20 Tage; mindestens 20 Messpunkte pro Wagon\n",
    "wagonIDsbattery_state = []\n",
    "\n",
    "for i, wagon_ID in enumerate(wagon_IDList):\n",
    "    wagondf = batteryDfbattery_state.loc[batteryDfbattery_state['wagon_ID'] == wagon_ID]\n",
    "    wagondf = wagondf.sort_values(\"timestamp_measure_battery\")\n",
    "    timeDiffs = np.diff(wagondf.timestamp_measure_battery.to_numpy())\n",
    "    timeDiffs = np.floor(timeDiffs/(24*60*60))\n",
    "    timeDiffs[::-1].sort()\n",
    "    \n",
    "    if (len(timeDiffs) < 20):\n",
    "        continue\n",
    "        \n",
    "    for timeDiff in timeDiffs:\n",
    "        if timeDiff < 20:\n",
    "            wagonIDsbattery_state.append(wagon_ID)\n",
    "            break\n",
    "        else:\n",
    "            break\n"
   ]
  },
  {
   "cell_type": "code",
   "execution_count": null,
   "id": "4fb2a52a-c722-46be-adca-3db3ec26dc23",
   "metadata": {},
   "outputs": [],
   "source": [
    "batteryDfbattery_state"
   ]
  },
  {
   "cell_type": "code",
   "execution_count": null,
   "id": "c8126189-73ad-4741-815a-9ed8fc6c95c8",
   "metadata": {},
   "outputs": [],
   "source": [
    "batteryDfbattery_state = batteryDfbattery_state[batteryDfbattery_state['wagon_ID'].isin(wagonIDsbattery_state)]\n",
    "batteryDfbattery_state"
   ]
  },
  {
   "cell_type": "code",
   "execution_count": null,
   "id": "5e4a3d8d-a88b-4005-b35b-8759b29184e8",
   "metadata": {},
   "outputs": [],
   "source": [
    "# wird als gepickelte .csv Datei gespeichert für die weitere Verwendung\n",
    "pathToPickle_battery_state = os.path.join(pathToData, 'all_TUDA_battery_states_battery_state.pickle')\n",
    "pathToPickle_battery2_state = os.path.join(pathToData, 'all_TUDA_battery_states_battery2_state.pickle')\n",
    "batteryDfbattery_state.to_pickle(pathToPickle_battery_state) #speicher das veränderte DataFrame im pickle format ab, somit kann von diesem weiter gearbeitet werden\n",
    "batteryDfbattery2_state.to_pickle(pathToPickle_battery2_state)\n"
   ]
  }
 ],
 "metadata": {
  "kernelspec": {
   "display_name": "Python 3 (ipykernel)",
   "language": "python",
   "name": "python3"
  },
  "language_info": {
   "codemirror_mode": {
    "name": "ipython",
    "version": 3
   },
   "file_extension": ".py",
   "mimetype": "text/x-python",
   "name": "python",
   "nbconvert_exporter": "python",
   "pygments_lexer": "ipython3",
   "version": "3.9.7"
  }
 },
 "nbformat": 4,
 "nbformat_minor": 5
}
