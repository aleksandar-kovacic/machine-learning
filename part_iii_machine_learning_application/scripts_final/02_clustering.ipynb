{
 "cells": [
  {
   "cell_type": "markdown",
   "id": "6d747a98-d7f3-4ee3-9eed-ae7d48793916",
   "metadata": {},
   "source": [
    "## Verarbeitung des Datensatzes (Part III)\n"
   ]
  },
  {
   "cell_type": "markdown",
   "id": "b7429f42-6e0d-4afd-a623-563203134f87",
   "metadata": {},
   "source": [
    "### Importieren der benötigten Bibliotheken"
   ]
  },
  {
   "cell_type": "code",
   "execution_count": null,
   "id": "eb74606b-bedd-4a05-91ef-450df3ce5178",
   "metadata": {
    "tags": []
   },
   "outputs": [],
   "source": [
    "import pandas as pd\n",
    "import numpy as np\n",
    "\n",
    "import os\n",
    "import glob\n",
    "\n",
    "# Machine Learning Bibliotheken\n",
    "from sklearn.preprocessing import MinMaxScaler\n",
    "from sklearn.cluster import KMeans\n",
    "\n",
    "# Geofencing Bibliotheken\n",
    "from shapely.geometry import Point\n",
    "from shapely.geometry.polygon import Polygon\n",
    "\n",
    "# Plotting Bibliotheken\n",
    "import matplotlib.pyplot as plt\n",
    "import seaborn as sns"
   ]
  },
  {
   "cell_type": "code",
   "execution_count": null,
   "id": "7413198c-3874-4788-a30c-fd5da0102922",
   "metadata": {},
   "outputs": [],
   "source": [
    "plt.style.use(['mystyle'])"
   ]
  },
  {
   "cell_type": "markdown",
   "id": "f8e946c2-2d24-4bef-bb67-1cb4051cc10c",
   "metadata": {},
   "source": [
    "### Einlesen des Datensatzes"
   ]
  },
  {
   "cell_type": "code",
   "execution_count": null,
   "id": "056488a4-c211-43c9-a831-1c9b843f7127",
   "metadata": {},
   "outputs": [],
   "source": [
    "pathToMaschenFile = os.path.join(\"..\", \"..\", \"data\", \"maschenPickled.pickle\")\n",
    "dfMaschen = pd.read_pickle(pathToMaschenFile)"
   ]
  },
  {
   "cell_type": "code",
   "execution_count": null,
   "id": "60603f98-1551-4b8e-8f0c-5e6e04033d16",
   "metadata": {},
   "outputs": [],
   "source": [
    "dfMaschen"
   ]
  },
  {
   "cell_type": "markdown",
   "id": "afcf7506-5ddd-4a62-8823-bcd9cfd00b7a",
   "metadata": {},
   "source": [
    "# Vorüberlegungen und erste Analysen des Datensatzes"
   ]
  },
  {
   "cell_type": "markdown",
   "id": "4cbe3be5-ede1-49bf-a037-7efeb8e47842",
   "metadata": {},
   "source": [
    "### \"Extract relevant features for your clustering model\"\n",
    "- führt zu einer Anwendung von \"Feature Selection\"\n",
    "- auch \"Dimesionality Reduction\" relevant\n",
    "\n",
    "---> Link: https://www.datacamp.com/community/tutorials/feature-selection-python"
   ]
  },
  {
   "cell_type": "code",
   "execution_count": null,
   "id": "65ef212d-e1a4-49d4-b44d-2e2d42fccbf1",
   "metadata": {},
   "outputs": [],
   "source": [
    "# darstellen von bestimmten Variablen mit BoxPlots\n",
    "fig, ax = plt.subplots(ncols=2, figsize=(7,4))\n",
    "sns.boxplot(ax = ax[0], data=dfMaschen[['latitude']])\n",
    "sns.boxplot(ax = ax[1], data=dfMaschen[['longitude']])\n",
    "plt.show()"
   ]
  },
  {
   "cell_type": "code",
   "execution_count": null,
   "id": "3a711d4c-df6b-4e02-8f8d-687a46007b7a",
   "metadata": {},
   "outputs": [],
   "source": [
    "# pandas DataFrame in numpyArray umwandeln um schneller Rechenzeiten zu erzielen\n",
    "#array = dfMaschenMapping.values\n",
    "#array"
   ]
  },
  {
   "cell_type": "code",
   "execution_count": null,
   "id": "253ba7d7-0064-48c0-b8a8-a7f03774b4a6",
   "metadata": {},
   "outputs": [],
   "source": [
    "# kopieren des DataFrames, damit urpsrünglicher DataFrame unverändert (da Referenztyp)\n",
    "# und dennoch ohne Features, die direkt als unnütz angesehen wurden (werden)\n",
    "\n",
    "# sinnvoll zu überprüfen sind die folgenden Variablen_\n",
    "# provider\n",
    "# wagon_construction\n",
    "# wagon_type\n",
    "\n",
    "dfRelevantFeatures = dfMaschen[[\n",
    "    'loading_state',\n",
    "    'latitude',\n",
    "    'longitude',\n",
    "    'GNSS_velocity',\n",
    "    'movement_state']].copy()"
   ]
  },
  {
   "cell_type": "code",
   "execution_count": null,
   "id": "7ff7b94a-3881-4b7f-b18c-9051f4d0a744",
   "metadata": {},
   "outputs": [],
   "source": [
    "# Verwenden der Pearson Correlation\n",
    "# um einen Überblick über die Korrelationen zwischen den verschiedenen Daten zu erlangen\n",
    "plt.figure(figsize=(25,10))\n",
    "correlation = dfRelevantFeatures.corr()\n",
    "sns.heatmap(correlation, annot=True, cmap=plt.cm.Reds)\n",
    "plt.show()"
   ]
  },
  {
   "cell_type": "markdown",
   "id": "026cc790-20d7-4223-ada2-2e4e3fc349b2",
   "metadata": {},
   "source": [
    "### \"Develop a clustering model: you might gain a first overview with features depending on the geofence or the wagon moving state\""
   ]
  },
  {
   "cell_type": "code",
   "execution_count": null,
   "id": "02ce10f1-af25-4938-98f7-2357bb7ace64",
   "metadata": {},
   "outputs": [],
   "source": [
    "# Überblick durch Geodaten und the wagon moving state\"\n",
    "fig, ax = plt.subplots(nrows=1, ncols=1, figsize=(10,10))\n",
    "ax.axis('equal')\n",
    "ax.scatter(dfMaschen['latitude'],\n",
    "           dfMaschen['longitude'],\n",
    "           c = dfMaschen['movement_state'], s = 0.5)\n",
    "plt.show()"
   ]
  },
  {
   "cell_type": "code",
   "execution_count": null,
   "id": "51ad6ed1-9d5e-4c1c-95cb-0862e576b26b",
   "metadata": {},
   "outputs": [],
   "source": [
    "# Geodaten aufgeteilt nach dem \"movement_state\"\n",
    "fig, ax = plt.subplots(nrows=1, ncols=3, figsize=(10,8), sharey=True, sharex=True)\n",
    "for i, axis in enumerate(ax): \n",
    "    #axis.axis('equal') -> funktioniert nicht, wenn beide Axen geteilt werden\n",
    "    axis.scatter(dfMaschen['latitude'].loc[dfMaschen['movement_state']==i],\n",
    "                    dfMaschen['longitude'].loc[dfMaschen['movement_state']==i], s = 0.1)\n",
    "    axis.set_xlabel('latitude')\n",
    "\n",
    "ax[0].set_title('movement_state = parking')\n",
    "ax[1].set_title('movement_state = standing')\n",
    "ax[2].set_title('movement_state = moving')\n",
    "ax[0].set_ylabel('longitude')\n",
    "\n",
    "plt.show()"
   ]
  },
  {
   "cell_type": "code",
   "execution_count": null,
   "id": "a7a993a8-fe66-445e-8e34-1d08323f11c4",
   "metadata": {},
   "outputs": [],
   "source": [
    "# Verwenden eines Min-Max-Scalers\n",
    "# Variablen und Indizes aus dem DataFrame\n",
    "variables = dfRelevantFeatures.columns\n",
    "indexes = dfRelevantFeatures.index\n",
    "# Verwenden des MinMaxScalers aus sklearn --> siehe import der Bibliotheken\n",
    "mmsc = MinMaxScaler((0, 1))\n",
    "dataScaled = mmsc.fit_transform(dfRelevantFeatures)\n",
    "dfScaled = pd.DataFrame(dataScaled, columns=variables, index=indexes)\n",
    "dfScaled.head()"
   ]
  },
  {
   "cell_type": "code",
   "execution_count": null,
   "id": "d51eea2a-236a-454e-a5df-396fa389e8fe",
   "metadata": {},
   "outputs": [],
   "source": [
    "# KMeans Clustering\n",
    "kmeans = KMeans()\n",
    "ssd = []\n",
    "# Zwischen 1 und 30 Cluster werden getestest\n",
    "K = range(1, 30)\n",
    "\n",
    "for k in K:\n",
    "    # Testweise werden nur die ersten 20000 Datenpunkte betrachtet\n",
    "    kmeans = KMeans(n_clusters=k).fit(dfScaled.head(20000))\n",
    "    ssd.append(kmeans.inertia_)\n",
    "\n",
    "ssd\n",
    "\n",
    "plt.plot(K, ssd, \"bx-\")\n",
    "plt.xlabel(\"Distance Residual Sums for K Values (WCSS)\")\n",
    "plt.title(\"Elbow Method for Optimum Number of Clusters\")\n",
    "plt.show()\n",
    "\n",
    "# Visualisierung mit KElbowVisualizer (Yellowbrick --> muss installiert werden)\n",
    "#kmeans = KMeans()\n",
    "#visu = KElbowVisualizer(kmeans, k=(2, 20))\n",
    "#visu.fit(df)\n",
    "#visu.show()"
   ]
  },
  {
   "cell_type": "markdown",
   "id": "dc17b9d2-b9a6-4a46-aa37-c74a7777977c",
   "metadata": {},
   "source": [
    "# Ansatz\n",
    "Aus den Geodaten und der timestapmp_geo eine Richtung definieren -> Norden und Süden\n",
    "-> als alternatives Feature zu timestamp\n",
    "\n",
    "**Hoffnung:** Trennung der Wagons zwischen Nord Richtung und Süd Richtung"
   ]
  },
  {
   "cell_type": "code",
   "execution_count": null,
   "id": "483a0654-da4d-41c6-ace7-8e44d8e02360",
   "metadata": {},
   "outputs": [],
   "source": [
    "dfMaschenSafe = dfMaschen.copy() # als BackUp"
   ]
  },
  {
   "cell_type": "markdown",
   "id": "4f2d2532-dc93-4554-838e-06ed8b714392",
   "metadata": {},
   "source": [
    "## Preproc df for better results"
   ]
  },
  {
   "cell_type": "code",
   "execution_count": null,
   "id": "ca7a69df-85c9-4345-aa88-32a5cc0dd61b",
   "metadata": {},
   "outputs": [],
   "source": [
    "print('Länge davor '+str(len(dfMaschen)))\n",
    "dfMaschen.drop(columns='is_in_maschen', inplace=True)\n",
    "dfMaschen.drop(dfMaschen[dfMaschen['determination_position']!=1].index, inplace=True)\n",
    "print('Länge nach det_pos !=1 gedropped: '+str(len(dfMaschen)))\n",
    "dfMaschen.drop(dfMaschen[dfMaschen['signal_quality_hdop']>2].index, inplace=True)\n",
    "print('Länge nach signal_quality_hdop >2 gedropped: '+str(len(dfMaschen)))\n",
    "#dfMaschen.drop(dfMaschen[(dfMaschen['GNSS_velocity']<1.2) & (dfMaschen['movement_state']==2)].index, inplace=True)\n",
    "#print(print('Länge nach GNSS_velocity >2: '+str(len(dfMaschen)))\n"
   ]
  },
  {
   "cell_type": "markdown",
   "id": "e74c329d-e750-4b56-a8ef-ac3cd51cc1d7",
   "metadata": {},
   "source": [
    "+ Löschen der Rides, indem ein GNNS velocity Wert größer als 50 km/h beträgt (25 km/h filtert immernoch nur um Maschen)"
   ]
  },
  {
   "cell_type": "code",
   "execution_count": null,
   "id": "d494ce1d-8607-4516-9072-98fea3522a1d",
   "metadata": {},
   "outputs": [],
   "source": [
    "Ride_tooFast = dfMaschen[(dfMaschen['GNSS_velocity']>50)].Ride.unique()\n",
    "print('Anzahl an zu schnellen Fahrten: '+str(len(Ride_tooFast)))\n",
    "print('Länge Df vor Bereinigung: '+str(len(dfMaschen)))\n",
    "for ride in Ride_tooFast:\n",
    "    dfMaschen.drop(dfMaschen[dfMaschen['Ride']==ride].index, inplace=True)\n",
    "print('Länge Df nach GNSS velocity kleiner gleich 50 km/h: '+str(len(dfMaschen)))"
   ]
  },
  {
   "cell_type": "markdown",
   "id": "763e5fb0-8a86-4724-8a16-b47f6b00c12a",
   "metadata": {},
   "source": [
    "+ Herausfiltern der Rides, die nur 10 oder weniger Einträge besitzen"
   ]
  },
  {
   "cell_type": "code",
   "execution_count": null,
   "id": "58a8559d-5bab-479b-9b85-5292c5102dc2",
   "metadata": {},
   "outputs": [],
   "source": [
    "dfMaschen.sort_values('Ride', inplace=True)\n",
    "countRides = dfMaschen.Ride.value_counts()\n",
    "print('Anzahl an einzelnen Fahrten: '+str(len(countRides)))\n",
    "shortRide = countRides.keys()[countRides.values<10]\n",
    "print('Anzahl an Fahrten mit weniger als 10 Einträgen: '+str(len(shortRide)))\n",
    "\n",
    "for Ride in shortRide:\n",
    "    dfMaschen.drop(dfMaschen[dfMaschen.Ride == Ride].index, inplace=True)\n",
    "\n",
    "print('Anzahl an Einträgen nach Entfernen kurzer Fahrten: '+str(len(dfMaschen)))"
   ]
  },
  {
   "cell_type": "markdown",
   "id": "4b8ecec4-2076-4c0b-bf8c-905ed5af774f",
   "metadata": {
    "tags": []
   },
   "source": [
    "## Feature Engineering [3 features, DBSACN]"
   ]
  },
  {
   "cell_type": "markdown",
   "id": "a0a3998b-9dfd-40bc-89aa-3598aad8fe99",
   "metadata": {},
   "source": [
    "### Create a new Df with extra column of moving_direction \n",
    "\n",
    "    \n",
    "|number|moving direction|Ansatz|Anwenung auf|\n",
    "|:-:|:-|:-|:-|\n",
    "|2|Fahrt nach Norden|Erster Lat Eintrag muss größer als Mittelwert aller Lat sein|ganzen Ride|\n",
    "|1|Fahrt nach Süden|Erster Lat Eintrag muss kleiner als Mittelwert aller Lat sein|ganzen Ride|\n",
    "|-1|everything else|\n",
    "\n",
    "DataFrame um Spalte _moving_direction_ erweitert \n",
    "\n",
    "### Create a new Df with extra column of moving_direction2 \n",
    "\n",
    "    \n",
    "|number|moving direction|Ansatz|Anwenung auf|\n",
    "|:-:|:-|:-|:-|\n",
    "|2|Fahrt nach Norden|Summe der (Lat/Long) Differenz muss (größer/kleiner) als (positive Länge/ negative Breite) von Maschen entsprechen|ganzen Ride|\n",
    "|1|Fahrt nach Süden|Summe der (Lat/Long) Differenz muss (kleiner/größer) als (negaitve Länge/ positive Breite) von Maschen entsprechen|ganzen Ride|\n",
    "|-1|everything else|\n",
    "\n",
    "DataFrame um Spalte _moving_direction2_ erweitert \n",
    "\n",
    "### Create a new Df with extra column of moving_direction3 \n",
    "\n",
    "    \n",
    "|number|moving direction|Anwenung auf|\n",
    "|:-:|:-|:-|\n",
    "|2|(Lat/Long) Differenz muss (positiv/negativ)|einzelne Einträge|\n",
    "|1|(Lat/Long) Differenz muss (negativ/positiv)|einzelne Einträge|\n",
    "|0|(Lat/Long) Differenz gleich 0|einzelne Einträge|\n",
    "|-1|everything else|\n",
    "\n",
    "-> mit der Annahme, dass die Moving_Direction vom 1. Geopunkt dem 2. Geopunkt entspricht\n",
    "\n",
    "DataFrame um Spalte _moving_direction3_ erweitert \n",
    "\n",
    "### Create a new Df with extra column of movement count\n",
    "\n",
    "|count|explanation|\n",
    "|:-:|:-|\n",
    "|0|driving and first parking|\n",
    "|1|again driving and 2. parking|\n",
    "|2|again driving and 3. parking|\n",
    "|3|...|\n",
    "\n",
    "DataFrame um Spalte _movement_count_ erweitert\n",
    "\n",
    "Erweiterter DataFrame: **dfMaschen_md**\n",
    "\n"
   ]
  },
  {
   "cell_type": "code",
   "execution_count": null,
   "id": "5a27d7bc-529a-476b-abe6-2d25c5bfd991",
   "metadata": {},
   "outputs": [],
   "source": [
    "#from collections import Counter\n",
    "\n",
    "# damit man nur 1-mal die Anzahl an Zeilen definieren muss\n",
    "df_MaschenStart = dfMaschen\n",
    "# Vordefinieren, wie die Geodaten gefiltert werden sollen: ['lat and long with sensor inaccuracy' 'lat and long without sensor inaccuracy' 'only lat up and down']\n",
    "GeoFilter = 'only lat up and down'\n",
    "\n",
    "########################## also create a List with all single rides in it\n",
    "list_splitRide = {}\n",
    "ind_splitRide = 0\n",
    "##########################\n",
    "\n",
    "\n",
    "RideList = np.sort(df_MaschenStart[\"Ride\"].drop_duplicates().to_numpy())\n",
    "\n",
    "dfMaschen_md = pd.DataFrame()\n",
    "for ii, ride in enumerate(RideList):\n",
    "    # df erst nach wagon_ID sortiert, dann jede einzelne wagon_Id nochmals nach der Zeit\n",
    "    df_Ride = df_MaschenStart[df_MaschenStart['Ride'] == ride]\n",
    "    df_Ride_sort = df_Ride.sort_values(by=['timestamp_measure_position'])\n",
    "\n",
    "    ########################## feature moving_direction2\n",
    "    # Differenz von Geo(i) und Geo(i+1)\n",
    "    diff_lat = df_Ride_sort['latitude'].diff()\n",
    "    diff_long = df_Ride_sort['longitude'].diff()\n",
    "    \n",
    "    # da der erste Eintrag sonst NaN wäre, wird hier der erste Wert gleich dem zweiten gesetzt\n",
    "    \n",
    "    if df_Ride_sort.shape[0]>1: # da iloc[1] sonst nicht existieren würde\n",
    "        diff_lat.iloc[0] = 0\n",
    "        diff_long.iloc[0] = 0\n",
    "        \n",
    "    sum_lat = diff_lat.sum()\n",
    "    sum_long = diff_long.sum()\n",
    "    \n",
    "    masch_Nord = [53.417188, 10.040325]\n",
    "    masch_Sud  = [53.397906, 10.070178]\n",
    "    masch_diff_lat = (masch_Nord[0] - masch_Sud[0])*0.7\n",
    "    masch_diff_long = (masch_Nord[1] - masch_Sud[1])*0.7\n",
    "    \n",
    "    \n",
    "    if (sum_lat > masch_diff_lat) & (sum_long < -masch_diff_long):\n",
    "        moving_direction2 = np.array(np.ones(df_Ride_sort.shape[0])*2)\n",
    "    elif (sum_lat < -masch_diff_lat) & (sum_long > masch_diff_long):\n",
    "        moving_direction2 = np.array(np.ones(df_Ride_sort.shape[0])*1)\n",
    "    else:\n",
    "        moving_direction2 = np.array(np.ones(df_Ride_sort.shape[0])*-1)\n",
    "        \n",
    "    # neues Feature zum df hinzufügen\n",
    "    df_Ride_sort['moving_direction2'] = moving_direction2  \n",
    "\n",
    "    \n",
    "    ####################### feature moving_direction \n",
    "    \n",
    "    mean_latMaschen = (max(df_Ride_sort['latitude'])+min(df_Ride_sort['latitude']))/2\n",
    "    if df_Ride_sort['latitude'].iloc[0] > mean_latMaschen:\n",
    "        moving_direction = np.array(np.ones(df_Ride_sort.shape[0])*1)\n",
    "    else: moving_direction = np.array(np.ones(df_Ride_sort.shape[0])*2)\n",
    "    \n",
    "    # neues Feature zum df hinzufügen\n",
    "    df_Ride_sort['moving_direction'] = moving_direction   \n",
    "    \n",
    "    ####################### feature moving_direction 3\n",
    "    moving_direction3 = np.array(np.ones(len(df_Ride_sort))*-1)\n",
    "    \n",
    "    # https://www.quora.com/How-many-meters-make-up-a-degree-of-longitude-latitude-on-Earth\n",
    "    # each degree of latitude is about 111.111 km or 111,111 metres.\n",
    "    # As we move away from the equator, the lines become closer - the distance the becomes 111,111*cos(latitude)\n",
    "   \n",
    "    if GeoFilter == 'lat and long with sensor inaccuracy':\n",
    "        # hier werden die einzelnen Zustände definiert (-1/0/1/2)\n",
    "        moving_direction3[(diff_lat>1/111111) & (diff_long<-1/111111)] = 2\n",
    "        moving_direction3[(diff_lat<-1/111111) & (diff_long>1/111111)] = 1\n",
    "        moving_direction3[(diff_lat>=-1/111111) & (diff_lat<=1/111111) & (diff_long<=1/111111)&(diff_long>=-1/111111)] = 0\n",
    "    elif GeoFilter == 'lat and long without sensor inaccuracy':  \n",
    "        # Alternative, ohne Ungenauigkeit der Sensoren zu berücksichtigen...\n",
    "        moving_direction3[(diff_lat>0) & (diff_long<0)] = 2\n",
    "        moving_direction3[(diff_lat<0) & (diff_long>0)] = 1\n",
    "        moving_direction3[(diff_lat==0) & (diff_long==0)] = 0\n",
    "    elif GeoFilter == 'only lat up and down': \n",
    "        # Alternative, in der nur oben und unten sortiert wird...\n",
    "        moving_direction3[(diff_lat>1/111111)] = 2\n",
    "        moving_direction3[(diff_lat<-1/111111)] = 1\n",
    "        moving_direction3[(diff_lat>=-1/111111) & (diff_lat<=1/111111)] = 0\n",
    "    else:\n",
    "        assert 0, \"please select a Filtering Method for GeoFilter: 'lat and long with sensor inaccuracy' or 'lat and long without sensor inaccuracy' or 'only lat up and down'\"\n",
    "\n",
    "    df_Ride_sort['moving_direction3'] = moving_direction3  \n",
    "    ####################### feature movement_count \n",
    "    \n",
    "    moveCountWagon = []          \n",
    "    pos_movState_0 = np.where(df_Ride_sort['movement_state'] == 0)[0] # überall, wo der Wagon parkt und nur alle Einträge während einer Fahrt\n",
    "    diff_pos_movState_0 = np.diff(pos_movState_0) # die Differenz der Positionen gibt auskunft darüber, ob mehrere Einträge hintereinander stehen beschreiben\n",
    "\n",
    "    pos_new_mov  = np.delete(pos_movState_0, (np.where(diff_pos_movState_0 == 1)[0]-1), axis=0) # remove rows where the wagon is parking for a longer period\n",
    "    pos_new_mov += 1\n",
    "    pos_new_mov = np.append(pd.Series(data=[0]),pos_new_mov,  axis=0) # at first position starts the first count\n",
    "    \n",
    "    if pos_new_mov[-1] != len(df_Ride_sort):\n",
    "        pos_new_mov = np.append(pos_new_mov,pd.Series(data=[len(df_Ride_sort)]),  axis=0)\n",
    "    \n",
    "    movement_count = np.array(np.ones(len(df_Ride_sort)))\n",
    "    count = 0\n",
    "\n",
    "    for ii, pos in enumerate(pos_new_mov):\n",
    "\n",
    "        if ii < len(pos_new_mov)-1: # because otherwise ii+1 would cause an error\n",
    "            movement_count[pos:pos_new_mov[ii+1]] = count\n",
    "            count += 1\n",
    "        else: movement_count[pos:] = count\n",
    "                  \n",
    "    moveCountWagon = np.append(moveCountWagon,movement_count)\n",
    "\n",
    "    # neues Feature zum df hinzufügen\n",
    "    df_Ride_sort['movement_count'] = moveCountWagon\n",
    "    \n",
    "    #######################\n",
    "    \n",
    "    # wieder zu einem großen df zusammenfügen\n",
    "    dfMaschen_md = dfMaschen_md.append(df_Ride_sort)\n",
    "    \n",
    "    \n",
    "# einen Überblick erhalten, wie viele Geo-Einträge wirklich diagonal sind\n",
    "print('Anzahl der einzelnen Zustände von moving_direction2: \\n'+str(dfMaschen_md['moving_direction2'].value_counts()))   \n",
    "print('Anzahl der einzelnen Zustände: \\n'+str(dfMaschen_md['movement_count'].value_counts()))     \n",
    "# alle nicht 0/1/2 zugeordneten Daten werden entfernt    \n",
    "#dfMaschen_md = dfMaschen_md[dfMaschen_md['moving_direction2']>=0]\n",
    "\n"
   ]
  },
  {
   "cell_type": "markdown",
   "id": "163b7f59-38bf-46b0-916e-d130f4c4d876",
   "metadata": {},
   "source": [
    "### weiteres Feature: speed_group\n",
    "\n",
    "|Nummer|Bedeutung|\n",
    "|:-:|:-|\n",
    "|3|Geschwindigkeit größer als 30 km/h|\n",
    "|2|Geschwindigkeit zwischen 5 km/h und 30 km/h|\n",
    "|1|Geschwindigkeit zwischen als 0 km/h und 5 km/h |\n",
    "|0|Geschwindigkeit genau 0 km/h|"
   ]
  },
  {
   "cell_type": "code",
   "execution_count": null,
   "id": "826c7ff4-8856-4e27-b749-d630e75ba4a8",
   "metadata": {},
   "outputs": [],
   "source": [
    "indSpeed3 = np.where((dfMaschen_md['GNSS_velocity']>15))\n",
    "indSpeed2 = np.where((dfMaschen_md['GNSS_velocity']>=5) & (dfMaschen_md['GNSS_velocity']<=15))\n",
    "indSpeed1 = np.where((dfMaschen_md['GNSS_velocity']>0) & (dfMaschen_md['GNSS_velocity']<5))\n",
    "indSpeed0 = np.where((dfMaschen_md['GNSS_velocity']==0))\n",
    "\n",
    "dfMaschen_md['speed_group'] = -1\n",
    "dfMaschen_md.speed_group.iloc[indSpeed3] = 3\n",
    "dfMaschen_md.speed_group.iloc[indSpeed2] = 2\n",
    "dfMaschen_md.speed_group.iloc[indSpeed1] = 1\n",
    "dfMaschen_md.speed_group.iloc[indSpeed0] = 0"
   ]
  },
  {
   "cell_type": "code",
   "execution_count": null,
   "id": "72f93c53-8a56-40fe-a0ab-7f46e7a36c76",
   "metadata": {},
   "outputs": [],
   "source": [
    "safePath = os.path.join(\"..\", \"..\", \"data\", \"DfMaschenPlot.pickle\")\n",
    "dfMaschen_md.to_pickle(safePath)"
   ]
  },
  {
   "cell_type": "markdown",
   "id": "f3c6e1e1-6fc2-4494-8b44-b0f310fc2f3f",
   "metadata": {},
   "source": [
    "## Analyse der Ergebnisse des Feature-Engineering"
   ]
  },
  {
   "cell_type": "code",
   "execution_count": null,
   "id": "4056c3e4-698f-41f9-9312-9979b917aa59",
   "metadata": {},
   "outputs": [],
   "source": [
    "pathToMaschenFile = os.path.join(\"..\", \"..\", \"data\", \"DfMaschenPlot.pickle\")\n",
    "dfMaschen_md = pd.read_pickle(pathToMaschenFile)"
   ]
  },
  {
   "cell_type": "markdown",
   "id": "77e0d3e3-d896-4bb9-945d-15328a03fa00",
   "metadata": {
    "tags": []
   },
   "source": [
    "#### Plots der unterschiedlichen moving_directions"
   ]
  },
  {
   "cell_type": "code",
   "execution_count": null,
   "id": "b002ae2a-2b80-4127-adf5-a7d50c62aee7",
   "metadata": {},
   "outputs": [],
   "source": [
    "cFeature= 'moving_direction2' # moving_direction/moving_direction2/moving_direction3\n",
    "map_maschen = plt.imread(os.path.join('..', '..', 'data', 'map.png'))\n",
    "BBox = (10.0320, 10.0826, 53.3925, 53.4228)\n",
    "\n",
    "# 2D-Plot, der Maschen von oben\n",
    "X = dfMaschen_md[dfMaschen_md[cFeature]==2]\n",
    "\n",
    "fig, ax = plt.subplots(ncols=2, figsize = (7,4.666), constrained_layout=True, sharey=True)\n",
    "ax[0].set_title('Zugfahrt von Nord nach Süd')\n",
    "ax[0].set_ylabel('Latitude (Längengrad)', fontsize = 11)\n",
    "ax[0].set_xlabel('Longitude (Breitengrad)', fontsize = 11)\n",
    "ax[0].scatter( Y['longitude'],Y['latitude'], s = 1, zorder=1, c='black', marker='.', alpha=0.2)\n",
    "\n",
    "Y = dfMaschen_md[dfMaschen_md[cFeature]==1]\n",
    "\n",
    "ax[1].set_title('Zugfahrt von Süd nach Nord')\n",
    "ax[1].set_xlabel('Longitude (Breitengrad)', fontsize = 11)\n",
    "ax[1].scatter( X['longitude'],X['latitude'], s = 1, zorder=1, c='black', marker='.', alpha=0.2)\n",
    "\n",
    "for axes in ax:\n",
    "    axes.set_xlim(BBox[0], BBox[1])\n",
    "    axes.set_ylim(BBox[2], BBox[3])\n",
    "    axes.imshow(map_maschen, extent= BBox, zorder=0, aspect='equal')\n",
    "    axes.set_aspect(1.5)\n",
    "    axes.grid(False)\n",
    "\n",
    "fig.savefig(os.path.join('..', 'doc', 'north_south_maschen.png'))"
   ]
  },
  {
   "cell_type": "markdown",
   "id": "aeb11dcb-338f-4415-9b67-9dded979ac3a",
   "metadata": {
    "tags": []
   },
   "source": [
    "#### Plot von speed_group"
   ]
  },
  {
   "cell_type": "code",
   "execution_count": null,
   "id": "5db321a0-5d71-484c-b955-96ed2476797b",
   "metadata": {},
   "outputs": [],
   "source": [
    "cFeature= 'speed_group' # moving_direction2\n",
    "\n",
    "# 2D-Plot, der Maschen von oben\n",
    "fig = plt.figure(figsize = (20,7))\n",
    "\n",
    "ZZ = dfMaschen_md[dfMaschen_md[cFeature]==0]\n",
    "\n",
    "ax = fig.add_subplot(1,4,1)\n",
    "ax.set_title('Zugfahrt mit Geschw. größer 30 km/h')\n",
    "ax.set_xlabel('longitude', fontsize = 15)\n",
    "#ax.set_ylabel('latitude', fontsize = 15)\n",
    "ax.scatter( ZZ['longitude'],ZZ['latitude'],c =ZZ[cFeature], s = 0.01)\n",
    "\n",
    "X = dfMaschen_md[dfMaschen_md[cFeature]==1]\n",
    "\n",
    "ax = fig.add_subplot(1,4,2)\n",
    "ax.set_title('Zugfahrt mit Geschw. kleiner 5 km/h')\n",
    "ax.set_xlabel('longitude', fontsize = 15)\n",
    "ax.set_ylabel('latitude', fontsize = 15)\n",
    "ax.scatter( X['longitude'],X['latitude'],c =X[cFeature], s = 0.01)\n",
    "\n",
    "Y = dfMaschen_md[dfMaschen_md[cFeature]==2]\n",
    "\n",
    "ax = fig.add_subplot(1,4,3)\n",
    "ax.set_title('Zugfahrt mit Geschw. grö gl 5 km/h und klei gl 30 km/h')\n",
    "ax.set_xlabel('longitude', fontsize = 15)\n",
    "#ax.set_ylabel('latitude', fontsize = 15)\n",
    "ax.scatter( Y['longitude'],Y['latitude'],c =Y[cFeature], s = 0.01)\n",
    "\n",
    "\n",
    "Z = dfMaschen_md[dfMaschen_md[cFeature]==3]\n",
    "\n",
    "ax = fig.add_subplot(1,4,4)\n",
    "ax.set_title('Zugfahrt mit Geschw. größer 30 km/h')\n",
    "ax.set_xlabel('longitude', fontsize = 15)\n",
    "#ax.set_ylabel('latitude', fontsize = 15)\n",
    "ax.scatter( Z['longitude'],Z['latitude'],c =Z[cFeature], s = 0.01)\n",
    "\n"
   ]
  },
  {
   "cell_type": "code",
   "execution_count": null,
   "id": "e875ef3c-2332-456e-8089-ccf17ff30950",
   "metadata": {},
   "outputs": [],
   "source": [
    "# Analyse, ob timestamp_measure_movement_state und timestamp_measure_position übereinstimmen\n",
    "\n",
    "str1 ='Die minimale Differenz zwischen timestamp_measure_position und timestamp_measure_movement_state beträgt: '\n",
    "minTimeDiff = np.min(dfMaschen_md[dfMaschen_md['timestamp_measure_movement_state']!='NaT']['timestamp_measure_position']-dfMaschen_md[dfMaschen_md['timestamp_measure_movement_state']!='NaT']['timestamp_measure_movement_state'])\n",
    "print(str1+str(minTimeDiff)+' Sekunden')\n",
    "\n",
    "str2 ='Die durchschnittliche Differenz zwischen timestamp_measure_position und timestamp_measure_movement_state beträgt: '\n",
    "meanTimeDiff = np.mean(dfMaschen_md[dfMaschen_md['timestamp_measure_movement_state']!='NaT']['timestamp_measure_position']-dfMaschen_md[dfMaschen_md['timestamp_measure_movement_state']!='NaT']['timestamp_measure_movement_state'])\n",
    "meanStdDiff = np.std(dfMaschen_md[dfMaschen_md['timestamp_measure_movement_state']!='NaT']['timestamp_measure_position']-dfMaschen_md[dfMaschen_md['timestamp_measure_movement_state']!='NaT']['timestamp_measure_movement_state'])\n",
    "print(str2+str(meanTimeDiff)+'+-'+str(meanStdDiff)+'Sekunden')\n",
    "\n",
    "str3 ='Die maximale Differenz zwischen timestamp_measure_position und timestamp_measure_movement_state beträgt: '\n",
    "maxTimeDiff = np.max(dfMaschen_md[dfMaschen_md['timestamp_measure_movement_state']!='NaT']['timestamp_measure_position']-dfMaschen_md[dfMaschen_md['timestamp_measure_movement_state']!='NaT']['timestamp_measure_movement_state'])\n",
    "print(str3+str(maxTimeDiff)+' Sekunden')\n",
    "\n",
    "# Ergebnis: Ja, da sie maximal 3 Minuten auseinander liegen"
   ]
  },
  {
   "cell_type": "markdown",
   "id": "da74854e-47a8-4796-a159-c4b1e836b7d6",
   "metadata": {},
   "source": [
    "#### Analyse einer Fahrt durch Maschen"
   ]
  },
  {
   "cell_type": "code",
   "execution_count": null,
   "id": "93a064a7-6648-4d9b-a8f2-59d485e2f290",
   "metadata": {},
   "outputs": [],
   "source": [
    "# RideList 3335, 3765, 1619, 4839, 3587, 349, 4000, 5168, mit 0.5: 3836, 4925 mit 20min: 7490 4529\n",
    "\n",
    "# Überblick durch Geodaten und the wagon moving state\"\n",
    "RideList = np.sort(dfMaschen_md[\"Ride\"].drop_duplicates().to_numpy())\n",
    "\n",
    "from random import randrange\n",
    "radn_ind = randrange(len(RideList))\n",
    "\n",
    "if 1:\n",
    "    Ride2Plot = RideList[radn_ind]\n",
    "else: Ride2Plot = 35489\n",
    "\n",
    "X = dfMaschen_md[dfMaschen_md[\"Ride\"] == Ride2Plot]\n",
    "\n",
    "map_maschen = plt.imread(os.path.join('..', '..', 'data', 'map.png'))\n",
    "BBox = (10.0208, 10.1031, 53.3867, 53.4303)\n",
    "\n",
    "\n",
    "X_normal = dfMaschen_md[dfMaschen_md[\"Ride\"] == 14465]\n",
    "\n",
    "fig, ax = plt.subplots(ncols=2, figsize = (7,4.666), constrained_layout=True, sharey=True)\n",
    "ax[0].plot(X_normal['longitude'],\n",
    "           X_normal['latitude'], color='black', zorder=1, linewidth=0.5)\n",
    "ax[0].scatter(X_normal['longitude'],\n",
    "           X_normal['latitude'], s = 6, c='black', zorder=2, marker='.')\n",
    "\n",
    "X_fail_standing = dfMaschen_md[dfMaschen_md[\"Ride\"] == 35489]\n",
    "ax[1].plot(X_fail_standing['longitude'],\n",
    "           X_fail_standing['latitude'], color='red', zorder=1, linewidth=0.5)\n",
    "ax[1].scatter(X_fail_standing['longitude'],\n",
    "           X_fail_standing['latitude'], s = 6, c='red', zorder=2, marker='.')\n",
    "\n",
    "\n",
    "X_jumping = dfMaschen_md[dfMaschen_md[\"Ride\"] == 1043]\n",
    "ax[1].plot(X_jumping['longitude'],\n",
    "           X_jumping['latitude'], color='blue', zorder=1, linewidth=0.5)\n",
    "ax[1].scatter(X_jumping['longitude'],\n",
    "           X_jumping['latitude'], s = 6, c='blue', zorder=2, marker='.')\n",
    "\n",
    "\n",
    "\n",
    "\n",
    "X_middle_start = dfMaschen_md[dfMaschen_md[\"Ride\"] == 2842]\n",
    "ax[1].plot(X_middle_start['longitude'],\n",
    "           X_middle_start['latitude'], color='orange', zorder=1, linewidth=0.5)\n",
    "ax[1].scatter(X_middle_start['longitude'],\n",
    "           X_middle_start['latitude'], s = 6, c='orange', zorder=2, marker='.')\n",
    "\n",
    "for axes in ax:\n",
    "    axes.set_xlim(BBox[0], BBox[1])\n",
    "    axes.set_ylim(BBox[2], BBox[3])\n",
    "    axes.imshow(map_maschen, extent= BBox, zorder=0, aspect='equal')\n",
    "    axes.set_aspect(1.5)\n",
    "    axes.grid(False)\n",
    "\n",
    "ax[0].set_xlabel('Longitude (Breitengrad)', fontsize = 15)\n",
    "ax[1].set_xlabel('Longitude (Breitengrad)', fontsize = 15)\n",
    "\n",
    "ax[0].set_ylabel('Latitude (Lägengrad)', fontsize = 15)\n",
    "\n",
    "fig.savefig(os.path.join('..', 'doc', 'single_rides.pdf'))\n",
    "\n",
    "\n",
    "inDHMS = list(np.ones(len(X)))\n",
    "\n",
    "# timestamp Sekunden in Tage Stunden etc umrechnen \n",
    "import datetime \n",
    "  \n",
    "def convert(n): \n",
    "    return str(datetime.timedelta(seconds = n))\n",
    "\n",
    "\n",
    "\n",
    "for ii, time in enumerate(X['timestamp_measure_position'].values):\n",
    "    inDHMS[ii] = convert(time)\n",
    "\n",
    "X.loc[:,'time_position'] = inDHMS\n",
    "    \n",
    "print(X[['wagon_ID','movement_state','time_position' ]].head(30))"
   ]
  },
  {
   "cell_type": "markdown",
   "id": "ec7da46c-32f1-4faf-9856-0bbf6359ff2e",
   "metadata": {},
   "source": [
    "#### Analyse der Datenpunkte eines Wagons in Maschen"
   ]
  },
  {
   "cell_type": "code",
   "execution_count": null,
   "id": "21deab65",
   "metadata": {},
   "outputs": [],
   "source": [
    "wagonIDList = np.sort(dfMaschen_md[\"wagon_ID\"].drop_duplicates().to_numpy())\n",
    "\n",
    "\n",
    "X_ride1 = dfMaschen_md[dfMaschen_md[\"Ride\"] == 36636]\n",
    "X_ride2 = dfMaschen_md[dfMaschen_md[\"Ride\"] == 36637]\n",
    "\n",
    "\n",
    "Y = dfMaschen_md[dfMaschen_md[\"wagon_ID\"] == 1176603780144674]\n",
    "X = Y.sort_values(by=['timestamp_measure_position'])\n",
    "\n",
    "\n",
    "fig, ax = plt.subplots(ncols=2, figsize = (7,4.666), constrained_layout=True, sharey=True)\n",
    "ax[0].plot(X['longitude'],\n",
    "           X['latitude'], color='black', zorder=1, linewidth=0.5)\n",
    "ax[0].scatter(X_ride1['longitude'],\n",
    "           X_ride1['latitude'], s = 6, c='darkorchid', zorder=2, marker='.')\n",
    "ax[0].scatter(X_ride2['longitude'],\n",
    "           X_ride2['latitude'], s = 6, c='midnightblue', zorder=2, marker='.')\n",
    "\n",
    "ax[1].plot(X_ride1['longitude'],\n",
    "           X_ride1['latitude'], color='darkorchid', zorder=1, linewidth=0.5)\n",
    "ax[1].plot(X_ride2['longitude'],\n",
    "           X_ride2['latitude'], color='midnightblue', zorder=1, linewidth=0.5)\n",
    "ax[1].scatter(X_ride1['longitude'],\n",
    "           X_ride1['latitude'], s = 6, c='darkorchid', zorder=2, marker='.')\n",
    "ax[1].scatter(X_ride2['longitude'],\n",
    "           X_ride2['latitude'], s = 6, c='midnightblue', zorder=2, marker='.')\n",
    "\n",
    "\n",
    "\n",
    "for axes in ax:\n",
    "    axes.set_xlim(BBox[0], BBox[1])\n",
    "    axes.set_ylim(BBox[2], BBox[3])\n",
    "    axes.imshow(map_maschen, extent= BBox, zorder=0, aspect='equal')\n",
    "    axes.set_aspect(1.5)\n",
    "    axes.grid(False)\n",
    "\n",
    "ax[0].set_xlabel('Longitude (Breitengrad)', fontsize = 15)\n",
    "ax[1].set_xlabel('Longitude (Breitengrad)', fontsize = 15)\n",
    "\n",
    "ax[0].set_ylabel('Latitude (Lägengrad)', fontsize = 15)\n",
    "fig.savefig(os.path.join('..', 'doc', 'wagonID.pdf'))\n"
   ]
  },
  {
   "cell_type": "code",
   "execution_count": null,
   "id": "077840ed",
   "metadata": {},
   "outputs": [],
   "source": [
    "Ride2Plot\n",
    "#35489 --> Ride Standing\n",
    "#3956 --> Fährt rein und dannn wieder zurück\n",
    "#1043 --> Ride der hin und her springt\n",
    "#2842 --> Ride beginnt mitten drin und hört auch wieder auf\n",
    "\n",
    "#9990 --> ist okay gut\n",
    "#14165\n",
    "#14465"
   ]
  },
  {
   "cell_type": "markdown",
   "id": "29371ce8-9db5-4fbb-815a-eb0200b7408e",
   "metadata": {},
   "source": [
    "#### Analyse des Features 'movement_count': "
   ]
  },
  {
   "cell_type": "markdown",
   "id": "8d2e38a0-6125-4fb0-95b3-4d39372cd8a8",
   "metadata": {},
   "source": [
    "##### Graphische Analyse von movement_count"
   ]
  },
  {
   "cell_type": "code",
   "execution_count": null,
   "id": "9a7dfdaf-ad17-4480-8478-2e96215030b0",
   "metadata": {},
   "outputs": [],
   "source": [
    "# Überblick durch Geodaten und the wagon moving state\"AnzahlCount\n",
    "AnzahlCount = 3\n",
    "\n",
    "X = dfMaschen_md[dfMaschen_md['movement_count']<5]\n",
    "\n",
    "plt.figure(figsize=(10, 10)) \n",
    "ax = plt.axes(projection='3d')\n",
    "ax.set_xlabel('longitude', fontsize = 15)\n",
    "ax.set_ylabel('latitude', fontsize = 15)\n",
    "ax.set_zlabel('moving_direction', fontsize = 15)\n",
    "ax.set_title('Analyse der movement_count \\n mit Berücksichtigung der moving_direction' , fontsize = 20)\n",
    "ax.scatter3D(X['longitude'],\n",
    "           X['latitude'],\n",
    "           X['moving_direction'],\n",
    "           c = X['movement_count'], s = 0.5)\n",
    "ax.legend( ['die ersten '+str(AnzahlCount)+' moving_count farblich'])\n",
    "plt.show()\n",
    "\n",
    "fig = plt.figure(figsize = (10,5))\n",
    "fig.suptitle('Analyse der movement_count \\n mit Berücksichtigung der moving_direction' , fontsize = 20)\n",
    "ax = fig.add_subplot(1,2,1) \n",
    "ax.set_xlabel('longitude', fontsize = 15)\n",
    "ax.set_ylabel('latitude', fontsize = 15)\n",
    "#ax.set_title('3 component PCA', fontsize = 20)\n",
    "ax.scatter( X['longitude'][X['moving_direction']==1],X['latitude'][X['moving_direction']==1],c=X[X['moving_direction']==1][\"movement_count\"], s = 0.3)\n",
    "ax.grid()\n",
    "\n",
    "ax = fig.add_subplot(1,2,2) \n",
    "ax.set_xlabel('longitude', fontsize = 15)\n",
    "#ax.set_ylabel('Principal Component 3', fontsize = 15)\n",
    "#ax.set_title('3 component PCA', fontsize = 20)\n",
    "ax.scatter( X['longitude'][X['moving_direction']==2],X['latitude'][X['moving_direction']==2],c=X[X['moving_direction']==2][\"movement_count\"], s = 0.3)\n",
    "ax.grid()"
   ]
  },
  {
   "cell_type": "markdown",
   "id": "030855bb-c130-4fb0-982d-aa1d98e37383",
   "metadata": {},
   "source": [
    "##### Verteilung der movment_count"
   ]
  },
  {
   "cell_type": "code",
   "execution_count": null,
   "id": "a55519bc-f841-4118-a6f4-9c3e9a2cc62b",
   "metadata": {},
   "outputs": [],
   "source": [
    "from collections import Counter\n",
    "\n",
    "count_movCont = Counter(dfMaschen_md['movement_count'])\n",
    "\n",
    "# Überblick durch Geodaten und the wagon moving state\"\n",
    "fig, ax = plt.subplots(nrows=1, ncols=1, figsize=(7,7))\n",
    "ax.set_xlabel('movement_count', fontsize = 15)\n",
    "ax.set_ylabel('Anzahl der Wagoneinträge mit movement_count', fontsize = 15)\n",
    "ax.set_title('Analyse der movement_count-Verteilung', fontsize = 20)\n",
    "ax.bar(count_movCont.keys(),\n",
    "           count_movCont.values()\n",
    "           )\n",
    "plt.show()"
   ]
  },
  {
   "cell_type": "markdown",
   "id": "0b251cc0-7e7f-417a-872d-a28faeb994b3",
   "metadata": {},
   "source": [
    "## Clustering des Features 'moving_direction'"
   ]
  },
  {
   "cell_type": "markdown",
   "id": "39fc0212-19a1-4961-ad24-ce6ab09ddaa4",
   "metadata": {},
   "source": [
    "### Analyse mit DBSCAN: "
   ]
  },
  {
   "cell_type": "markdown",
   "id": "18d7c1a3-4d5f-4c29-9915-ac73fda5d7e4",
   "metadata": {},
   "source": [
    "#### Standardize the df to work with DBSCAN"
   ]
  },
  {
   "cell_type": "code",
   "execution_count": null,
   "id": "4e3db854-3a68-4dab-9668-88099356eb3b",
   "metadata": {},
   "outputs": [],
   "source": [
    "dfMaschen_hard = dfMaschen_md[dfMaschen_md['moving_direction2']>0]\n",
    "\n",
    "\n",
    "from sklearn.preprocessing import StandardScaler\n",
    "features5 = ['latitude','longitude','moving_direction2'] # Separating out the features\n",
    "standMasch_df5 = dfMaschen_hard.loc[:, features5].values # Separating out the target\n",
    "standMasch_df5 = StandardScaler().fit_transform(standMasch_df5)"
   ]
  },
  {
   "cell_type": "markdown",
   "id": "956670e7-3ec8-4fb6-a233-97265d6eac8a",
   "metadata": {},
   "source": [
    "#### DBSCAN directly with standardized df maschen"
   ]
  },
  {
   "cell_type": "code",
   "execution_count": null,
   "id": "f61297a7-fbd8-4173-b524-abf4f6b0744f",
   "metadata": {},
   "outputs": [],
   "source": [
    "# DBSCAN tries to cluster the data\n",
    "from sklearn.cluster import DBSCAN\n",
    "db = DBSCAN(eps=0.045, min_samples=200).fit(standMasch_df5)\n",
    "labeldb5 =  db.labels_\n",
    "\n",
    "# Um zu sehen, wie viele Cluster erkannt wurden\n",
    "print('Die folgenden Cluster wurden erkannt: '+str(np.unique(labeldb5)))\n",
    "      \n",
    "# hier werden die PlotDaten hergerichtet und erweitert um die Labels      \n",
    "X = dfMaschen_hard[['latitude','longitude','moving_direction2']] #[dfMaschen_md['moving_direction']==2]\n",
    "X[\"label\"] = labeldb5\n",
    "      \n",
    "# da Cluster [-1] und [0] die Übersicht verringern, können sie hier hiermit ausgeblendet werden      \n",
    "Y = X[X[\"label\"]>-2]\n",
    "\n",
    "\n",
    "# 3D-Plot, um zu erkennen, von welcher Ebene welche Cluster kommen\n",
    "fig = plt.figure(figsize = (8,8))\n",
    "ax = plt.axes(projection='3d')\n",
    "ax.set_xlabel('longitude')\n",
    "ax.set_ylabel('latitude')\n",
    "ax.set_zlabel('moving_direction2')\n",
    "ax.set_title('Moving_direction as new feature')\n",
    "ax.scatter3D(Y['longitude'], Y['latitude'],Y['moving_direction2'],c = Y[\"label\"], s = 0.05)\n",
    "ax.grid()\n",
    "\n",
    "Y_clusters = Y[Y['label']>=0]\n",
    "Y_no_clusters = Y[Y['label']<0]\n",
    "\n",
    "# 2D-Plot, der Maschen von oben zeigt mit Clustern\n",
    "fig, ax = plt.subplots(ncols=2, figsize = (7,4.666), constrained_layout=True, sharey=True)\n",
    "ax[0].scatter(Y_no_clusters['longitude'][Y_no_clusters['moving_direction2']== 1],Y_no_clusters['latitude'][Y_no_clusters['moving_direction2']== 1],c = 'dimgray', s = 1, marker='.', alpha=0.5)\n",
    "ax[1].scatter(Y_no_clusters['longitude'][Y_no_clusters['moving_direction2']== 2],Y_no_clusters['latitude'][Y_no_clusters['moving_direction2']== 2],c = 'dimgray', s = 1, marker='.', alpha=0.5)\n",
    "\n",
    "ax[0].scatter(Y_clusters['longitude'][Y_clusters['moving_direction2']== 1],Y_clusters['latitude'][Y_clusters['moving_direction2']== 1],c = Y_clusters[Y_clusters['moving_direction2']== 1][\"label\"], s = 1, cmap='Paired', marker='x', alpha=0.5)\n",
    "ax[1].scatter(Y_clusters['longitude'][Y_clusters['moving_direction2']== 2],Y_clusters['latitude'][Y_clusters['moving_direction2']== 2],c = Y_clusters[Y_clusters['moving_direction2']== 2][\"label\"], s = 1, cmap='Paired', marker='x', alpha=0.5)\n",
    "\n",
    "\n",
    "for axes in ax:\n",
    "    axes.set_xlim(BBox[0], BBox[1])\n",
    "    axes.set_ylim(BBox[2], BBox[3])\n",
    "    axes.imshow(map_maschen, extent= BBox, zorder=0, aspect='equal')\n",
    "    axes.set_aspect(1.5)\n",
    "    axes.grid(False)\n",
    "\n",
    "ax[0].set_title('Zugfahrt von Nord nach Süd')\n",
    "ax[1].set_title('Zugfahrt von Süd nach Nord')\n",
    "\n",
    "ax[0].set_xlabel('Longitude (Breitengrad)')\n",
    "ax[1].set_xlabel('Longitude (Breitengrad)')\n",
    "ax[0].set_ylabel('Latitude (Lägengrad)')\n",
    "\n",
    "fig.savefig(os.path.join('..', 'doc', 'DBSCAN.png'))"
   ]
  },
  {
   "cell_type": "markdown",
   "id": "859c0429-e242-4024-8ca7-dc99c1a65e55",
   "metadata": {},
   "source": [
    "### (verworfen) Analyse der 'moving_direction' mit PCA und danach DBSCAN:"
   ]
  },
  {
   "cell_type": "markdown",
   "id": "eb221775-37dd-4d8b-9fcb-e56aa6e9ad1d",
   "metadata": {},
   "source": [
    "#### Standardize the df to work with DBSCAN"
   ]
  },
  {
   "cell_type": "code",
   "execution_count": null,
   "id": "4f58dc83-050d-4724-bc58-cfbbc35d1930",
   "metadata": {},
   "outputs": [],
   "source": [
    "from sklearn.preprocessing import StandardScaler\n",
    "features5 = ['latitude','longitude','moving_direction']# Separating out the features\n",
    "standMasch_df5 = dfMaschen_md.loc[:, features5].values# Separating out the target\n",
    "standMasch_df5 = StandardScaler().fit_transform(standMasch_df5)"
   ]
  },
  {
   "cell_type": "markdown",
   "id": "3cea6198-85fb-44ae-8b84-9b9f1c505b5d",
   "metadata": {},
   "source": [
    "#### PCA of Standardized df Maschen"
   ]
  },
  {
   "cell_type": "code",
   "execution_count": null,
   "id": "48c17ffe-75de-4b92-ba2a-1981fb4625b4",
   "metadata": {},
   "outputs": [],
   "source": [
    "# die bisher direkt geclusterten Daten werden nun zuerst anhand von PCA neu geordnet, um eventuell bessere Clusterergebnisse zu erhalten\n",
    "from sklearn.decomposition import PCA\n",
    "pca_maschen5 = PCA(n_components=3)\n",
    "principalComponents5 = pca_maschen5.fit_transform(standMasch_df5)\n",
    "principalDf5 = pd.DataFrame(data = principalComponents5, columns = ['principal component 1', 'principal component 2','principal component 3']) "
   ]
  },
  {
   "cell_type": "markdown",
   "id": "563d22a2-68a8-4bd0-9f17-633c97c044e0",
   "metadata": {},
   "source": [
    "##### Plotten des PCA-Ergebnisses"
   ]
  },
  {
   "cell_type": "code",
   "execution_count": null,
   "id": "7fdf4bdf-d2d4-4b6b-9f5c-d8440b68d0f8",
   "metadata": {},
   "outputs": [],
   "source": [
    "fig = plt.figure(figsize = (5,5))\n",
    "ax = plt.axes(projection='3d')\n",
    "ax.set_xlabel('Principal Component 1', fontsize = 15)\n",
    "ax.set_ylabel('Principal Component 2', fontsize = 15)\n",
    "ax.set_zlabel('Principal Component 3', fontsize = 15)\n",
    "ax.set_title('3 component PCA', fontsize = 20)\n",
    "ax.scatter3D(principalDf5['principal component 1'],principalDf5['principal component 2'],principalDf5['principal component 3'], s=0.3)\n",
    "ax.grid()"
   ]
  },
  {
   "cell_type": "code",
   "execution_count": null,
   "id": "7e9acb6e-149c-4507-a804-a544dbcd5be6",
   "metadata": {},
   "outputs": [],
   "source": [
    "fig = plt.figure(figsize = (5,5))\n",
    "ax = fig.add_subplot(1,1,1) \n",
    "ax.set_xlabel('Principal Component 2', fontsize = 15)\n",
    "ax.set_ylabel('Principal Component 2', fontsize = 15)\n",
    "ax.set_title('PCA von DF mit Moving_direction', fontsize = 20)\n",
    "ax.scatter(principalDf5['principal component 1'],principalDf5['principal component 3'], s =0.3)\n",
    "ax.grid()"
   ]
  },
  {
   "cell_type": "markdown",
   "id": "9c1fc579-adb2-41fb-840b-40af4c00818d",
   "metadata": {},
   "source": [
    "#### DBSCAN von PCA mit moving_direction"
   ]
  },
  {
   "cell_type": "code",
   "execution_count": null,
   "id": "fc608e61-2877-4e66-a420-77b1b32c025d",
   "metadata": {},
   "outputs": [],
   "source": [
    "from sklearn.cluster import DBSCAN\n",
    "db = DBSCAN(eps=0.045, min_samples=200).fit(principalDf5)\n",
    "labeldb5 =  db.labels_\n",
    "\n",
    "print('Anzahl an Clustern: '+ str(np.unique(labeldb5)))\n",
    "\n",
    "# hier werden die PlotDaten hergerichtet und erweitert um die Labels      \n",
    "X = principalDf5\n",
    "X[\"label\"] = labeldb5\n",
    "      \n",
    "# da Cluster [-1] und [0] die Übersicht verringern, können sie hier hiermit ausgeblendet werden      \n",
    "Y = X[X[\"label\"]>-2]\n",
    "\n",
    "fig = plt.figure(figsize = (8,8))\n",
    "ax = plt.axes(projection='3d')\n",
    "ax.set_xlabel('Principal Component 1', fontsize = 15)\n",
    "ax.set_ylabel('Principal Component 2', fontsize = 15)\n",
    "ax.set_zlabel('Principal Component 3', fontsize = 15)\n",
    "ax.set_title('3 component PCA', fontsize = 20)\n",
    "\n",
    "ax.scatter3D(Y['principal component 1'],Y['principal component 2'],Y['principal component 3'],c = Y[\"label\"], s = 3)\n",
    "ax.grid()\n",
    "\n",
    "\n",
    "fig = plt.figure(figsize = (10,5))\n",
    "ax = fig.add_subplot(1,2,1) \n",
    "ax.set_xlabel('Principal Component 1', fontsize = 15)\n",
    "ax.set_ylabel('Principal Component 3', fontsize = 15)\n",
    "ax.set_title('3 component PCA', fontsize = 20)\n",
    "ax.scatter( Y['principal component 1'][Y['principal component 2']< 0],Y['principal component 3'][Y['principal component 2']< 0],c = Y[Y['principal component 2']< 0][\"label\"], s = 0.1)\n",
    "ax.grid()\n",
    "\n",
    "ax = fig.add_subplot(1,2,2) \n",
    "ax.set_xlabel('Principal Component 1', fontsize = 15)\n",
    "ax.set_ylabel('Principal Component 3', fontsize = 15)\n",
    "ax.set_title('3 component PCA', fontsize = 20)\n",
    "ax.scatter( Y['principal component 1'][Y['principal component 2']> 0],Y['principal component 3'][Y['principal component 2']> 0],c = Y[Y['principal component 2']> 0][\"label\"], s = 0.1)\n",
    "ax.grid()"
   ]
  },
  {
   "cell_type": "code",
   "execution_count": null,
   "id": "fa29e2cc-ee1e-4ec6-9257-b832ad1fc039",
   "metadata": {},
   "outputs": [],
   "source": []
  }
 ],
 "metadata": {
  "kernelspec": {
   "display_name": "Python 3 (ipykernel)",
   "language": "python",
   "name": "python3"
  },
  "language_info": {
   "codemirror_mode": {
    "name": "ipython",
    "version": 3
   },
   "file_extension": ".py",
   "mimetype": "text/x-python",
   "name": "python",
   "nbconvert_exporter": "python",
   "pygments_lexer": "ipython3",
   "version": "3.9.7"
  }
 },
 "nbformat": 4,
 "nbformat_minor": 5
}
