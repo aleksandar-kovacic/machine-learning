{
 "cells": [
  {
   "cell_type": "markdown",
   "id": "b994a575",
   "metadata": {},
   "source": [
    "## In dieser Datei wurde das verwenden einer PCA gestestet, dies wurde letztens Endes jedoch verworfen"
   ]
  },
  {
   "cell_type": "code",
   "execution_count": null,
   "id": "3ba9514e",
   "metadata": {},
   "outputs": [],
   "source": [
    "import pandas as pd\n",
    "import numpy as np\n",
    "import os\n",
    "import glob\n",
    "from sklearn.preprocessing import StandardScaler\n",
    "from sklearn.decomposition import KernelPCA\n",
    "from sklearn.decomposition import TruncatedSVD\n",
    "import matplotlib.pyplot as plt\n",
    "import seaborn as sns"
   ]
  },
  {
   "cell_type": "code",
   "execution_count": null,
   "id": "71de4f7b",
   "metadata": {},
   "outputs": [],
   "source": [
    "pathToMaschenFile = os.path.join(\"..\", \"..\", \"data\", \"maschenPickled.pickle\")\n",
    "dfMaschen = pd.read_pickle(pathToMaschenFile)\n",
    "dfMaschen"
   ]
  },
  {
   "cell_type": "markdown",
   "id": "b57eacf8",
   "metadata": {},
   "source": [
    "Kernel PCA Analysis"
   ]
  },
  {
   "cell_type": "code",
   "execution_count": null,
   "id": "edf67c14",
   "metadata": {},
   "outputs": [],
   "source": [
    "dfMaschen.drop(dfMaschen.tail(513000).index,inplace=True)\n",
    "dfMaschen"
   ]
  },
  {
   "cell_type": "code",
   "execution_count": null,
   "id": "e54cf623",
   "metadata": {},
   "outputs": [],
   "source": [
    "#Standardize dataframe\n",
    "features = ['latitude', 'longitude', 'movement_state', 'GNSS_velocity']# Separating out the features\n",
    "standMasch_df = dfMaschen.loc[:, features].values# Separating out the target\n",
    "standMasch_df = StandardScaler().fit_transform(standMasch_df)\n",
    "\n",
    "standMasch_df"
   ]
  },
  {
   "cell_type": "code",
   "execution_count": null,
   "id": "18cf1b5b",
   "metadata": {},
   "outputs": [],
   "source": [
    "#apply kernel and then perform PCA\n",
    "kernel_pca = KernelPCA(n_components=2, kernel=\"rbf\", gamma=None, fit_inverse_transform=True, alpha=0.1)\n",
    "principalComponents = kernel_pca.fit_transform(standMasch_df)"
   ]
  },
  {
   "cell_type": "code",
   "execution_count": null,
   "id": "075d9340",
   "metadata": {},
   "outputs": [],
   "source": [
    "#Store results\n",
    "principalDf = pd.DataFrame(data = principalComponents, columns = ['principal component 1', 'principal component 2'])"
   ]
  },
  {
   "cell_type": "code",
   "execution_count": null,
   "id": "9e4fe10d",
   "metadata": {},
   "outputs": [],
   "source": [
    "#Plot results\n",
    "fig = plt.figure(figsize = (8,8))\n",
    "ax = fig.add_subplot(1,1,1) \n",
    "ax.set_xlabel('Principal Component 1', fontsize = 15)\n",
    "ax.set_ylabel('Principal Component 2', fontsize = 15)\n",
    "ax.set_title('2 component kernel PCA', fontsize = 20)\n",
    "\n",
    "ax.scatter(principalDf['principal component 1'],principalDf['principal component 2'])\n",
    "ax.grid()"
   ]
  },
  {
   "cell_type": "code",
   "execution_count": null,
   "id": "69a11371",
   "metadata": {},
   "outputs": [],
   "source": [
    "#Extract first cluster (with high principal component 2)\n",
    "cluster1index = principalDf.loc[principalDf['principal component 2']>=0.25].index\n",
    "cluster1df = dfMaschen.loc[cluster1index]"
   ]
  },
  {
   "cell_type": "code",
   "execution_count": null,
   "id": "9d1e671e",
   "metadata": {},
   "outputs": [],
   "source": [
    "cluster1df.describe()"
   ]
  },
  {
   "cell_type": "markdown",
   "id": "bc7bd395",
   "metadata": {},
   "source": [
    "Kernel PCA with 3 Components"
   ]
  },
  {
   "cell_type": "code",
   "execution_count": null,
   "id": "4b3a9f97",
   "metadata": {},
   "outputs": [],
   "source": [
    "#kernel PCA with 3 components\n",
    "kernel_pca = KernelPCA(n_components=3, kernel=\"rbf\", gamma=None, fit_inverse_transform=True, alpha=0.1)\n",
    "principalComponents_3 = kernel_pca.fit_transform(standMasch_df)"
   ]
  },
  {
   "cell_type": "code",
   "execution_count": null,
   "id": "9690788f",
   "metadata": {},
   "outputs": [],
   "source": [
    "#Store results\n",
    "principalDf_3components = pd.DataFrame(data = principalComponents_3, columns = ['principal component 1', 'principal component 2', 'principal component 3'])"
   ]
  },
  {
   "cell_type": "code",
   "execution_count": null,
   "id": "5de00545",
   "metadata": {},
   "outputs": [],
   "source": [
    "#Plot results\n",
    "fig = plt.figure(figsize = (8,8))\n",
    "ax = fig.add_subplot(projection='3d') \n",
    "ax.set_xlabel('Principal Component 1', fontsize = 15)\n",
    "ax.set_ylabel('Principal Component 2', fontsize = 15)\n",
    "ax.set_zlabel('Principal Component 3', fontsize = 15)\n",
    "ax.set_title('3 Component Kernel PCA', fontsize = 20)\n",
    "\n",
    "ax.scatter(principalDf_3components['principal component 1'],principalDf_3components['principal component 2'],principalDf_3components['principal component 3'])\n",
    "plt.show()"
   ]
  },
  {
   "cell_type": "markdown",
   "id": "bfd20e9d",
   "metadata": {},
   "source": [
    "# Linear Kernel PCA"
   ]
  },
  {
   "cell_type": "code",
   "execution_count": null,
   "id": "1500a25c",
   "metadata": {},
   "outputs": [],
   "source": [
    "#apply linear kernel and then perform PCA\n",
    "kernel_pca = KernelPCA(n_components=2, kernel=\"linear\", gamma=None, fit_inverse_transform=True, alpha=0.1)\n",
    "principalComponents_linear = kernel_pca.fit_transform(standMasch_df)\n",
    "#Store results\n",
    "principalDf_linear = pd.DataFrame(data = principalComponents_linear, columns = ['principal component 1', 'principal component 2'])"
   ]
  },
  {
   "cell_type": "code",
   "execution_count": null,
   "id": "f2fa5410",
   "metadata": {},
   "outputs": [],
   "source": [
    "#Plot results\n",
    "fig = plt.figure(figsize = (8,8))\n",
    "ax = fig.add_subplot(1,1,1) \n",
    "ax.set_xlabel('Principal Component 1', fontsize = 15)\n",
    "ax.set_ylabel('Principal Component 2', fontsize = 15)\n",
    "ax.set_title('2 component linear kernel PCA', fontsize = 20)\n",
    "\n",
    "ax.scatter(principalDf_linear['principal component 1'],principalDf_linear['principal component 2'])\n",
    "ax.grid()"
   ]
  },
  {
   "cell_type": "markdown",
   "id": "1b8d15bf",
   "metadata": {},
   "source": [
    "# Polynomial Kernel"
   ]
  },
  {
   "cell_type": "code",
   "execution_count": null,
   "id": "e2b883de",
   "metadata": {},
   "outputs": [],
   "source": [
    "#apply polynomial kernel and then perform PCA\n",
    "kernel_pca = KernelPCA(n_components=2, kernel=\"poly\", gamma=None, fit_inverse_transform=True, alpha=0.1)\n",
    "principalComponents_poly = kernel_pca.fit_transform(standMasch_df)\n",
    "#Store results\n",
    "principalDf_poly = pd.DataFrame(data = principalComponents_poly, columns = ['principal component 1', 'principal component 2'])"
   ]
  },
  {
   "cell_type": "code",
   "execution_count": null,
   "id": "4f3f0c70",
   "metadata": {},
   "outputs": [],
   "source": [
    "#Plot results\n",
    "fig = plt.figure(figsize = (8,8))\n",
    "ax = fig.add_subplot(1,1,1) \n",
    "ax.set_xlabel('Principal Component 1', fontsize = 15)\n",
    "ax.set_ylabel('Principal Component 2', fontsize = 15)\n",
    "ax.set_title('2 component polynomial kernel PCA', fontsize = 20)\n",
    "\n",
    "ax.scatter(principalDf_poly['principal component 1'],principalDf_poly['principal component 2'])\n",
    "ax.grid()"
   ]
  },
  {
   "cell_type": "code",
   "execution_count": null,
   "id": "9ecf77d9",
   "metadata": {},
   "outputs": [],
   "source": [
    "#TODO: use PCA on entire test data not just practice data, so macht das Geoclustern keinen Sinn\n",
    "# Plot first cluster geodata\n",
    "fig = plt.figure(figsize = (8,8))\n",
    "ax = fig.add_subplot(1,1,1) \n",
    "ax.set_xlabel('latitude', fontsize = 15)\n",
    "ax.set_ylabel('longitude', fontsize = 15)\n",
    "ax.set_title('Cluster 1 Geo Data', fontsize = 20)\n",
    "\n",
    "ax.scatter(cluster1df['latitude'],cluster1df['longitude'],s = 0.1)\n",
    "ax.grid()"
   ]
  },
  {
   "cell_type": "markdown",
   "id": "15d3ee18",
   "metadata": {},
   "source": [
    "# Singular Value Decomposition"
   ]
  },
  {
   "cell_type": "code",
   "execution_count": null,
   "id": "dc344c30",
   "metadata": {},
   "outputs": [],
   "source": [
    "svd = TruncatedSVD(n_components=2, n_iter=7, random_state=42)\n",
    "svd.fit(dfMaschen)"
   ]
  },
  {
   "cell_type": "code",
   "execution_count": null,
   "id": "615731c9",
   "metadata": {},
   "outputs": [],
   "source": [
    "print(svd.explained_variance_ratio_)\n",
    "print(svd.explained_variance_ratio_.sum())\n",
    "print(svd.singular_values_)"
   ]
  },
  {
   "cell_type": "markdown",
   "id": "11a75ed9",
   "metadata": {},
   "source": [
    "# Non linear projections"
   ]
  },
  {
   "cell_type": "code",
   "execution_count": null,
   "id": "058929cc",
   "metadata": {},
   "outputs": [],
   "source": []
  }
 ],
 "metadata": {
  "kernelspec": {
   "display_name": "Python 3",
   "language": "python",
   "name": "python3"
  },
  "language_info": {
   "codemirror_mode": {
    "name": "ipython",
    "version": 3
   },
   "file_extension": ".py",
   "mimetype": "text/x-python",
   "name": "python",
   "nbconvert_exporter": "python",
   "pygments_lexer": "ipython3",
   "version": "3.9.5"
  }
 },
 "nbformat": 4,
 "nbformat_minor": 5
}
