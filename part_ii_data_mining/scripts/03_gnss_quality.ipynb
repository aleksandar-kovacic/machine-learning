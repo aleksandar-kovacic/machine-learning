{
 "cells": [
  {
   "cell_type": "code",
   "execution_count": 1,
   "metadata": {
    "collapsed": true
   },
   "outputs": [],
   "source": [
    "### Importieren der verwendeten Bibliotheken\n",
    "import os\n",
    "import glob\n",
    "import time #optional, um Rechenzeit auszugeben\n",
    "\n",
    "import pandas as pd\n",
    "import numpy as np\n",
    "\n",
    "import matplotlib.pyplot as plt\n",
    "\n",
    "## import additional python functions, scripts:\n",
    "import helper_functions\n",
    "\n",
    "## dummy variables:\n",
    "t = time.time()"
   ]
  },
  {
   "cell_type": "code",
   "execution_count": 34,
   "outputs": [],
   "source": [
    "# Einlesen der gepickelten Daten: (Nach dem picklen und preprocessing. d.h. nach ausführen von \"example_01_preprocessReadInData\" auf das dataset.)\n",
    "fileName = \"01_211203_TUDA_data\"    # hier entsprechenden Dateinamen der .pickle Datei angeben\n",
    "filenamePath = os.path.join(\"..\", \"..\", \"data\", \"TUDA_data\", fileName + \".pickle\")\n",
    "\n",
    "df = pd.read_pickle(filenamePath) # direkt ganze pickle Datei einlesen, effizient!"
   ],
   "metadata": {
    "collapsed": false,
    "pycharm": {
     "name": "#%%\n"
    }
   }
  },
  {
   "cell_type": "code",
   "execution_count": 7,
   "outputs": [
    {
     "data": {
      "text/plain": "12038488"
     },
     "execution_count": 7,
     "metadata": {},
     "output_type": "execute_result"
    }
   ],
   "source": [
    "df.shape[0]\n",
    "#df"
   ],
   "metadata": {
    "collapsed": false,
    "pycharm": {
     "name": "#%%\n"
    }
   }
  },
  {
   "cell_type": "markdown",
   "source": [
    "## Latency"
   ],
   "metadata": {
    "collapsed": false,
    "pycharm": {
     "name": "#%% md\n"
    }
   }
  },
  {
   "cell_type": "code",
   "execution_count": 26,
   "outputs": [
    {
     "data": {
      "text/plain": "count    1.203849e+07\nmean     7.865250e+00\nstd      2.293601e+02\nmin     -6.004000e+00\n25%      1.827000e+00\n50%      2.475000e+00\n75%      7.638000e+00\nmax      2.385791e+05\nName: latency, dtype: float64"
     },
     "execution_count": 26,
     "metadata": {},
     "output_type": "execute_result"
    }
   ],
   "source": [
    "# Erstellen \"Latency\"-Spalte\n",
    "df['latency'] = df['timestamp_index'] - df['timestamp_transfer']\n",
    "df['latency'].describe(include='all')\n"
   ],
   "metadata": {
    "collapsed": false,
    "pycharm": {
     "name": "#%%\n"
    }
   }
  },
  {
   "cell_type": "code",
   "source": [
    "#grobe Statistik-Unterschiede GNSS/mobile\n",
    "latency_grpby_dpos = df.groupby(by='determination_position')['latency']\n",
    "latency_grpby_dpos.describe(include='all')"
   ],
   "metadata": {
    "collapsed": false,
    "pycharm": {
     "name": "#%%\n"
    }
   },
   "execution_count": 6,
   "outputs": [
    {
     "data": {
      "text/plain": "                            count      mean         std    min    25%    50%  \\\ndetermination_position                                                         \n1                       7123432.0  7.711503  173.996104 -6.004  1.841  2.479   \n4                       4915056.0  8.088078  291.497934  0.014  1.805  2.470   \n\n                          75%         max  \ndetermination_position                     \n1                       9.849  219700.072  \n4                       5.332  238579.135  ",
      "text/html": "<div>\n<style scoped>\n    .dataframe tbody tr th:only-of-type {\n        vertical-align: middle;\n    }\n\n    .dataframe tbody tr th {\n        vertical-align: top;\n    }\n\n    .dataframe thead th {\n        text-align: right;\n    }\n</style>\n<table border=\"1\" class=\"dataframe\">\n  <thead>\n    <tr style=\"text-align: right;\">\n      <th></th>\n      <th>count</th>\n      <th>mean</th>\n      <th>std</th>\n      <th>min</th>\n      <th>25%</th>\n      <th>50%</th>\n      <th>75%</th>\n      <th>max</th>\n    </tr>\n    <tr>\n      <th>determination_position</th>\n      <th></th>\n      <th></th>\n      <th></th>\n      <th></th>\n      <th></th>\n      <th></th>\n      <th></th>\n      <th></th>\n    </tr>\n  </thead>\n  <tbody>\n    <tr>\n      <th>1</th>\n      <td>7123432.0</td>\n      <td>7.711503</td>\n      <td>173.996104</td>\n      <td>-6.004</td>\n      <td>1.841</td>\n      <td>2.479</td>\n      <td>9.849</td>\n      <td>219700.072</td>\n    </tr>\n    <tr>\n      <th>4</th>\n      <td>4915056.0</td>\n      <td>8.088078</td>\n      <td>291.497934</td>\n      <td>0.014</td>\n      <td>1.805</td>\n      <td>2.470</td>\n      <td>5.332</td>\n      <td>238579.135</td>\n    </tr>\n  </tbody>\n</table>\n</div>"
     },
     "execution_count": 6,
     "metadata": {},
     "output_type": "execute_result"
    }
   ]
  },
  {
   "cell_type": "code",
   "execution_count": null,
   "outputs": [],
   "source": [
    "high_latency = df[df['latency'] <= 100]\n",
    "high_latency_describe = high_latency['latency'].describe(include='all')\n",
    "high_latency_describe"
   ],
   "metadata": {
    "collapsed": false,
    "pycharm": {
     "name": "#%%\n"
    }
   }
  },
  {
   "cell_type": "code",
   "execution_count": 10,
   "outputs": [
    {
     "data": {
      "text/plain": "wagon_ID                              int64\nloading_state                         int64\nloading_state_update                float64\naltitude                            float64\nlatitude                            float64\nlongitude                           float64\nsignal_quality_satellite            float64\nsignal_quality_hdop                 float64\ndetermination_position                int64\nGNSS_velocity                       float64\ntimestamp_measure_position          float64\ntimestamp_transfer                  float64\nmovement_state                      float64\ntimestamp_measure_movement_state     object\ntimestamp_index                     float64\nprovider                              int64\nwagon_construction                  float64\nwagon_type                          float64\ndtype: object"
     },
     "execution_count": 10,
     "metadata": {},
     "output_type": "execute_result"
    }
   ],
   "source": [
    "#df_latency_grp = pd.cut(latency_grpby_dpos, bins = 10)\n",
    "#plt.hist(df['latency'], bins=100, log=True)\n",
    "#df.dtypes"
   ],
   "metadata": {
    "collapsed": false,
    "pycharm": {
     "name": "#%%\n"
    }
   }
  },
  {
   "cell_type": "code",
   "execution_count": 27,
   "outputs": [
    {
     "data": {
      "text/plain": "(array([5.000000e+00, 2.000000e+01, 2.800000e+01, 5.600000e+01,\n        9.000000e+01, 7.470000e+02, 1.167239e+06, 4.856780e+06,\n        1.911427e+06, 4.713150e+05, 2.645340e+05, 2.016880e+05,\n        1.781200e+05, 1.694590e+05, 1.676030e+05, 1.671010e+05,\n        1.690570e+05, 1.694370e+05, 1.727790e+05, 1.736990e+05,\n        1.651130e+05, 1.505770e+05, 1.338270e+05, 1.121700e+05,\n        9.441100e+04, 8.597200e+04, 7.955100e+04, 7.505100e+04,\n        7.007800e+04, 6.362900e+04, 5.859500e+04, 5.520200e+04,\n        5.037800e+04, 4.660400e+04, 4.120600e+04, 3.658200e+04,\n        3.138700e+04, 2.755800e+04, 2.524500e+04, 2.354200e+04,\n        2.154800e+04, 2.007100e+04, 1.789300e+04, 1.641200e+04,\n        1.571300e+04, 1.512000e+04, 1.458400e+04, 1.367700e+04,\n        1.257000e+04, 1.157400e+04, 1.150200e+04, 1.138600e+04,\n        1.057100e+04, 9.222000e+03, 8.617000e+03, 8.090000e+03,\n        7.941000e+03, 7.734000e+03, 7.093000e+03, 6.889000e+03,\n        6.890000e+03, 6.361000e+03, 5.851000e+03, 5.472000e+03,\n        5.413000e+03, 4.735000e+03, 4.393000e+03, 4.078000e+03,\n        4.149000e+03, 3.796000e+03, 3.189000e+03, 2.688000e+03,\n        2.580000e+03, 2.603000e+03, 2.558000e+03, 2.213000e+03,\n        2.358000e+03, 2.020000e+03, 1.719000e+03, 1.629000e+03,\n        1.378000e+03, 1.332000e+03, 1.266000e+03, 1.314000e+03,\n        1.221000e+03, 9.330000e+02, 1.010000e+03, 9.090000e+02,\n        8.610000e+02, 9.180000e+02, 9.460000e+02, 8.610000e+02,\n        8.800000e+02, 8.870000e+02, 8.700000e+02, 6.040000e+02,\n        6.180000e+02, 6.350000e+02, 5.250000e+02, 4.550000e+02]),\n array([-6.004  , -4.94398, -3.88396, -2.82394, -1.76392, -0.7039 ,\n         0.35612,  1.41614,  2.47616,  3.53618,  4.5962 ,  5.65622,\n         6.71624,  7.77626,  8.83628,  9.8963 , 10.95632, 12.01634,\n        13.07636, 14.13638, 15.1964 , 16.25642, 17.31644, 18.37646,\n        19.43648, 20.4965 , 21.55652, 22.61654, 23.67656, 24.73658,\n        25.7966 , 26.85662, 27.91664, 28.97666, 30.03668, 31.0967 ,\n        32.15672, 33.21674, 34.27676, 35.33678, 36.3968 , 37.45682,\n        38.51684, 39.57686, 40.63688, 41.6969 , 42.75692, 43.81694,\n        44.87696, 45.93698, 46.997  , 48.05702, 49.11704, 50.17706,\n        51.23708, 52.2971 , 53.35712, 54.41714, 55.47716, 56.53718,\n        57.5972 , 58.65722, 59.71724, 60.77726, 61.83728, 62.8973 ,\n        63.95732, 65.01734, 66.07736, 67.13738, 68.1974 , 69.25742,\n        70.31744, 71.37746, 72.43748, 73.4975 , 74.55752, 75.61754,\n        76.67756, 77.73758, 78.7976 , 79.85762, 80.91764, 81.97766,\n        83.03768, 84.0977 , 85.15772, 86.21774, 87.27776, 88.33778,\n        89.3978 , 90.45782, 91.51784, 92.57786, 93.63788, 94.6979 ,\n        95.75792, 96.81794, 97.87796, 98.93798, 99.998  ]),\n <BarContainer object of 100 artists>)"
     },
     "execution_count": 27,
     "metadata": {},
     "output_type": "execute_result"
    },
    {
     "data": {
      "text/plain": "<Figure size 432x288 with 1 Axes>",
      "image/png": "[encoded data removed]"
     },
     "metadata": {
      "needs_background": "light"
     },
     "output_type": "display_data"
    }
   ],
   "source": [
    "plt.hist(high_latency['latency'], bins=100, log=True)"
   ],
   "metadata": {
    "collapsed": false,
    "pycharm": {
     "name": "#%%\n"
    }
   }
  },
  {
   "cell_type": "markdown",
   "source": [
    "## Coverage / Mobile Quality"
   ],
   "metadata": {
    "collapsed": false,
    "pycharm": {
     "name": "#%% md\n"
    }
   }
  },
  {
   "cell_type": "code",
   "execution_count": 13,
   "outputs": [
    {
     "ename": "AttributeError",
     "evalue": "'float' object has no attribute 'astype'",
     "output_type": "error",
     "traceback": [
      "\u001B[1;31m---------------------------------------------------------------------------\u001B[0m",
      "\u001B[1;31mAttributeError\u001B[0m                            Traceback (most recent call last)",
      "\u001B[1;32m~\\AppData\\Local\\Temp/ipykernel_12124/566862766.py\u001B[0m in \u001B[0;36m<module>\u001B[1;34m\u001B[0m\n\u001B[0;32m      1\u001B[0m \u001B[0mdf\u001B[0m\u001B[1;33m.\u001B[0m\u001B[0mdrop\u001B[0m\u001B[1;33m(\u001B[0m\u001B[0mdf\u001B[0m\u001B[1;33m.\u001B[0m\u001B[0mloc\u001B[0m\u001B[1;33m[\u001B[0m\u001B[0mdf\u001B[0m\u001B[1;33m[\u001B[0m\u001B[1;34m'timestamp_measure_movement_state'\u001B[0m\u001B[1;33m]\u001B[0m\u001B[1;33m==\u001B[0m\u001B[1;34m'NaT'\u001B[0m\u001B[1;33m]\u001B[0m\u001B[1;33m.\u001B[0m\u001B[0mindex\u001B[0m\u001B[1;33m,\u001B[0m \u001B[0minplace\u001B[0m\u001B[1;33m=\u001B[0m\u001B[1;32mTrue\u001B[0m\u001B[1;33m)\u001B[0m\u001B[1;33m\u001B[0m\u001B[1;33m\u001B[0m\u001B[0m\n\u001B[1;32m----> 2\u001B[1;33m \u001B[0mdf\u001B[0m\u001B[1;33m[\u001B[0m\u001B[1;34m'timestamp_measure_movement_state'\u001B[0m\u001B[1;33m]\u001B[0m \u001B[1;33m=\u001B[0m \u001B[0mdf\u001B[0m\u001B[1;33m[\u001B[0m\u001B[1;34m'timestamp_measure_movement_state'\u001B[0m\u001B[1;33m]\u001B[0m\u001B[1;33m.\u001B[0m\u001B[0mapply\u001B[0m\u001B[1;33m(\u001B[0m\u001B[1;32mlambda\u001B[0m \u001B[0mx\u001B[0m\u001B[1;33m:\u001B[0m \u001B[0mx\u001B[0m\u001B[1;33m.\u001B[0m\u001B[0mastype\u001B[0m\u001B[1;33m(\u001B[0m\u001B[1;34m'float64'\u001B[0m\u001B[1;33m)\u001B[0m \u001B[1;32mif\u001B[0m \u001B[0mx\u001B[0m \u001B[1;33m!=\u001B[0m \u001B[1;34m'NaT'\u001B[0m \u001B[1;32melse\u001B[0m \u001B[1;34m'NaT'\u001B[0m\u001B[1;33m)\u001B[0m\u001B[1;33m\u001B[0m\u001B[1;33m\u001B[0m\u001B[0m\n\u001B[0m\u001B[0;32m      3\u001B[0m \u001B[1;31m#df['timestamp_measure_movement_state'].astype('float64')\u001B[0m\u001B[1;33m\u001B[0m\u001B[1;33m\u001B[0m\u001B[0m\n\u001B[0;32m      4\u001B[0m \u001B[0mdiff\u001B[0m \u001B[1;33m=\u001B[0m \u001B[0mdf\u001B[0m\u001B[1;33m[\u001B[0m\u001B[1;34m'timestamp_measure_movement_state'\u001B[0m\u001B[1;33m]\u001B[0m \u001B[1;33m-\u001B[0m \u001B[0mdf\u001B[0m\u001B[1;33m[\u001B[0m\u001B[1;34m'timestamp_measure_position'\u001B[0m\u001B[1;33m]\u001B[0m\u001B[1;33m\u001B[0m\u001B[1;33m\u001B[0m\u001B[0m\n\u001B[0;32m      5\u001B[0m \u001B[1;31m#df['coverage'] = df['timestamp_transfer'] - df['timestamp_measure_position']\u001B[0m\u001B[1;33m\u001B[0m\u001B[1;33m\u001B[0m\u001B[0m\n",
      "\u001B[1;32m~\\anaconda3\\envs\\MLA_env_V3\\lib\\site-packages\\pandas\\core\\series.py\u001B[0m in \u001B[0;36mapply\u001B[1;34m(self, func, convert_dtype, args, **kwargs)\u001B[0m\n\u001B[0;32m   4355\u001B[0m         \u001B[0mdtype\u001B[0m\u001B[1;33m:\u001B[0m \u001B[0mfloat64\u001B[0m\u001B[1;33m\u001B[0m\u001B[1;33m\u001B[0m\u001B[0m\n\u001B[0;32m   4356\u001B[0m         \"\"\"\n\u001B[1;32m-> 4357\u001B[1;33m         \u001B[1;32mreturn\u001B[0m \u001B[0mSeriesApply\u001B[0m\u001B[1;33m(\u001B[0m\u001B[0mself\u001B[0m\u001B[1;33m,\u001B[0m \u001B[0mfunc\u001B[0m\u001B[1;33m,\u001B[0m \u001B[0mconvert_dtype\u001B[0m\u001B[1;33m,\u001B[0m \u001B[0margs\u001B[0m\u001B[1;33m,\u001B[0m \u001B[0mkwargs\u001B[0m\u001B[1;33m)\u001B[0m\u001B[1;33m.\u001B[0m\u001B[0mapply\u001B[0m\u001B[1;33m(\u001B[0m\u001B[1;33m)\u001B[0m\u001B[1;33m\u001B[0m\u001B[1;33m\u001B[0m\u001B[0m\n\u001B[0m\u001B[0;32m   4358\u001B[0m \u001B[1;33m\u001B[0m\u001B[0m\n\u001B[0;32m   4359\u001B[0m     def _reduce(\n",
      "\u001B[1;32m~\\anaconda3\\envs\\MLA_env_V3\\lib\\site-packages\\pandas\\core\\apply.py\u001B[0m in \u001B[0;36mapply\u001B[1;34m(self)\u001B[0m\n\u001B[0;32m   1041\u001B[0m             \u001B[1;32mreturn\u001B[0m \u001B[0mself\u001B[0m\u001B[1;33m.\u001B[0m\u001B[0mapply_str\u001B[0m\u001B[1;33m(\u001B[0m\u001B[1;33m)\u001B[0m\u001B[1;33m\u001B[0m\u001B[1;33m\u001B[0m\u001B[0m\n\u001B[0;32m   1042\u001B[0m \u001B[1;33m\u001B[0m\u001B[0m\n\u001B[1;32m-> 1043\u001B[1;33m         \u001B[1;32mreturn\u001B[0m \u001B[0mself\u001B[0m\u001B[1;33m.\u001B[0m\u001B[0mapply_standard\u001B[0m\u001B[1;33m(\u001B[0m\u001B[1;33m)\u001B[0m\u001B[1;33m\u001B[0m\u001B[1;33m\u001B[0m\u001B[0m\n\u001B[0m\u001B[0;32m   1044\u001B[0m \u001B[1;33m\u001B[0m\u001B[0m\n\u001B[0;32m   1045\u001B[0m     \u001B[1;32mdef\u001B[0m \u001B[0magg\u001B[0m\u001B[1;33m(\u001B[0m\u001B[0mself\u001B[0m\u001B[1;33m)\u001B[0m\u001B[1;33m:\u001B[0m\u001B[1;33m\u001B[0m\u001B[1;33m\u001B[0m\u001B[0m\n",
      "\u001B[1;32m~\\anaconda3\\envs\\MLA_env_V3\\lib\\site-packages\\pandas\\core\\apply.py\u001B[0m in \u001B[0;36mapply_standard\u001B[1;34m(self)\u001B[0m\n\u001B[0;32m   1096\u001B[0m                 \u001B[1;31m# List[Union[Callable[..., Any], str]]]]]\"; expected\u001B[0m\u001B[1;33m\u001B[0m\u001B[1;33m\u001B[0m\u001B[0m\n\u001B[0;32m   1097\u001B[0m                 \u001B[1;31m# \"Callable[[Any], Any]\"\u001B[0m\u001B[1;33m\u001B[0m\u001B[1;33m\u001B[0m\u001B[0m\n\u001B[1;32m-> 1098\u001B[1;33m                 mapped = lib.map_infer(\n\u001B[0m\u001B[0;32m   1099\u001B[0m                     \u001B[0mvalues\u001B[0m\u001B[1;33m,\u001B[0m\u001B[1;33m\u001B[0m\u001B[1;33m\u001B[0m\u001B[0m\n\u001B[0;32m   1100\u001B[0m                     \u001B[0mf\u001B[0m\u001B[1;33m,\u001B[0m  \u001B[1;31m# type: ignore[arg-type]\u001B[0m\u001B[1;33m\u001B[0m\u001B[1;33m\u001B[0m\u001B[0m\n",
      "\u001B[1;32m~\\anaconda3\\envs\\MLA_env_V3\\lib\\site-packages\\pandas\\_libs\\lib.pyx\u001B[0m in \u001B[0;36mpandas._libs.lib.map_infer\u001B[1;34m()\u001B[0m\n",
      "\u001B[1;32m~\\AppData\\Local\\Temp/ipykernel_12124/566862766.py\u001B[0m in \u001B[0;36m<lambda>\u001B[1;34m(x)\u001B[0m\n\u001B[0;32m      1\u001B[0m \u001B[0mdf\u001B[0m\u001B[1;33m.\u001B[0m\u001B[0mdrop\u001B[0m\u001B[1;33m(\u001B[0m\u001B[0mdf\u001B[0m\u001B[1;33m.\u001B[0m\u001B[0mloc\u001B[0m\u001B[1;33m[\u001B[0m\u001B[0mdf\u001B[0m\u001B[1;33m[\u001B[0m\u001B[1;34m'timestamp_measure_movement_state'\u001B[0m\u001B[1;33m]\u001B[0m\u001B[1;33m==\u001B[0m\u001B[1;34m'NaT'\u001B[0m\u001B[1;33m]\u001B[0m\u001B[1;33m.\u001B[0m\u001B[0mindex\u001B[0m\u001B[1;33m,\u001B[0m \u001B[0minplace\u001B[0m\u001B[1;33m=\u001B[0m\u001B[1;32mTrue\u001B[0m\u001B[1;33m)\u001B[0m\u001B[1;33m\u001B[0m\u001B[1;33m\u001B[0m\u001B[0m\n\u001B[1;32m----> 2\u001B[1;33m \u001B[0mdf\u001B[0m\u001B[1;33m[\u001B[0m\u001B[1;34m'timestamp_measure_movement_state'\u001B[0m\u001B[1;33m]\u001B[0m \u001B[1;33m=\u001B[0m \u001B[0mdf\u001B[0m\u001B[1;33m[\u001B[0m\u001B[1;34m'timestamp_measure_movement_state'\u001B[0m\u001B[1;33m]\u001B[0m\u001B[1;33m.\u001B[0m\u001B[0mapply\u001B[0m\u001B[1;33m(\u001B[0m\u001B[1;32mlambda\u001B[0m \u001B[0mx\u001B[0m\u001B[1;33m:\u001B[0m \u001B[0mx\u001B[0m\u001B[1;33m.\u001B[0m\u001B[0mastype\u001B[0m\u001B[1;33m(\u001B[0m\u001B[1;34m'float64'\u001B[0m\u001B[1;33m)\u001B[0m \u001B[1;32mif\u001B[0m \u001B[0mx\u001B[0m \u001B[1;33m!=\u001B[0m \u001B[1;34m'NaT'\u001B[0m \u001B[1;32melse\u001B[0m \u001B[1;34m'NaT'\u001B[0m\u001B[1;33m)\u001B[0m\u001B[1;33m\u001B[0m\u001B[1;33m\u001B[0m\u001B[0m\n\u001B[0m\u001B[0;32m      3\u001B[0m \u001B[1;31m#df['timestamp_measure_movement_state'].astype('float64')\u001B[0m\u001B[1;33m\u001B[0m\u001B[1;33m\u001B[0m\u001B[0m\n\u001B[0;32m      4\u001B[0m \u001B[0mdiff\u001B[0m \u001B[1;33m=\u001B[0m \u001B[0mdf\u001B[0m\u001B[1;33m[\u001B[0m\u001B[1;34m'timestamp_measure_movement_state'\u001B[0m\u001B[1;33m]\u001B[0m \u001B[1;33m-\u001B[0m \u001B[0mdf\u001B[0m\u001B[1;33m[\u001B[0m\u001B[1;34m'timestamp_measure_position'\u001B[0m\u001B[1;33m]\u001B[0m\u001B[1;33m\u001B[0m\u001B[1;33m\u001B[0m\u001B[0m\n\u001B[0;32m      5\u001B[0m \u001B[1;31m#df['coverage'] = df['timestamp_transfer'] - df['timestamp_measure_position']\u001B[0m\u001B[1;33m\u001B[0m\u001B[1;33m\u001B[0m\u001B[0m\n",
      "\u001B[1;31mAttributeError\u001B[0m: 'float' object has no attribute 'astype'"
     ]
    }
   ],
   "source": [
    "# Coverage , Probleme mit Datentypen\n",
    "\n",
    "#df.drop(df.loc[df['timestamp_measure_movement_state']=='NaT'].index, inplace=True)\n",
    "#df['timestamp_measure_movement_state'] = df['timestamp_measure_movement_state'].apply(lambda x: x.astype('float64') if x != 'NaT' else 'NaT')\n",
    "#df['timestamp_measure_movement_state'].astype('float64')\n",
    "#diff = df['timestamp_measure_movement_state'] - df['timestamp_measure_position']\n",
    "#df['coverage'] = df['timestamp_transfer'] - df['timestamp_measure_position']\n",
    "#df.shape[0]"
   ],
   "metadata": {
    "collapsed": false,
    "pycharm": {
     "name": "#%%\n"
    }
   }
  },
  {
   "cell_type": "code",
   "execution_count": null,
   "outputs": [],
   "source": [
    "#diff.describe(include='all')\n",
    "#diff.mean()"
   ],
   "metadata": {
    "collapsed": false,
    "pycharm": {
     "name": "#%%\n",
     "is_executing": true
    }
   }
  },
  {
   "cell_type": "markdown",
   "source": [
    "## GNSS Quality"
   ],
   "metadata": {
    "collapsed": false,
    "pycharm": {
     "name": "#%% md\n"
    }
   }
  },
  {
   "cell_type": "code",
   "execution_count": null,
   "outputs": [],
   "source": [
    "counts = df['determination_position'].value_counts()\n",
    "counts"
   ],
   "metadata": {
    "collapsed": false,
    "pycharm": {
     "name": "#%%\n"
    }
   }
  },
  {
   "cell_type": "code",
   "execution_count": 42,
   "outputs": [
    {
     "data": {
      "text/plain": "2.0     2955704\n3.0     1067741\n1.0      606593\n4.0      498551\n5.0      190955\n         ...   \n21.4          1\n18.4          1\n17.3          1\n22.3          1\n47.0          1\nName: signal_quality_hdop, Length: 246, dtype: int64"
     },
     "execution_count": 42,
     "metadata": {},
     "output_type": "execute_result"
    }
   ],
   "source": [
    "counts_hdop = df['signal_quality_hdop'].value_counts()\n",
    "counts_hdop\n"
   ],
   "metadata": {
    "collapsed": false,
    "pycharm": {
     "name": "#%%\n"
    }
   }
  },
  {
   "cell_type": "code",
   "execution_count": 57,
   "outputs": [
    {
     "data": {
      "text/plain": "(-0.051000000000000004, 5.0]    6601326\n(5.0, 10.0]                      405639\n(10.0, 15.0]                      73188\n(15.0, 20.0]                      29361\n(20.0, 25.0]                      13375\n(45.0, 50.0]                        189\n(25.0, 30.0]                         64\n(30.0, 35.0]                         52\n(35.0, 40.0]                         38\n(40.0, 45.0]                         37\nName: signal_quality_hdop, dtype: int64"
     },
     "execution_count": 57,
     "metadata": {},
     "output_type": "execute_result"
    }
   ],
   "source": [
    "df_50 = df[df['signal_quality_hdop'] <= 50]\n",
    "counts_hdop = df_50['signal_quality_hdop'].value_counts(bins=10)\n",
    "counts_hdop"
   ],
   "metadata": {
    "collapsed": false,
    "pycharm": {
     "name": "#%%\n"
    }
   }
  },
  {
   "cell_type": "code",
   "execution_count": 6,
   "outputs": [
    {
     "data": {
      "text/plain": "5.0     935153\n9.0     872774\n6.0     841076\n8.0     831759\n10.0    787423\n7.0     769483\n4.0     730009\n11.0    549212\n12.0    349354\n3.0     228848\n13.0    125195\n2.0      48342\n14.0     29914\n15.0     10421\n1.0       7483\n16.0      3767\n0.0       1548\n17.0      1246\n18.0       333\n19.0        71\n20.0        15\n21.0         4\n22.0         2\nName: signal_quality_satellite, dtype: int64"
     },
     "execution_count": 6,
     "metadata": {},
     "output_type": "execute_result"
    }
   ],
   "source": [
    "counts_satellite = df['signal_quality_satellite'].value_counts()\n",
    "counts_satellite"
   ],
   "metadata": {
    "collapsed": false,
    "pycharm": {
     "name": "#%%\n"
    }
   }
  },
  {
   "cell_type": "code",
   "execution_count": 22,
   "outputs": [],
   "source": [
    "#signal_quality_satellite scalen auf [0,1]\n",
    "df['signal_quality_satellite'] = (df.signal_quality_satellite-df.signal_quality_satellite.min())/(df.signal_quality_satellite.max()-df.signal_quality_satellite.min())\n",
    "\n",
    "#signal_quality_hdop scalen auf [0,1]\n",
    "df['signal_quality_hdop'] = 1 - (df.signal_quality_hdop-df.signal_quality_hdop.min())/(20-df.signal_quality_hdop.min())"
   ],
   "metadata": {
    "collapsed": false,
    "pycharm": {
     "name": "#%%\n"
    }
   }
  },
  {
   "cell_type": "code",
   "execution_count": 60,
   "outputs": [
    {
     "data": {
      "text/plain": "0           6.60\n1           6.55\n2           6.50\n3           6.15\n4           6.45\n            ... \n12038483     NaN\n12038484     NaN\n12038485    4.50\n12038486    3.00\n12038487    3.00\nName: GNSS_quality, Length: 12038488, dtype: float64"
     },
     "execution_count": 60,
     "metadata": {},
     "output_type": "execute_result"
    }
   ],
   "source": [
    "# hdop und satellite zu GNSS_quality zusammenführen. Faktoren können hier noch angepasst werden\n",
    "\n",
    "df['GNSS_quality'] = df['signal_quality_satellite']*0.5 + df['signal_quality_hdop']*0.5\n",
    "\n",
    "# wenn keine GNSS-Daten empfangen werden können, wird der Datensatz zu 0 (NaN --> 0)\n",
    "df['GNSS_quality'].fillna(0)\n",
    "df['GNSS_quality']"
   ],
   "metadata": {
    "collapsed": false,
    "pycharm": {
     "name": "#%%\n"
    }
   }
  },
  {
   "cell_type": "markdown",
   "source": [
    "## Count number of NaN and NaT values\n"
   ],
   "metadata": {
    "collapsed": false,
    "pycharm": {
     "name": "#%% md\n"
    }
   }
  },
  {
   "cell_type": "code",
   "execution_count": 52,
   "outputs": [
    {
     "data": {
      "text/plain": "wagon_ID                                  0\nloading_state                             0\nloading_state_update                      0\naltitude                            4915056\nlatitude                                  0\nlongitude                                 0\nsignal_quality_satellite            4915056\nsignal_quality_hdop                 4915056\ndetermination_position              4915056\nGNSS_velocity                       4915056\ntimestamp_measure_position                0\ntimestamp_transfer                        0\nmovement_state                      7964078\ntimestamp_measure_movement_state    7964078\ntimestamp_index                           0\nprovider                                  0\nwagon_construction                        0\nwagon_type                                0\ndtype: int64"
     },
     "execution_count": 52,
     "metadata": {},
     "output_type": "execute_result"
    }
   ],
   "source": [
    "count_nan_in_df = df.isnull().sum()\n",
    "count_nan_in_df['timestamp_measure_movement_state'] = df.loc[df['timestamp_measure_movement_state'] == 'NaT'].shape[0]\n",
    "count_nan_in_df['timestamp_transfer'] = df.loc[df['timestamp_transfer'] == 'NaT'].shape[0]\n",
    "count_nan_in_df['timestamp_index'] = df.loc[df['timestamp_index'] == 'NaT'].shape[0]\n",
    "count_nan_in_df['timestamp_measure_position'] = df.loc[df['timestamp_measure_position'] == 'NaT'].shape[0]\n",
    "count_nan_in_df['loading_state_update'] = df.loc[df['loading_state_update'] == 'NaT'].shape[0]\n",
    "\n",
    "#add number positions determined by mobile data for comparison (should be the same as the NaN values in signal_quality)\n",
    "count_nan_in_df['determination_position'] = df.loc[df['determination_position'] == 4].shape[0]\n",
    "\n",
    "count_nan_in_df"
   ],
   "metadata": {
    "collapsed": false,
    "pycharm": {
     "name": "#%%\n"
    }
   }
  },
  {
   "cell_type": "code",
   "execution_count": null,
   "outputs": [],
   "source": [],
   "metadata": {
    "collapsed": false,
    "pycharm": {
     "name": "#%%\n"
    }
   }
  }
 ],
 "metadata": {
  "kernelspec": {
   "display_name": "Python 3",
   "language": "python",
   "name": "python3"
  },
  "language_info": {
   "codemirror_mode": {
    "name": "ipython",
    "version": 2
   },
   "file_extension": ".py",
   "mimetype": "text/x-python",
   "name": "python",
   "nbconvert_exporter": "python",
   "pygments_lexer": "ipython2",
   "version": "2.7.6"
  }
 },
 "nbformat": 4,
 "nbformat_minor": 0
}