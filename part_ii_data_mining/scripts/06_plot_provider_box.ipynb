{
 "cells": [
  {
   "cell_type": "code",
   "execution_count": 50,
   "metadata": {
    "collapsed": true
   },
   "outputs": [],
   "source": [
    "import pandas as pd\n",
    "import os\n",
    "import dask.dataframe as dd\n",
    "from matplotlib import pyplot as plt\n",
    "import seaborn as sn\n",
    "\n",
    "from os.path import join"
   ]
  },
  {
   "cell_type": "code",
   "execution_count": 10,
   "outputs": [],
   "source": [
    "file_path = os.path.join(\"..\", \"..\", \"data\", \"TUDA_data\", \"all_TUDA_data.parquet\")\n",
    "ddf = dd.read_parquet(file_path)\n",
    "df = ddf.compute()"
   ],
   "metadata": {
    "collapsed": false,
    "pycharm": {
     "name": "#%%\n"
    }
   }
  },
  {
   "cell_type": "code",
   "execution_count": 11,
   "outputs": [
    {
     "data": {
      "text/plain": "               wagon_ID  loading_state loading_state_update  altitude  \\\n0       763003539712474              1     10 days 02:05:59     397.0   \n1       763003539712474              1     10 days 02:05:59     500.0   \n2       763003539712474              1     10 days 02:05:59     520.0   \n3       763003539712474              1     10 days 02:05:59     520.0   \n4       763003539712474              1     10 days 02:05:59     494.0   \n...                 ...            ...                  ...       ...   \n145282  697603229722475              1      1 days 22:45:39     142.0   \n145283  697603229722475              1      1 days 22:45:39      19.0   \n145284  697603229722475              1      1 days 22:45:39       NaN   \n145285  697603229722475              1      1 days 22:45:39      71.0   \n145286  697603229722475              1      1 days 22:45:39       NaN   \n\n         latitude  longitude  signal_quality_satellite  signal_quality_hdop  \\\n0       48.532852  12.058022                      11.0                  3.5   \n1       48.208541  11.540948                      11.0                  7.2   \n2       48.201575  11.476316                      10.0                  1.8   \n3       48.201575  11.476316                      10.0                  1.8   \n4       48.195102  11.496101                       8.0                  2.2   \n...           ...        ...                       ...                  ...   \n145282  56.015026  12.765823                       5.0                  2.0   \n145283  56.021461  12.767638                       5.0                  2.0   \n145284  56.025329  12.724382                       NaN                  NaN   \n145285  56.025311  12.724693                       0.0                  2.0   \n145286  56.026268  12.721350                       NaN                  NaN   \n\n        determination_position  GNSS_velocity  timestamp_measure_position  \\\n0                            1          89.00                  742419.326   \n1                            1           0.00                  745231.021   \n2                            1           0.00                  747108.221   \n3                            1           0.00                  747708.213   \n4                            1           0.00                  752905.167   \n...                        ...            ...                         ...   \n145282                       1           1.44                  292457.000   \n145283                       1           0.36                  292022.000   \n145284                       4            NaN                  289169.000   \n145285                       1           0.00                  287385.000   \n145286                       4            NaN                  257774.000   \n\n        timestamp_transfer  movement_state  timestamp_measure_movement_state  \\\n0               874874.235             2.0                        742419.326   \n1               874861.516             1.0                        745231.021   \n2               874854.673             1.0                        747108.221   \n3               874851.673             0.0                        747708.213   \n4               874846.923             1.0                        752905.167   \n...                    ...             ...                               ...   \n145282          292473.355             1.0                        292414.000   \n145283          292039.637             1.0                        291951.000   \n145284          291807.267             2.0                        291684.000   \n145285          287399.348             1.0                        287325.000   \n145286          287177.276             2.0                        287054.000   \n\n        timestamp_index  provider  wagon_construction  wagon_type  \n0              874879.0        35                43.0         3.0  \n1              874867.0        35                43.0         3.0  \n2              874861.0        35                43.0         3.0  \n3              874860.0        35                43.0         3.0  \n4              874854.0        35                43.0         3.0  \n...                 ...       ...                 ...         ...  \n145282         292476.0        32                49.0         3.0  \n145283         292042.0        32                49.0         3.0  \n145284         291809.0        32                49.0         3.0  \n145285         287401.0        32                49.0         3.0  \n145286         287179.0        32                49.0         3.0  \n\n[4074410 rows x 18 columns]",
      "text/html": "<div>\n<style scoped>\n    .dataframe tbody tr th:only-of-type {\n        vertical-align: middle;\n    }\n\n    .dataframe tbody tr th {\n        vertical-align: top;\n    }\n\n    .dataframe thead th {\n        text-align: right;\n    }\n</style>\n<table border=\"1\" class=\"dataframe\">\n  <thead>\n    <tr style=\"text-align: right;\">\n      <th></th>\n      <th>wagon_ID</th>\n      <th>loading_state</th>\n      <th>loading_state_update</th>\n      <th>altitude</th>\n      <th>latitude</th>\n      <th>longitude</th>\n      <th>signal_quality_satellite</th>\n      <th>signal_quality_hdop</th>\n      <th>determination_position</th>\n      <th>GNSS_velocity</th>\n      <th>timestamp_measure_position</th>\n      <th>timestamp_transfer</th>\n      <th>movement_state</th>\n      <th>timestamp_measure_movement_state</th>\n      <th>timestamp_index</th>\n      <th>provider</th>\n      <th>wagon_construction</th>\n      <th>wagon_type</th>\n    </tr>\n  </thead>\n  <tbody>\n    <tr>\n      <th>0</th>\n      <td>763003539712474</td>\n      <td>1</td>\n      <td>10 days 02:05:59</td>\n      <td>397.0</td>\n      <td>48.532852</td>\n      <td>12.058022</td>\n      <td>11.0</td>\n      <td>3.5</td>\n      <td>1</td>\n      <td>89.00</td>\n      <td>742419.326</td>\n      <td>874874.235</td>\n      <td>2.0</td>\n      <td>742419.326</td>\n      <td>874879.0</td>\n      <td>35</td>\n      <td>43.0</td>\n      <td>3.0</td>\n    </tr>\n    <tr>\n      <th>1</th>\n      <td>763003539712474</td>\n      <td>1</td>\n      <td>10 days 02:05:59</td>\n      <td>500.0</td>\n      <td>48.208541</td>\n      <td>11.540948</td>\n      <td>11.0</td>\n      <td>7.2</td>\n      <td>1</td>\n      <td>0.00</td>\n      <td>745231.021</td>\n      <td>874861.516</td>\n      <td>1.0</td>\n      <td>745231.021</td>\n      <td>874867.0</td>\n      <td>35</td>\n      <td>43.0</td>\n      <td>3.0</td>\n    </tr>\n    <tr>\n      <th>2</th>\n      <td>763003539712474</td>\n      <td>1</td>\n      <td>10 days 02:05:59</td>\n      <td>520.0</td>\n      <td>48.201575</td>\n      <td>11.476316</td>\n      <td>10.0</td>\n      <td>1.8</td>\n      <td>1</td>\n      <td>0.00</td>\n      <td>747108.221</td>\n      <td>874854.673</td>\n      <td>1.0</td>\n      <td>747108.221</td>\n      <td>874861.0</td>\n      <td>35</td>\n      <td>43.0</td>\n      <td>3.0</td>\n    </tr>\n    <tr>\n      <th>3</th>\n      <td>763003539712474</td>\n      <td>1</td>\n      <td>10 days 02:05:59</td>\n      <td>520.0</td>\n      <td>48.201575</td>\n      <td>11.476316</td>\n      <td>10.0</td>\n      <td>1.8</td>\n      <td>1</td>\n      <td>0.00</td>\n      <td>747708.213</td>\n      <td>874851.673</td>\n      <td>0.0</td>\n      <td>747708.213</td>\n      <td>874860.0</td>\n      <td>35</td>\n      <td>43.0</td>\n      <td>3.0</td>\n    </tr>\n    <tr>\n      <th>4</th>\n      <td>763003539712474</td>\n      <td>1</td>\n      <td>10 days 02:05:59</td>\n      <td>494.0</td>\n      <td>48.195102</td>\n      <td>11.496101</td>\n      <td>8.0</td>\n      <td>2.2</td>\n      <td>1</td>\n      <td>0.00</td>\n      <td>752905.167</td>\n      <td>874846.923</td>\n      <td>1.0</td>\n      <td>752905.167</td>\n      <td>874854.0</td>\n      <td>35</td>\n      <td>43.0</td>\n      <td>3.0</td>\n    </tr>\n    <tr>\n      <th>...</th>\n      <td>...</td>\n      <td>...</td>\n      <td>...</td>\n      <td>...</td>\n      <td>...</td>\n      <td>...</td>\n      <td>...</td>\n      <td>...</td>\n      <td>...</td>\n      <td>...</td>\n      <td>...</td>\n      <td>...</td>\n      <td>...</td>\n      <td>...</td>\n      <td>...</td>\n      <td>...</td>\n      <td>...</td>\n      <td>...</td>\n    </tr>\n    <tr>\n      <th>145282</th>\n      <td>697603229722475</td>\n      <td>1</td>\n      <td>1 days 22:45:39</td>\n      <td>142.0</td>\n      <td>56.015026</td>\n      <td>12.765823</td>\n      <td>5.0</td>\n      <td>2.0</td>\n      <td>1</td>\n      <td>1.44</td>\n      <td>292457.000</td>\n      <td>292473.355</td>\n      <td>1.0</td>\n      <td>292414.000</td>\n      <td>292476.0</td>\n      <td>32</td>\n      <td>49.0</td>\n      <td>3.0</td>\n    </tr>\n    <tr>\n      <th>145283</th>\n      <td>697603229722475</td>\n      <td>1</td>\n      <td>1 days 22:45:39</td>\n      <td>19.0</td>\n      <td>56.021461</td>\n      <td>12.767638</td>\n      <td>5.0</td>\n      <td>2.0</td>\n      <td>1</td>\n      <td>0.36</td>\n      <td>292022.000</td>\n      <td>292039.637</td>\n      <td>1.0</td>\n      <td>291951.000</td>\n      <td>292042.0</td>\n      <td>32</td>\n      <td>49.0</td>\n      <td>3.0</td>\n    </tr>\n    <tr>\n      <th>145284</th>\n      <td>697603229722475</td>\n      <td>1</td>\n      <td>1 days 22:45:39</td>\n      <td>NaN</td>\n      <td>56.025329</td>\n      <td>12.724382</td>\n      <td>NaN</td>\n      <td>NaN</td>\n      <td>4</td>\n      <td>NaN</td>\n      <td>289169.000</td>\n      <td>291807.267</td>\n      <td>2.0</td>\n      <td>291684.000</td>\n      <td>291809.0</td>\n      <td>32</td>\n      <td>49.0</td>\n      <td>3.0</td>\n    </tr>\n    <tr>\n      <th>145285</th>\n      <td>697603229722475</td>\n      <td>1</td>\n      <td>1 days 22:45:39</td>\n      <td>71.0</td>\n      <td>56.025311</td>\n      <td>12.724693</td>\n      <td>0.0</td>\n      <td>2.0</td>\n      <td>1</td>\n      <td>0.00</td>\n      <td>287385.000</td>\n      <td>287399.348</td>\n      <td>1.0</td>\n      <td>287325.000</td>\n      <td>287401.0</td>\n      <td>32</td>\n      <td>49.0</td>\n      <td>3.0</td>\n    </tr>\n    <tr>\n      <th>145286</th>\n      <td>697603229722475</td>\n      <td>1</td>\n      <td>1 days 22:45:39</td>\n      <td>NaN</td>\n      <td>56.026268</td>\n      <td>12.721350</td>\n      <td>NaN</td>\n      <td>NaN</td>\n      <td>4</td>\n      <td>NaN</td>\n      <td>257774.000</td>\n      <td>287177.276</td>\n      <td>2.0</td>\n      <td>287054.000</td>\n      <td>287179.0</td>\n      <td>32</td>\n      <td>49.0</td>\n      <td>3.0</td>\n    </tr>\n  </tbody>\n</table>\n<p>4074410 rows × 18 columns</p>\n</div>"
     },
     "execution_count": 11,
     "metadata": {},
     "output_type": "execute_result"
    }
   ],
   "source": [
    "df"
   ],
   "metadata": {
    "collapsed": false,
    "pycharm": {
     "name": "#%%\n"
    }
   }
  },
  {
   "cell_type": "code",
   "execution_count": 12,
   "outputs": [],
   "source": [
    "def get_gnss_quality(df: pd.DataFrame, weight_satellite: float = 0.5) -> pd.DataFrame:\n",
    "    \"\"\"\n",
    "    adds feature for GPS signal quality\n",
    "        (1) normalize values of signal_quality_satellite and signal_quality_hdop so\n",
    "            that they are between 0 and 1\n",
    "        (2) weighted sum of signal_quality_satellite, signal_quality_hdop\n",
    "            default weights: 0.5/0.5\n",
    "        (3) if no gnss data can be transmitted, signal_quality = 0\n",
    "    :param weight_satellite: weight for signal_quality_satellite for weighted sum\n",
    "    :param df: dask dataframe containing longterm data\n",
    "    :return: dask dataframe with added column for GPS signal quality\n",
    "    \"\"\"\n",
    "    # (1) normalize data\n",
    "    min_quality_satellite = df.signal_quality_satellite.min()\n",
    "    max_quality_satellite = df.signal_quality_satellite.max()\n",
    "    df['signal_quality_satellite'] = (df.signal_quality_satellite - min_quality_satellite) / (\n",
    "            max_quality_satellite - min_quality_satellite)\n",
    "    min_quality_hdop = df.signal_quality_hdop.min()\n",
    "    max_quality_hdop = df.signal_quality_hdop.max()\n",
    "    df['signal_quality_hdop'] = 1 - (df.signal_quality_hdop - min_quality_hdop) / (\n",
    "            max_quality_hdop - min_quality_hdop)\n",
    "\n",
    "    # (2) weighted sum\n",
    "    df['GNSS_quality'] = df['signal_quality_satellite'] * weight_satellite + \\\n",
    "                         df['signal_quality_hdop'] * (1 - weight_satellite)\n",
    "\n",
    "    # (3) fillna\n",
    "    df['GNSS_quality'] = df['GNSS_quality'].fillna(0)\n",
    "    return df"
   ],
   "metadata": {
    "collapsed": false,
    "pycharm": {
     "name": "#%%\n"
    }
   }
  },
  {
   "cell_type": "code",
   "execution_count": 13,
   "outputs": [],
   "source": [
    "# drop signal_quality_hdop >= 10\n",
    "df = df[df.signal_quality_hdop < 10]\n",
    "# drop signal_quality_satellite > 10\n",
    "df = df[df.signal_quality_satellite <= 10]\n",
    "\n",
    "# add features\n",
    "df = get_gnss_quality(df)\n",
    "df[\"mobile_quality\"] = df[\"timestamp_transfer\"] - df[\"timestamp_measure_position\"]\n",
    "df[\"latency\"] = df[\"timestamp_index\"] - df[\"timestamp_transfer\"]\n",
    "\n",
    "# drop negative features\n",
    "df = df[df.GNSS_quality >= 0]\n",
    "df = df[df.mobile_quality >= 0]\n",
    "df = df[df.latency >= 0]"
   ],
   "metadata": {
    "collapsed": false,
    "pycharm": {
     "name": "#%%\n"
    }
   }
  },
  {
   "cell_type": "code",
   "execution_count": 14,
   "outputs": [],
   "source": [
    "df = df[['mobile_quality', 'GNSS_quality', 'latency', 'provider', 'wagon_type']]"
   ],
   "metadata": {
    "collapsed": false,
    "pycharm": {
     "name": "#%%\n"
    }
   }
  },
  {
   "cell_type": "code",
   "execution_count": 47,
   "outputs": [
    {
     "data": {
      "text/plain": "Text(0.5, 1.0, 'latency')"
     },
     "execution_count": 47,
     "metadata": {},
     "output_type": "execute_result"
    },
    {
     "data": {
      "text/plain": "<Figure size 432x288 with 1 Axes>",
      "image/png": "[encoded data removed]"
     },
     "metadata": {},
     "output_type": "display_data"
    }
   ],
   "source": [
    "sn.set_theme(style=\"whitegrid\")\n",
    "fig, ax = plt.subplots()\n",
    "ax = sn.boxplot(x= \"provider\", y= \"latency\", width=0.5, data=df, showfliers = False)\n",
    "ax.set(xlabel='provider', ylabel='latency in s')\n",
    "\n",
    "#Title\n",
    "plt.title('latency', fontsize = 16)"
   ],
   "metadata": {
    "collapsed": false,
    "pycharm": {
     "name": "#%%\n"
    }
   }
  },
  {
   "cell_type": "code",
   "execution_count": 42,
   "outputs": [
    {
     "data": {
      "text/plain": "Text(0.5, 1.0, 'GNSS_quality')"
     },
     "execution_count": 42,
     "metadata": {},
     "output_type": "execute_result"
    },
    {
     "data": {
      "text/plain": "<Figure size 432x288 with 1 Axes>",
      "image/png": "[encoded data removed]"
     },
     "metadata": {},
     "output_type": "display_data"
    }
   ],
   "source": [
    "sn.set_theme(style=\"whitegrid\")\n",
    "fig, ax = plt.subplots()\n",
    "#fig, ax = plt.subplots(figsize=(15,8))\n",
    "ax = sn.boxplot(x= \"provider\", y= \"GNSS_quality\", width=0.5, data=df, showfliers = True)\n",
    "ax.set(xlabel='provider', ylabel='GNSS_quality')\n",
    "\n",
    "#Title\n",
    "plt.title('GNSS_quality', fontsize = 16)\n"
   ],
   "metadata": {
    "collapsed": false,
    "pycharm": {
     "name": "#%%\n"
    }
   }
  },
  {
   "cell_type": "code",
   "execution_count": 49,
   "outputs": [
    {
     "data": {
      "text/plain": "Text(0.5, 1.0, 'mobile_quality')"
     },
     "execution_count": 49,
     "metadata": {},
     "output_type": "execute_result"
    },
    {
     "data": {
      "text/plain": "<Figure size 432x288 with 1 Axes>",
      "image/png": "[encoded data removed]"
     },
     "metadata": {},
     "output_type": "display_data"
    }
   ],
   "source": [
    "sn.set_theme(style=\"whitegrid\")\n",
    "fig, ax = plt.subplots()\n",
    "#fig, ax = plt.subplots(figsize=(15,8))\n",
    "ax = sn.boxplot(x= \"provider\", y= \"mobile_quality\", width=0.5, data=df, showfliers = False)\n",
    "ax.set(xlabel='provider', ylabel='mobile_quality in s')\n",
    "\n",
    "#Title\n",
    "plt.title('mobile_quality', fontsize = 16)"
   ],
   "metadata": {
    "collapsed": false,
    "pycharm": {
     "name": "#%%\n"
    }
   }
  },
  {
   "cell_type": "markdown",
   "source": [
    "# Tests"
   ],
   "metadata": {
    "collapsed": false,
    "pycharm": {
     "name": "#%% md\n"
    }
   }
  },
  {
   "cell_type": "code",
   "execution_count": null,
   "outputs": [],
   "source": [
    "df.boxplot(column= 'mobile_quality', by = 'provider')"
   ],
   "metadata": {
    "collapsed": false,
    "pycharm": {
     "name": "#%%\n"
    }
   }
  },
  {
   "cell_type": "code",
   "execution_count": null,
   "outputs": [],
   "source": [
    "df_prov = df.groupby(['provider']).agg(\n",
    "    {'mobile_quality': ['mean', 'std'],\n",
    "    'GNSS_quality': ['mean', 'std'],\n",
    "    'latency': ['mean', 'std']}).reset_index()"
   ],
   "metadata": {
    "collapsed": false,
    "pycharm": {
     "name": "#%%\n"
    }
   }
  },
  {
   "cell_type": "code",
   "execution_count": null,
   "outputs": [],
   "source": [
    "provider = df_prov['provider']\n",
    "mobile_quality = df_prov['mobile_quality']\n",
    "GNSS_quality = df_prov['GNSS_quality']\n",
    "latency = df_prov['latency']"
   ],
   "metadata": {
    "collapsed": false,
    "pycharm": {
     "name": "#%%\n"
    }
   }
  },
  {
   "cell_type": "code",
   "execution_count": null,
   "outputs": [],
   "source": [
    "fig, ax = plt.subplots()\n",
    "plt.style.use(['mystyle'])\n",
    "ax.bar(provider, mobile_quality['mean'])\n",
    "ax.set(xticks = provider)"
   ],
   "metadata": {
    "collapsed": false,
    "pycharm": {
     "name": "#%%\n"
    }
   }
  },
  {
   "cell_type": "code",
   "execution_count": 5,
   "outputs": [
    {
     "data": {
      "text/plain": "   col1   col2\n0     1  3.456\n1     2  4.852\n2     1  5.565\n3     2  6.232\n4     1  2.112\n5     2  4.036\n6     1  5.059\n7     2  9.435\n8     1  2.252\n9     2  5.142",
      "text/html": "<div>\n<style scoped>\n    .dataframe tbody tr th:only-of-type {\n        vertical-align: middle;\n    }\n\n    .dataframe tbody tr th {\n        vertical-align: top;\n    }\n\n    .dataframe thead th {\n        text-align: right;\n    }\n</style>\n<table border=\"1\" class=\"dataframe\">\n  <thead>\n    <tr style=\"text-align: right;\">\n      <th></th>\n      <th>col1</th>\n      <th>col2</th>\n    </tr>\n  </thead>\n  <tbody>\n    <tr>\n      <th>0</th>\n      <td>1</td>\n      <td>3.456</td>\n    </tr>\n    <tr>\n      <th>1</th>\n      <td>2</td>\n      <td>4.852</td>\n    </tr>\n    <tr>\n      <th>2</th>\n      <td>1</td>\n      <td>5.565</td>\n    </tr>\n    <tr>\n      <th>3</th>\n      <td>2</td>\n      <td>6.232</td>\n    </tr>\n    <tr>\n      <th>4</th>\n      <td>1</td>\n      <td>2.112</td>\n    </tr>\n    <tr>\n      <th>5</th>\n      <td>2</td>\n      <td>4.036</td>\n    </tr>\n    <tr>\n      <th>6</th>\n      <td>1</td>\n      <td>5.059</td>\n    </tr>\n    <tr>\n      <th>7</th>\n      <td>2</td>\n      <td>9.435</td>\n    </tr>\n    <tr>\n      <th>8</th>\n      <td>1</td>\n      <td>2.252</td>\n    </tr>\n    <tr>\n      <th>9</th>\n      <td>2</td>\n      <td>5.142</td>\n    </tr>\n  </tbody>\n</table>\n</div>"
     },
     "execution_count": 5,
     "metadata": {},
     "output_type": "execute_result"
    }
   ],
   "source": [
    "d = {'col1': [1, 2, 1, 2, 1, 2, 1, 2, 1, 2], 'col2': [3.456, 4.852, 5.565, 6.232, 2.112, 4.036, 5.059, 9.435, 2.252, 5.142]}\n",
    "df_test = pd.DataFrame(data=d)\n",
    "df_test"
   ],
   "metadata": {
    "collapsed": false,
    "pycharm": {
     "name": "#%%\n"
    }
   }
  },
  {
   "cell_type": "code",
   "execution_count": 8,
   "outputs": [
    {
     "data": {
      "text/plain": "Text(0.5, 1.0, 'quality')"
     },
     "execution_count": 8,
     "metadata": {},
     "output_type": "execute_result"
    },
    {
     "data": {
      "text/plain": "<Figure size 432x288 with 1 Axes>",
      "image/png": "[encoded data removed]"
     },
     "metadata": {},
     "output_type": "display_data"
    }
   ],
   "source": [
    "sn.set_theme(style=\"whitegrid\")\n",
    "fig, ax = plt.subplots()\n",
    "ax = sn.boxplot(x= \"col1\", y= \"col2\", width=0.5, data=df_test)\n",
    "#Title\n",
    "plt.title('quality', fontsize = 16)"
   ],
   "metadata": {
    "collapsed": false,
    "pycharm": {
     "name": "#%%\n"
    }
   }
  },
  {
   "cell_type": "code",
   "execution_count": null,
   "outputs": [],
   "source": [],
   "metadata": {
    "collapsed": false,
    "pycharm": {
     "name": "#%%\n"
    }
   }
  }
 ],
 "metadata": {
  "kernelspec": {
   "display_name": "Python 3",
   "language": "python",
   "name": "python3"
  },
  "language_info": {
   "codemirror_mode": {
    "name": "ipython",
    "version": 2
   },
   "file_extension": ".py",
   "mimetype": "text/x-python",
   "name": "python",
   "nbconvert_exporter": "python",
   "pygments_lexer": "ipython2",
   "version": "2.7.6"
  }
 },
 "nbformat": 4,
 "nbformat_minor": 0
}