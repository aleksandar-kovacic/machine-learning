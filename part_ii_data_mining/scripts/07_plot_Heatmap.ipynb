{
 "cells": [
  {
   "cell_type": "code",
   "execution_count": null,
   "id": "2d1012d2-48b1-4c8d-b93f-582eafb30e35",
   "metadata": {},
   "outputs": [],
   "source": [
    "import pandas as pd\n",
    "import numpy as np\n",
    "import os\n",
    "import matplotlib.pyplot as plt\n",
    "import glob\n",
    "import geopy\n",
    "import matplotlib as mpl\n",
    "import matplotlib.colors as mcolors\n",
    "\n",
    "\n",
    "from ipywidgets.embed import embed_minimal_html\n",
    "import gmaps\n",
    "import gmaps.datasets\n",
    "gmaps.configure(api_key='...') # Fill in with your API key"
   ]
  },
  {
   "cell_type": "markdown",
   "id": "be17cf75-0eff-4119-b93d-fee20cdba777",
   "metadata": {},
   "source": [
    "# Import Data"
   ]
  },
  {
   "cell_type": "code",
   "execution_count": null,
   "id": "7f547094-16bd-4a55-9b86-62cfb6340427",
   "metadata": {},
   "outputs": [],
   "source": [
    "# Full Version: with provider and determination_position:\n",
    "\n",
    "byProvider = False\n",
    "byPosDet = False\n",
    "Resolution = 6\n",
    "\n",
    "path = os.path.join(\"..\", \"output\",str(\"clusteredData_Resolution=\"+str(Resolution)+\"_byProvider=\"+str(byProvider)+\"_byPosDet=\"+str(byPosDet)+\".csv\"))\n",
    "df_full = pd.read_csv(path)\n",
    "print(path)\n",
    "df_full"
   ]
  },
  {
   "cell_type": "markdown",
   "id": "fff29c62-3998-46ad-81c4-3dad2698887e",
   "metadata": {},
   "source": [
    "# Data Overview"
   ]
  },
  {
   "cell_type": "code",
   "execution_count": null,
   "id": "fc0e8903-8068-4988-b780-9c8891184397",
   "metadata": {},
   "outputs": [],
   "source": [
    "x = np.linspace(0,21288, 21289)\n",
    "y = df_full['count_in_hexbin']\n",
    "y_sort = np.sort(y)\n",
    "y_log = np.log10(y_sort)\n",
    "print('max = ' + str(np.max(y)))\n",
    "print('log10(max) = ' + str(np.max(y_log)))\n",
    "\n",
    "fig, ax = plt.subplots(figsize=(20,5))\n",
    "ax.plot(x, y_log)\n",
    "plt.show()"
   ]
  },
  {
   "cell_type": "markdown",
   "id": "b2f12275-2362-42bd-b215-d710c143b38a",
   "metadata": {},
   "source": [
    "# Heatmap"
   ]
  },
  {
   "cell_type": "code",
   "execution_count": null,
   "id": "85723119-8c68-4b68-bb52-2ce75c521575",
   "metadata": {
    "tags": []
   },
   "outputs": [],
   "source": [
    "locations = df_full[['hexbin_center_lat', 'hexbin_center_lon']]\n",
    "weights = df_full['count_in_hexbin']\n",
    "weights_log = np.log10(weights)\n",
    "max_intensity = 7\n",
    "heatmap_layer = gmaps.heatmap_layer(locations, weights=weights_log, max_intensity=max_intensity, point_radius=0.08)\n",
    "color_gradient = [\n",
    "    (1, 1, 7, 1),\n",
    "    (40, 11, 84, 1),\n",
    "    (100, 21, 110, 1),\n",
    "    (159, 42, 99, 1),\n",
    "    (212, 72, 66, 1),\n",
    "    (245, 124, 22, 1),\n",
    "    (250, 194, 40, 1),\n",
    "    (250, 253, 159, 1)\n",
    "]\n",
    "heatmap_layer.gradient = color_gradient\n",
    "heatmap_layer.dissipating = False\n",
    "figure_layout = {\n",
    "    'width': '800px',\n",
    "    'height': '600px',\n",
    "    'border': '1px solid black',\n",
    "    'padding': '1px'\n",
    "}\n",
    "\n",
    "fig_eur = gmaps.figure(center=[54,16], zoom_level=4.1, layout=figure_layout)\n",
    "\n",
    "fig_eur.add_layer(heatmap_layer)\n",
    "\n",
    "fig_eur"
   ]
  },
  {
   "cell_type": "markdown",
   "id": "f2228ef3-d538-48d1-b021-2bff8aa42bbd",
   "metadata": {},
   "source": [
    "# Legend"
   ]
  },
  {
   "cell_type": "code",
   "execution_count": null,
   "id": "77d0b6b2-15f9-4a59-b754-3794df3a8563",
   "metadata": {},
   "outputs": [],
   "source": [
    "vmin=0  #minimum value to show on colobar\n",
    "vmax =1 #maximum value to show on colobar\n",
    "cmap = mpl.cm.inferno\n",
    "norm = mpl.colors.Normalize(vmin=vmin, vmax =vmax)\n",
    "#generate colors from original colormap in the range equivalent to [vmin, vamx] \n",
    "colors = cmap(np.linspace(1.-(vmax-vmin)/float(vmax), 1, cmap.N))\n",
    "# Create a new colormap from those colors\n",
    "cmap = mpl.colors.LinearSegmentedColormap.from_list('cut_inferno', colors)\n",
    "\n",
    "\n",
    "fig,ax = plt.subplots(figsize=(1,6))\n",
    "\n",
    "ticks = np.linspace(0,7,8)\n",
    "cb = mpl.colorbar.ColorbarBase(ax,cmap=cmap,orientation='vertical')\n",
    "\n",
    "cb.set_ticks(np.linspace(0,1,8))\n",
    "cb.ax.set_yticklabels([\"{:4.2f}\".format(i) for i in ticks])\n",
    "\n",
    "fig.show()"
   ]
  },
  {
   "cell_type": "markdown",
   "id": "49a35863-b4fd-4fcb-a566-7ebc97ea7cfb",
   "metadata": {},
   "source": [
    "# Development"
   ]
  },
  {
   "cell_type": "markdown",
   "id": "3d166fb7-e908-4e24-abba-884617a35d13",
   "metadata": {},
   "source": [
    "not in use"
   ]
  },
  {
   "cell_type": "code",
   "execution_count": null,
   "id": "a781a7b5-e1ec-403e-9623-68bcd067b7df",
   "metadata": {},
   "outputs": [],
   "source": [
    "def get_continuous_cmap(hex_list, float_list=None):\n",
    "    ''' creates and returns a color map that can be used in heat map figures.\n",
    "        If float_list is not provided, colour map graduates linearly between each color in hex_list.\n",
    "        If float_list is provided, each color in hex_list is mapped to the respective location in float_list. \n",
    "\n",
    "        Parameters\n",
    "        ----------\n",
    "        hex_list: list of hex code strings\n",
    "        float_list: list of floats between 0 and 1, same length as hex_list. Must start with 0 and end with 1.\n",
    "\n",
    "        Returns\n",
    "        ----------\n",
    "        colour map'''\n",
    "    rgb_list = [rgb_to_dec(hex_to_rgb(i)) for i in hex_list]\n",
    "    if float_list:\n",
    "        pass\n",
    "    else:\n",
    "        float_list = list(np.linspace(0,1,len(rgb_list)))\n",
    "\n",
    "    cdict = dict()\n",
    "    for num, col in enumerate(['red', 'green', 'blue']):\n",
    "        col_list = [[float_list[i], rgb_list[i][num], rgb_list[i][num]] for i in range(len(float_list))]\n",
    "        cdict[col] = col_list\n",
    "    cmp = mcolors.LinearSegmentedColormap('my_cmp', segmentdata=cdict, N=256)\n",
    "    return cmp\n",
    "\n",
    "color_list = ['#000000', '#0000ff', '#ff00ff', '#ff0000', '#ff8080']\n",
    "\n",
    "def hex_to_rgb(value):\n",
    "    '''\n",
    "    Converts hex to rgb colours\n",
    "    value: string of 6 characters representing a hex colour.\n",
    "    Returns: list length 3 of RGB values'''\n",
    "    value = value.strip(\"#\") # removes hash symbol if present\n",
    "    lv = len(value)\n",
    "    return tuple(int(value[i:i + lv // 3], 16) for i in range(0, lv, lv // 3))\n",
    "\n",
    "\n",
    "def rgb_to_dec(value):\n",
    "    '''\n",
    "    Converts rgb to decimal colours (i.e. divides each value by 256)\n",
    "    value: list (length 3) of RGB values\n",
    "    Returns: list (length 3) of decimal values'''\n",
    "    return [v/256 for v in value]\n",
    "\n",
    "colormap = get_continuous_cmap(color_list)\n",
    "colormap"
   ]
  },
  {
   "cell_type": "code",
   "execution_count": null,
   "id": "5c4834ec-11db-4d3e-8dff-2a96ea4108c5",
   "metadata": {
    "tags": []
   },
   "outputs": [],
   "source": [
    "locations = df_full[['hexbin_center_lat', 'hexbin_center_lon']]\n",
    "weights = df_full['count_in_hexbin']\n",
    "weights_log = np.log10(weights)\n",
    "max_intensity = 7\n",
    "heatmap_layer = gmaps.heatmap_layer(locations, weights=weights_log, max_intensity=max_intensity, point_radius=1)\n",
    "color_gradient = [\n",
    "    (0, 0, 0, 1),\n",
    "    (0, 0, 255, 1),\n",
    "    (255, 0, 255, 1),\n",
    "    (255, 0, 0, 1),\n",
    "    (255, 0, 0, 0.5)\n",
    "]\n",
    "heatmap_layer.gradient = color_gradient\n",
    "\n",
    "figure_layout = {\n",
    "    'width': '600px',\n",
    "    'height': '700px',\n",
    "    'border': '1px solid black',\n",
    "    'padding': '1px'\n",
    "}\n",
    "\n",
    "fig_eur = gmaps.figure(center=[54,16], zoom_level=4.1, layout=figure_layout)\n",
    "\n",
    "fig_eur.add_layer(heatmap_layer)\n",
    "\n",
    "fig_eur"
   ]
  },
  {
   "cell_type": "code",
   "execution_count": null,
   "id": "b0b2cde6-28b4-48bd-be2a-c5b649797a9d",
   "metadata": {
    "tags": []
   },
   "outputs": [],
   "source": [
    "### Deutschland\n",
    "max_intensity_ger = 18\n",
    "heatmap_layer = gmaps.heatmap_layer(locations, weights=weights_log, max_intensity=max_intensity_ger, point_radius=8)\n",
    "\n",
    "heatmap_layer.gradient = color_gradient\n",
    "\n",
    "figure_layout = {\n",
    "    'width': '650px',\n",
    "    'height': '700px',\n",
    "    'border': '1px solid black',\n",
    "    'padding': '1px'\n",
    "}\n",
    "\n",
    "fig_ger = gmaps.figure(center=[51.5,12], zoom_level=6, layout=figure_layout)\n",
    "fig_ger.add_layer(heatmap_layer)\n",
    "\n",
    "fig_ger"
   ]
  },
  {
   "cell_type": "code",
   "execution_count": null,
   "id": "b89531b6-c778-4254-848c-9d5e60e1042c",
   "metadata": {},
   "outputs": [],
   "source": [
    "# Einlesen der gepickelten Daten: (Nach dem picklen und preprocessing. d.h. nach ausführen von \"example_01_preprocessReadInData\" auf das dataset.)\n",
    "fileName = \"01_211203_TUDA_data\"    # hier entsprechenden Dateinamen der .pickle Datei angeben\n",
    "filenamePath = os.path.join(\"..\", \"..\", \"data\", \"TUDA_data\", fileName + \".pickle\")\n",
    "\n",
    "df = pd.read_pickle(filenamePath) # direkt ganze pickle Datei einlesen, effizient!\n",
    "\n",
    "df"
   ]
  },
  {
   "cell_type": "code",
   "execution_count": null,
   "id": "a58c5271-984d-4b23-a61d-8d1a22bee265",
   "metadata": {},
   "outputs": [],
   "source": [
    "locations = df[['latitude', 'longitude']].head(500000)\n",
    "max_intensity = 7\n",
    "heatmap_layer = gmaps.heatmap_layer(locations)\n",
    "color_gradient = [\n",
    "    (1, 1, 7, 1),\n",
    "    (40, 11, 84, 1),\n",
    "    (100, 21, 110, 1),\n",
    "    (159, 42, 99, 1),\n",
    "    (212, 72, 66, 1),\n",
    "    (245, 124, 22, 1),\n",
    "    (250, 194, 40, 1),\n",
    "    (250, 253, 159, 1)\n",
    "]\n",
    "heatmap_layer.gradient = color_gradient\n",
    "heatmap_layer.dissipating = False\n",
    "figure_layout = {\n",
    "    'width': '600px',\n",
    "    'height': '700px',\n",
    "    'border': '1px solid black',\n",
    "    'padding': '1px'\n",
    "}\n",
    "\n",
    "fig_eur = gmaps.figure(center=[54,16], zoom_level=4.1, layout=figure_layout)\n",
    "\n",
    "fig_eur.add_layer(heatmap_layer)\n",
    "\n",
    "fig_eur\n"
   ]
  },
  {
   "cell_type": "code",
   "execution_count": null,
   "id": "9caf5a6a-9469-4d5a-8942-3b76577436cc",
   "metadata": {},
   "outputs": [],
   "source": []
  }
 ],
 "metadata": {
  "kernelspec": {
   "display_name": "Python 3 (ipykernel)",
   "language": "python",
   "name": "python3"
  },
  "language_info": {
   "codemirror_mode": {
    "name": "ipython",
    "version": 3
   },
   "file_extension": ".py",
   "mimetype": "text/x-python",
   "name": "python",
   "nbconvert_exporter": "python",
   "pygments_lexer": "ipython3",
   "version": "3.9.7"
  }
 },
 "nbformat": 4,
 "nbformat_minor": 5
}
